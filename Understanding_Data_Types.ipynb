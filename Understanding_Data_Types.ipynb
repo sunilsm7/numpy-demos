{
  "nbformat": 4,
  "nbformat_minor": 0,
  "metadata": {
    "colab": {
      "name": "Understanding-Data-Types.ipynb",
      "provenance": [],
      "authorship_tag": "ABX9TyMvBHW3IrOdlICw3p2xYVLG",
      "include_colab_link": true
    },
    "kernelspec": {
      "name": "python3",
      "display_name": "Python 3"
    }
  },
  "cells": [
    {
      "cell_type": "markdown",
      "metadata": {
        "id": "view-in-github",
        "colab_type": "text"
      },
      "source": [
        "<a href=\"https://colab.research.google.com/github/sunilsm7/numpy-demos/blob/main/Understanding_Data_Types.ipynb\" target=\"_parent\"><img src=\"https://colab.research.google.com/assets/colab-badge.svg\" alt=\"Open In Colab\"/></a>"
      ]
    },
    {
      "cell_type": "markdown",
      "metadata": {
        "id": "qn_fEqHZFmxL"
      },
      "source": [
        "# Introduction to NumPy"
      ]
    },
    {
      "cell_type": "code",
      "metadata": {
        "id": "bmD4zU6gFnlL"
      },
      "source": [
        "import numpy as np"
      ],
      "execution_count": 2,
      "outputs": []
    },
    {
      "cell_type": "markdown",
      "metadata": {
        "id": "2OP1jOwAIlDr"
      },
      "source": [
        "## Creating Arrays from Python Lists"
      ]
    },
    {
      "cell_type": "code",
      "metadata": {
        "colab": {
          "base_uri": "https://localhost:8080/"
        },
        "id": "UDItMyjCIkr0",
        "outputId": "0c6d216b-dd4e-41e3-b69c-1663719434d8"
      },
      "source": [
        "# integer array:\r\n",
        "np.array([1, 4, 2, 5 ,3])"
      ],
      "execution_count": 3,
      "outputs": [
        {
          "output_type": "execute_result",
          "data": {
            "text/plain": [
              "array([1, 4, 2, 5, 3])"
            ]
          },
          "metadata": {
            "tags": []
          },
          "execution_count": 3
        }
      ]
    },
    {
      "cell_type": "markdown",
      "metadata": {
        "id": "mvEPME6QIz7L"
      },
      "source": [
        "Remember that unlike Python lists, NumPy is constrained to arrays that all contain the same type. If types do not match, NumPy will upcast if possible (here, integers are up-cast to floating point):"
      ]
    },
    {
      "cell_type": "code",
      "metadata": {
        "colab": {
          "base_uri": "https://localhost:8080/"
        },
        "id": "g-yQFoCZI0q7",
        "outputId": "fe68ea98-aa8c-41d0-d8ad-22501a8e0a05"
      },
      "source": [
        "np.array([3.14, 4, 2, 3])"
      ],
      "execution_count": 4,
      "outputs": [
        {
          "output_type": "execute_result",
          "data": {
            "text/plain": [
              "array([3.14, 4.  , 2.  , 3.  ])"
            ]
          },
          "metadata": {
            "tags": []
          },
          "execution_count": 4
        }
      ]
    },
    {
      "cell_type": "markdown",
      "metadata": {
        "id": "OJeVL4GcI757"
      },
      "source": [
        "If we want to explicitly set the data type of the resulting array, we can use the `dtype` keyword:"
      ]
    },
    {
      "cell_type": "code",
      "metadata": {
        "colab": {
          "base_uri": "https://localhost:8080/"
        },
        "id": "hjgdrcZeI5xD",
        "outputId": "ffe7b95c-0284-46b9-ebe3-c23f5a1bc4af"
      },
      "source": [
        "np.array([1, 2, 3, 4], dtype='float32')"
      ],
      "execution_count": 5,
      "outputs": [
        {
          "output_type": "execute_result",
          "data": {
            "text/plain": [
              "array([1., 2., 3., 4.], dtype=float32)"
            ]
          },
          "metadata": {
            "tags": []
          },
          "execution_count": 5
        }
      ]
    },
    {
      "cell_type": "markdown",
      "metadata": {
        "id": "MEz2RNN8JHQb"
      },
      "source": [
        "Finally, unlike Python lists, NumPy arrays can explicitly be multi-dimensional; here's one way of initializing a multidimensional array using a list of lists:"
      ]
    },
    {
      "cell_type": "code",
      "metadata": {
        "colab": {
          "base_uri": "https://localhost:8080/"
        },
        "id": "-oA0zK1xJHyx",
        "outputId": "213f1feb-07dc-4fa0-c38e-ed6f8e67e7a1"
      },
      "source": [
        "# nested lists result in multi-dimensional arrays\r\n",
        "np.array([range(i, i+3) for i in [2, 4, 6]])"
      ],
      "execution_count": 6,
      "outputs": [
        {
          "output_type": "execute_result",
          "data": {
            "text/plain": [
              "array([[2, 3, 4],\n",
              "       [4, 5, 6],\n",
              "       [6, 7, 8]])"
            ]
          },
          "metadata": {
            "tags": []
          },
          "execution_count": 6
        }
      ]
    },
    {
      "cell_type": "markdown",
      "metadata": {
        "id": "vCq_EpNUJabj"
      },
      "source": [
        "The inner lists are treated as rows of the resulting two-dimensional array."
      ]
    },
    {
      "cell_type": "markdown",
      "metadata": {
        "id": "egSchcLKJbFr"
      },
      "source": [
        "## Creating Arrays from Scratch\r\n",
        "\r\n",
        "Especially for larger arrays, it is more efficient to create arrays from scratch using routines built into NumPy. Here are several examples:"
      ]
    },
    {
      "cell_type": "code",
      "metadata": {
        "colab": {
          "base_uri": "https://localhost:8080/"
        },
        "id": "X8Dd2Cs7JdJN",
        "outputId": "5401a1a1-4c24-441e-8f0c-0df4254a7143"
      },
      "source": [
        "# Create a length-10 integer array filled with zeros\r\n",
        "np.zeros(10, dtype='int')"
      ],
      "execution_count": 7,
      "outputs": [
        {
          "output_type": "execute_result",
          "data": {
            "text/plain": [
              "array([0, 0, 0, 0, 0, 0, 0, 0, 0, 0])"
            ]
          },
          "metadata": {
            "tags": []
          },
          "execution_count": 7
        }
      ]
    },
    {
      "cell_type": "code",
      "metadata": {
        "colab": {
          "base_uri": "https://localhost:8080/"
        },
        "id": "_sSMLEmTJmJp",
        "outputId": "da29c09f-7691-4b05-f822-a9515377758d"
      },
      "source": [
        "# Create a 3x5 floating-point array filled with ones\r\n",
        "np.ones((3, 5), dtype='float')"
      ],
      "execution_count": 8,
      "outputs": [
        {
          "output_type": "execute_result",
          "data": {
            "text/plain": [
              "array([[1., 1., 1., 1., 1.],\n",
              "       [1., 1., 1., 1., 1.],\n",
              "       [1., 1., 1., 1., 1.]])"
            ]
          },
          "metadata": {
            "tags": []
          },
          "execution_count": 8
        }
      ]
    },
    {
      "cell_type": "code",
      "metadata": {
        "colab": {
          "base_uri": "https://localhost:8080/"
        },
        "id": "0FlUjQerJyJz",
        "outputId": "74368ac9-81b2-46c9-d6a0-1e7b70cfcce8"
      },
      "source": [
        "# Create a 3x5 array filled with 3.14\r\n",
        "np.full((3, 5), 3.14)"
      ],
      "execution_count": 10,
      "outputs": [
        {
          "output_type": "execute_result",
          "data": {
            "text/plain": [
              "array([[3.14, 3.14, 3.14, 3.14, 3.14],\n",
              "       [3.14, 3.14, 3.14, 3.14, 3.14],\n",
              "       [3.14, 3.14, 3.14, 3.14, 3.14]])"
            ]
          },
          "metadata": {
            "tags": []
          },
          "execution_count": 10
        }
      ]
    },
    {
      "cell_type": "code",
      "metadata": {
        "colab": {
          "base_uri": "https://localhost:8080/"
        },
        "id": "rdX2RdRaJ8Hc",
        "outputId": "d289902b-98c2-4938-bded-55d1dcf811b1"
      },
      "source": [
        "# Create an array filled with a linear sequence\r\n",
        "# Starting at 0, ending at 20, stepping by 2\r\n",
        "# (this is similar to the built-in range() function)\r\n",
        "np.arange(0, 20, 2)"
      ],
      "execution_count": 11,
      "outputs": [
        {
          "output_type": "execute_result",
          "data": {
            "text/plain": [
              "array([ 0,  2,  4,  6,  8, 10, 12, 14, 16, 18])"
            ]
          },
          "metadata": {
            "tags": []
          },
          "execution_count": 11
        }
      ]
    },
    {
      "cell_type": "code",
      "metadata": {
        "colab": {
          "base_uri": "https://localhost:8080/"
        },
        "id": "1d0r8SH2KFZz",
        "outputId": "c5bc017e-322f-480c-b6cf-03d2da5491f3"
      },
      "source": [
        "# Create an array of five values evenly spaced between 0 and 1\r\n",
        "np.linspace(0, 1, 5)"
      ],
      "execution_count": 13,
      "outputs": [
        {
          "output_type": "execute_result",
          "data": {
            "text/plain": [
              "array([0.  , 0.25, 0.5 , 0.75, 1.  ])"
            ]
          },
          "metadata": {
            "tags": []
          },
          "execution_count": 13
        }
      ]
    },
    {
      "cell_type": "code",
      "metadata": {
        "colab": {
          "base_uri": "https://localhost:8080/"
        },
        "id": "73VyOLM9KOR2",
        "outputId": "ea211589-d7d8-4603-cf48-bdffd2e22c16"
      },
      "source": [
        "# Create a 3x3 array of uniformly distributed\r\n",
        "# random values between 0 and 1\r\n",
        "np.random.random((3, 3))"
      ],
      "execution_count": 15,
      "outputs": [
        {
          "output_type": "execute_result",
          "data": {
            "text/plain": [
              "array([[0.54902508, 0.99729596, 0.35454942],\n",
              "       [0.03399507, 0.81933618, 0.53201308],\n",
              "       [0.51714943, 0.24414078, 0.17408021]])"
            ]
          },
          "metadata": {
            "tags": []
          },
          "execution_count": 15
        }
      ]
    },
    {
      "cell_type": "code",
      "metadata": {
        "colab": {
          "base_uri": "https://localhost:8080/"
        },
        "id": "hFi0g6VFKVve",
        "outputId": "1da2b492-2e72-4426-ef2e-525db4086fef"
      },
      "source": [
        "# Create a 3x3 array of normally distributed random values\r\n",
        "# with mean 0 and standard deviation 1\r\n",
        "np.random.normal(0, 1, (3, 3))"
      ],
      "execution_count": 16,
      "outputs": [
        {
          "output_type": "execute_result",
          "data": {
            "text/plain": [
              "array([[ 2.02966564,  0.69364495,  1.10729586],\n",
              "       [-0.06053734,  2.1587617 , -1.32378525],\n",
              "       [ 2.13987137, -0.93096626,  1.23418421]])"
            ]
          },
          "metadata": {
            "tags": []
          },
          "execution_count": 16
        }
      ]
    },
    {
      "cell_type": "code",
      "metadata": {
        "colab": {
          "base_uri": "https://localhost:8080/"
        },
        "id": "-gYsQMASKxuz",
        "outputId": "4e6084fe-4973-407d-8372-0c9e51615309"
      },
      "source": [
        "# Create a 3x3 array of random integers in the interval [0, 10)\r\n",
        "np.random.randint(0, 10, (3, 3))"
      ],
      "execution_count": 18,
      "outputs": [
        {
          "output_type": "execute_result",
          "data": {
            "text/plain": [
              "array([[4, 1, 0],\n",
              "       [6, 9, 4],\n",
              "       [5, 9, 6]])"
            ]
          },
          "metadata": {
            "tags": []
          },
          "execution_count": 18
        }
      ]
    },
    {
      "cell_type": "code",
      "metadata": {
        "colab": {
          "base_uri": "https://localhost:8080/"
        },
        "id": "nJHTLFz-Kz_-",
        "outputId": "b5de5153-8e10-4cd6-d67f-cce3f509a93f"
      },
      "source": [
        "# Create a 3x3 identity matrix\r\n",
        "np.eye(3)"
      ],
      "execution_count": 19,
      "outputs": [
        {
          "output_type": "execute_result",
          "data": {
            "text/plain": [
              "array([[1., 0., 0.],\n",
              "       [0., 1., 0.],\n",
              "       [0., 0., 1.]])"
            ]
          },
          "metadata": {
            "tags": []
          },
          "execution_count": 19
        }
      ]
    },
    {
      "cell_type": "code",
      "metadata": {
        "colab": {
          "base_uri": "https://localhost:8080/"
        },
        "id": "TYYuU8_aLBbN",
        "outputId": "76f1f83a-3b6b-47a4-a796-b103e0a53457"
      },
      "source": [
        "# Create an uninitialized array of three integers\r\n",
        "# The values will be whatever happens to already exist at that memory location\r\n",
        "np.empty(3)"
      ],
      "execution_count": 20,
      "outputs": [
        {
          "output_type": "execute_result",
          "data": {
            "text/plain": [
              "array([1., 1., 1.])"
            ]
          },
          "metadata": {
            "tags": []
          },
          "execution_count": 20
        }
      ]
    },
    {
      "cell_type": "markdown",
      "metadata": {
        "id": "rhmPgvGhLLBF"
      },
      "source": [
        "## NumPy Standard Data Types\r\n",
        "\r\n",
        "NumPy arrays contain values of a single type, so it is important to have detailed knowledge of those types and their limitations. Because NumPy is built in C, the types will be familiar to users of C, Fortran, and other related languages.\r\n",
        "\r\n",
        "The standard NumPy data types are listed in the following table. Note that when constructing an array, they can be specified using a string:\r\n",
        " >     `np.zeros(10, dtype='int16')`\r\n",
        "\r\n",
        "Or using the associated NumPy object:\r\n",
        " >     `np.zeros(10, dtype=np.int16)`\r\n",
        " \r\n"
      ]
    },
    {
      "cell_type": "markdown",
      "metadata": {
        "id": "FicblruVL86V"
      },
      "source": [
        "![image.png](data:image/png;base64,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)"
      ]
    }
  ]
}