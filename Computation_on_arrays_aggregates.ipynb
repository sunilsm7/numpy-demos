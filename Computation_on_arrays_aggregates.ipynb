{
  "nbformat": 4,
  "nbformat_minor": 0,
  "metadata": {
    "colab": {
      "name": "Computation-on-arrays-aggregates.ipynb",
      "provenance": [],
      "authorship_tag": "ABX9TyPwY0sew/GB1C7ycmN3WBAw",
      "include_colab_link": true
    },
    "kernelspec": {
      "name": "python3",
      "display_name": "Python 3"
    }
  },
  "cells": [
    {
      "cell_type": "markdown",
      "metadata": {
        "id": "view-in-github",
        "colab_type": "text"
      },
      "source": [
        "<a href=\"https://colab.research.google.com/github/sunilsm7/numpy-demos/blob/main/Computation_on_arrays_aggregates.ipynb\" target=\"_parent\"><img src=\"https://colab.research.google.com/assets/colab-badge.svg\" alt=\"Open In Colab\"/></a>"
      ]
    },
    {
      "cell_type": "markdown",
      "metadata": {
        "id": "NnhMaGyZCAVC"
      },
      "source": [
        "# Aggregations: Min, Max, and Everything In Between"
      ]
    },
    {
      "cell_type": "code",
      "metadata": {
        "id": "MH6kMYyeCCjL"
      },
      "source": [
        "import numpy as np"
      ],
      "execution_count": 2,
      "outputs": []
    },
    {
      "cell_type": "markdown",
      "metadata": {
        "id": "6xSTJkDKCJ1r"
      },
      "source": [
        "## Summing the Values in an Array"
      ]
    },
    {
      "cell_type": "markdown",
      "metadata": {
        "id": "HcoyfhXECdVp"
      },
      "source": [
        "As a quick example, consider computing the sum of all values in an array. Python itself can do this using the built-in `sum `function:"
      ]
    },
    {
      "cell_type": "code",
      "metadata": {
        "id": "AQHV-APrCN6t"
      },
      "source": [
        "L = np.random.random(100)"
      ],
      "execution_count": 4,
      "outputs": []
    },
    {
      "cell_type": "code",
      "metadata": {
        "colab": {
          "base_uri": "https://localhost:8080/"
        },
        "id": "Jb4IVNqoCYeZ",
        "outputId": "8a9db131-a675-467a-80a1-a66e26619405"
      },
      "source": [
        "sum(L)"
      ],
      "execution_count": 6,
      "outputs": [
        {
          "output_type": "execute_result",
          "data": {
            "text/plain": [
              "42.56106080637119"
            ]
          },
          "metadata": {
            "tags": []
          },
          "execution_count": 6
        }
      ]
    },
    {
      "cell_type": "markdown",
      "metadata": {
        "id": "o3CKpMIiCkcp"
      },
      "source": [
        "The syntax is quite similar to that of NumPy's sum function, and the result is the same in the simplest case:"
      ]
    },
    {
      "cell_type": "code",
      "metadata": {
        "colab": {
          "base_uri": "https://localhost:8080/"
        },
        "id": "K799YS2ACPpT",
        "outputId": "a2286afc-67fe-449a-8524-701e65fcb11c"
      },
      "source": [
        "np.sum(L)"
      ],
      "execution_count": 5,
      "outputs": [
        {
          "output_type": "execute_result",
          "data": {
            "text/plain": [
              "42.56106080637119"
            ]
          },
          "metadata": {
            "tags": []
          },
          "execution_count": 5
        }
      ]
    },
    {
      "cell_type": "markdown",
      "metadata": {
        "id": "YejieyCsCnzz"
      },
      "source": [
        "However, because it executes the operation in compiled code, NumPy's version of the operation is computed much more quickly:"
      ]
    },
    {
      "cell_type": "code",
      "metadata": {
        "colab": {
          "base_uri": "https://localhost:8080/"
        },
        "id": "LQdHFgQ_CoLc",
        "outputId": "824eea51-f50e-4b44-d54b-fe0ac63b4866"
      },
      "source": [
        "big_array = np.random.rand(1000000)\r\n",
        "%timeit sum(big_array)\r\n",
        "%timeit np.sum(big_array)"
      ],
      "execution_count": 7,
      "outputs": [
        {
          "output_type": "stream",
          "text": [
            "10 loops, best of 3: 144 ms per loop\n",
            "1000 loops, best of 3: 333 µs per loop\n"
          ],
          "name": "stdout"
        }
      ]
    },
    {
      "cell_type": "markdown",
      "metadata": {
        "id": "7ZBpwAdVC0T1"
      },
      "source": [
        "## Minimum and Maximum\r\n",
        "\r\n",
        "Similarly, Python has built-in min and max functions, used to find the minimum value and maximum value of any given array"
      ]
    },
    {
      "cell_type": "code",
      "metadata": {
        "colab": {
          "base_uri": "https://localhost:8080/"
        },
        "id": "rl3beQc2CzUj",
        "outputId": "b22a77c0-f618-46cf-eaea-b8e5ae1be714"
      },
      "source": [
        "np.min(big_array), np.max(big_array)"
      ],
      "execution_count": 8,
      "outputs": [
        {
          "output_type": "execute_result",
          "data": {
            "text/plain": [
              "(4.092006054889907e-06, 0.9999996313334537)"
            ]
          },
          "metadata": {
            "tags": []
          },
          "execution_count": 8
        }
      ]
    },
    {
      "cell_type": "markdown",
      "metadata": {
        "id": "z_sFg1v-DF7G"
      },
      "source": [
        "### Multi dimensional aggregates\r\n",
        "\r\n",
        "One common type of aggregation operation is an aggregate along a row or column. Say you have some data stored in a two-dimensional array:"
      ]
    },
    {
      "cell_type": "code",
      "metadata": {
        "colab": {
          "base_uri": "https://localhost:8080/"
        },
        "id": "XuINgUXHDH0h",
        "outputId": "1330f928-f7d2-4fc2-cc42-07d95aba7dd3"
      },
      "source": [
        "M = np.random.random((3, 4))\r\n",
        "print(M)"
      ],
      "execution_count": 9,
      "outputs": [
        {
          "output_type": "stream",
          "text": [
            "[[0.14985666 0.40903817 0.95485948 0.06196297]\n",
            " [0.09411898 0.96563384 0.99839512 0.55998699]\n",
            " [0.11065735 0.13663527 0.08751354 0.50430873]]\n"
          ],
          "name": "stdout"
        }
      ]
    },
    {
      "cell_type": "markdown",
      "metadata": {
        "id": "j_hKf9PxDVqH"
      },
      "source": [
        "By default, each NumPy aggregation function will return the aggregate over the entire array:"
      ]
    },
    {
      "cell_type": "code",
      "metadata": {
        "colab": {
          "base_uri": "https://localhost:8080/"
        },
        "id": "koB5owpQDWMX",
        "outputId": "49e5dcb2-74f8-412f-883e-58be87a5e0c2"
      },
      "source": [
        "M.sum()"
      ],
      "execution_count": 10,
      "outputs": [
        {
          "output_type": "execute_result",
          "data": {
            "text/plain": [
              "5.032967108592468"
            ]
          },
          "metadata": {
            "tags": []
          },
          "execution_count": 10
        }
      ]
    },
    {
      "cell_type": "markdown",
      "metadata": {
        "id": "ldTucJuVDcbX"
      },
      "source": [
        "Aggregation functions take an additional argument specifying the `axis` along which the aggregate is computed. For example, we can find the minimum value within each column by specifying `axis=0`:"
      ]
    },
    {
      "cell_type": "code",
      "metadata": {
        "colab": {
          "base_uri": "https://localhost:8080/"
        },
        "id": "cvXc_ys_DZ--",
        "outputId": "cf82a58b-8160-4f57-882f-2d76c92dcbc4"
      },
      "source": [
        "M.min(axis=0)"
      ],
      "execution_count": 11,
      "outputs": [
        {
          "output_type": "execute_result",
          "data": {
            "text/plain": [
              "array([0.09411898, 0.13663527, 0.08751354, 0.06196297])"
            ]
          },
          "metadata": {
            "tags": []
          },
          "execution_count": 11
        }
      ]
    },
    {
      "cell_type": "markdown",
      "metadata": {
        "id": "lEuY5Lf-Dmeu"
      },
      "source": [
        "The function returns four values, corresponding to the four columns of numbers.\r\n",
        "\r\n",
        "Similarly, we can find the maximum value within each row:"
      ]
    },
    {
      "cell_type": "code",
      "metadata": {
        "colab": {
          "base_uri": "https://localhost:8080/"
        },
        "id": "1s7oX-oBDnAG",
        "outputId": "49c55e0f-6b88-4ff1-a8b2-e48de8d939a7"
      },
      "source": [
        "M.max(axis=1)"
      ],
      "execution_count": 12,
      "outputs": [
        {
          "output_type": "execute_result",
          "data": {
            "text/plain": [
              "array([0.95485948, 0.99839512, 0.50430873])"
            ]
          },
          "metadata": {
            "tags": []
          },
          "execution_count": 12
        }
      ]
    },
    {
      "cell_type": "markdown",
      "metadata": {
        "id": "nJ0Y9HIxD0f8"
      },
      "source": [
        "### Other aggregation functions\r\n",
        "\r\n",
        "\r\n",
        "![image.png](data:image/png;base64,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)"
      ]
    }
  ]
}