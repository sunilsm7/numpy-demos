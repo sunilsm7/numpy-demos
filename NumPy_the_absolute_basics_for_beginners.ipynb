{
  "nbformat": 4,
  "nbformat_minor": 0,
  "metadata": {
    "colab": {
      "name": "NumPy: the absolute basics for beginners.ipynb",
      "provenance": [],
      "authorship_tag": "ABX9TyPnyYcsiRw085jjDqijQfry",
      "include_colab_link": true
    },
    "kernelspec": {
      "name": "python3",
      "display_name": "Python 3"
    }
  },
  "cells": [
    {
      "cell_type": "markdown",
      "metadata": {
        "id": "view-in-github",
        "colab_type": "text"
      },
      "source": [
        "<a href=\"https://colab.research.google.com/github/sunilsm7/numpy-demos/blob/main/NumPy_the_absolute_basics_for_beginners.ipynb\" target=\"_parent\"><img src=\"https://colab.research.google.com/assets/colab-badge.svg\" alt=\"Open In Colab\"/></a>"
      ]
    },
    {
      "cell_type": "markdown",
      "metadata": {
        "id": "84bmzLK5ycJR"
      },
      "source": [
        "# NumPy: the absolute basics for beginners"
      ]
    },
    {
      "cell_type": "code",
      "metadata": {
        "id": "JkX87f8XyezJ"
      },
      "source": [
        "import numpy as np"
      ],
      "execution_count": 28,
      "outputs": []
    },
    {
      "cell_type": "markdown",
      "metadata": {
        "id": "fW3cuglN46mY"
      },
      "source": [
        "### How to create a basic array\r\n",
        "\r\n",
        "This section covers `np.array()`, `np.zeros()`, `np.ones()`, `np.empty()`, `np.arange()`, `np.linspace()`, `dtype`"
      ]
    },
    {
      "cell_type": "code",
      "metadata": {
        "colab": {
          "base_uri": "https://localhost:8080/"
        },
        "id": "E9WsxqaVyugJ",
        "outputId": "e44b26bb-9b77-476c-8499-df1bb7dfe482"
      },
      "source": [
        "a = np.array([1, 2, 3, 4, 5, 6])\r\n",
        "print(a)"
      ],
      "execution_count": 29,
      "outputs": [
        {
          "output_type": "stream",
          "text": [
            "[1 2 3 4 5 6]\n"
          ],
          "name": "stdout"
        }
      ]
    },
    {
      "cell_type": "code",
      "metadata": {
        "colab": {
          "base_uri": "https://localhost:8080/"
        },
        "id": "ZRqj3K384aUZ",
        "outputId": "74eb1215-8d07-41a4-baa4-6b945e678ffb"
      },
      "source": [
        "b = np.array([[1, 2, 3, 4], [5, 6, 7, 8], [9, 10, 11, 12]])\r\n",
        "print(b)"
      ],
      "execution_count": 30,
      "outputs": [
        {
          "output_type": "stream",
          "text": [
            "[[ 1  2  3  4]\n",
            " [ 5  6  7  8]\n",
            " [ 9 10 11 12]]\n"
          ],
          "name": "stdout"
        }
      ]
    },
    {
      "cell_type": "code",
      "metadata": {
        "colab": {
          "base_uri": "https://localhost:8080/"
        },
        "id": "kqgd5J2z4f55",
        "outputId": "9fc3c535-0153-4533-f10d-090b60a9da36"
      },
      "source": [
        "#  an array filled with 0’s\r\n",
        "np.zeros(2)"
      ],
      "execution_count": 31,
      "outputs": [
        {
          "output_type": "execute_result",
          "data": {
            "text/plain": [
              "array([0., 0.])"
            ]
          },
          "metadata": {
            "tags": []
          },
          "execution_count": 31
        }
      ]
    },
    {
      "cell_type": "code",
      "metadata": {
        "colab": {
          "base_uri": "https://localhost:8080/"
        },
        "id": "uBevoyZN5UZI",
        "outputId": "2bfa4676-6c43-4a88-95d9-68cec4986e83"
      },
      "source": [
        "#  an array filled with 1’s\r\n",
        "np.ones(2)"
      ],
      "execution_count": 32,
      "outputs": [
        {
          "output_type": "execute_result",
          "data": {
            "text/plain": [
              "array([1., 1.])"
            ]
          },
          "metadata": {
            "tags": []
          },
          "execution_count": 32
        }
      ]
    },
    {
      "cell_type": "code",
      "metadata": {
        "colab": {
          "base_uri": "https://localhost:8080/"
        },
        "id": "dPv15v2g5cHp",
        "outputId": "0401e6d0-fd37-4a93-82d8-256be2e74ec2"
      },
      "source": [
        "# Create an empty array with 2 elements\r\n",
        "np.empty(3)"
      ],
      "execution_count": 33,
      "outputs": [
        {
          "output_type": "execute_result",
          "data": {
            "text/plain": [
              "array([2.20719914e-316, 0.00000000e+000, 0.00000000e+000])"
            ]
          },
          "metadata": {
            "tags": []
          },
          "execution_count": 33
        }
      ]
    },
    {
      "cell_type": "code",
      "metadata": {
        "colab": {
          "base_uri": "https://localhost:8080/"
        },
        "id": "YKDUC7xk5kfg",
        "outputId": "46037039-671a-4386-9488-be889298ef3a"
      },
      "source": [
        "# array with a range of elements\r\n",
        "np.arange(4)"
      ],
      "execution_count": 34,
      "outputs": [
        {
          "output_type": "execute_result",
          "data": {
            "text/plain": [
              "array([0, 1, 2, 3])"
            ]
          },
          "metadata": {
            "tags": []
          },
          "execution_count": 34
        }
      ]
    },
    {
      "cell_type": "code",
      "metadata": {
        "colab": {
          "base_uri": "https://localhost:8080/"
        },
        "id": "QptPAUEp5w4o",
        "outputId": "84da46f7-10fc-4684-e060-d14f89b127c7"
      },
      "source": [
        "# And even an array that contains a range of evenly spaced intervals. To do this, you will specify the first number, last number, and the step size\r\n",
        "np.arange(2, 9, 2)"
      ],
      "execution_count": 35,
      "outputs": [
        {
          "output_type": "execute_result",
          "data": {
            "text/plain": [
              "array([2, 4, 6, 8])"
            ]
          },
          "metadata": {
            "tags": []
          },
          "execution_count": 35
        }
      ]
    },
    {
      "cell_type": "markdown",
      "metadata": {
        "id": "oNHinN2Q6Jtr"
      },
      "source": [
        "### Specifying your data type\r\n",
        "\r\n",
        "`Default data type is floating point (np.float64`)"
      ]
    },
    {
      "cell_type": "code",
      "metadata": {
        "colab": {
          "base_uri": "https://localhost:8080/"
        },
        "id": "Zv9nYH3x6RMK",
        "outputId": "00d5a2e4-d547-4850-857f-46fc9a701039"
      },
      "source": [
        "x = np.ones(2, dtype=np.int64)\r\n",
        "print(x)"
      ],
      "execution_count": 36,
      "outputs": [
        {
          "output_type": "stream",
          "text": [
            "[1 1]\n"
          ],
          "name": "stdout"
        }
      ]
    },
    {
      "cell_type": "markdown",
      "metadata": {
        "id": "VSBsKeSB69DJ"
      },
      "source": [
        "## Adding, removing, and sorting elements\r\n",
        "\r\n",
        "covers `np.sort()`, `np.concatenate()`"
      ]
    },
    {
      "cell_type": "code",
      "metadata": {
        "colab": {
          "base_uri": "https://localhost:8080/"
        },
        "id": "lFXJaJKR6-hZ",
        "outputId": "acf12fa3-d1f8-4d80-9d03-ca886d3bf7c5"
      },
      "source": [
        "# Sorting an element is simple with np.sort(). You can specify the axis, kind, and order when you call the function.\r\n",
        "arr = np.array([2, 1, 5, 3, 7, 4, 6, 8])\r\n",
        "np.sort(arr)"
      ],
      "execution_count": 37,
      "outputs": [
        {
          "output_type": "execute_result",
          "data": {
            "text/plain": [
              "array([1, 2, 3, 4, 5, 6, 7, 8])"
            ]
          },
          "metadata": {
            "tags": []
          },
          "execution_count": 37
        }
      ]
    },
    {
      "cell_type": "code",
      "metadata": {
        "colab": {
          "base_uri": "https://localhost:8080/"
        },
        "id": "xv6pze0U7RFy",
        "outputId": "86e6f5db-c763-4142-e2cc-e08e446489ac"
      },
      "source": [
        "# concatenate\r\n",
        "a = np.array([1, 2, 3, 4])\r\n",
        "b = np.array([5, 6, 7, 8])\r\n",
        "\r\n",
        "np.concatenate((a, b))"
      ],
      "execution_count": 38,
      "outputs": [
        {
          "output_type": "execute_result",
          "data": {
            "text/plain": [
              "array([1, 2, 3, 4, 5, 6, 7, 8])"
            ]
          },
          "metadata": {
            "tags": []
          },
          "execution_count": 38
        }
      ]
    },
    {
      "cell_type": "code",
      "metadata": {
        "colab": {
          "base_uri": "https://localhost:8080/"
        },
        "id": "E6N5Ennp7jCS",
        "outputId": "a0e53674-68e6-442b-a230-d5a9f3dd2463"
      },
      "source": [
        "x = np.array([[1, 2], [3, 4]])\r\n",
        "y = np.array([[5, 6]])\r\n",
        "\r\n",
        "np.concatenate((x, y), axis=0)"
      ],
      "execution_count": 39,
      "outputs": [
        {
          "output_type": "execute_result",
          "data": {
            "text/plain": [
              "array([[1, 2],\n",
              "       [3, 4],\n",
              "       [5, 6]])"
            ]
          },
          "metadata": {
            "tags": []
          },
          "execution_count": 39
        }
      ]
    },
    {
      "cell_type": "markdown",
      "metadata": {
        "id": "9JLCvT_-7y_Z"
      },
      "source": [
        "## How do you know the shape and size of an array?\r\n",
        "\r\n",
        "covers `ndarray.ndim`, `ndarray.size`, `ndarray.shape`\r\n",
        "\r\n",
        "`ndarray.ndim` will tell you the number of axes, or dimensions, of the array.\r\n",
        "\r\n",
        "`ndarray.size` will tell you the total number of elements of the array. This is the product of the elements of the array’s shape.\r\n",
        "\r\n",
        "`ndarray.shape` will display a tuple of integers that indicate the number of elements stored along each dimension of the array. If, for example, you have a 2-D array with 2 rows and 3 columns, the shape of your array is `(2, 3)`."
      ]
    },
    {
      "cell_type": "code",
      "metadata": {
        "colab": {
          "base_uri": "https://localhost:8080/"
        },
        "id": "x_W6EC9-71Vx",
        "outputId": "3ae8f191-72da-48b0-b9a8-5a8b59cff608"
      },
      "source": [
        "array_example = np.array([[[0, 1, 2, 3],\r\n",
        "                           [4, 5, 6, 7]],\r\n",
        "                    \r\n",
        "                           [[0, 1, 2, 3],\r\n",
        "                           [4, 5, 6, 7]],\r\n",
        "\r\n",
        "                           [[0 ,1 ,2, 3],\r\n",
        "                           [4, 5, 6, 7]]])\r\n",
        "\r\n",
        "print(array_example)"
      ],
      "execution_count": 40,
      "outputs": [
        {
          "output_type": "stream",
          "text": [
            "[[[0 1 2 3]\n",
            "  [4 5 6 7]]\n",
            "\n",
            " [[0 1 2 3]\n",
            "  [4 5 6 7]]\n",
            "\n",
            " [[0 1 2 3]\n",
            "  [4 5 6 7]]]\n"
          ],
          "name": "stdout"
        }
      ]
    },
    {
      "cell_type": "code",
      "metadata": {
        "colab": {
          "base_uri": "https://localhost:8080/"
        },
        "id": "Ouygievr--Jr",
        "outputId": "aa1eefa6-98f1-49d5-c829-196761ab2b1b"
      },
      "source": [
        "# To find the number of dimensions of the array\r\n",
        "array_example.ndim"
      ],
      "execution_count": 41,
      "outputs": [
        {
          "output_type": "execute_result",
          "data": {
            "text/plain": [
              "3"
            ]
          },
          "metadata": {
            "tags": []
          },
          "execution_count": 41
        }
      ]
    },
    {
      "cell_type": "code",
      "metadata": {
        "colab": {
          "base_uri": "https://localhost:8080/"
        },
        "id": "wnrCG3rF_Dxh",
        "outputId": "e84563df-2586-4841-ee03-e3a559e16b56"
      },
      "source": [
        "# To find the total number of elements in the array\r\n",
        "array_example.size"
      ],
      "execution_count": 42,
      "outputs": [
        {
          "output_type": "execute_result",
          "data": {
            "text/plain": [
              "24"
            ]
          },
          "metadata": {
            "tags": []
          },
          "execution_count": 42
        }
      ]
    },
    {
      "cell_type": "code",
      "metadata": {
        "colab": {
          "base_uri": "https://localhost:8080/"
        },
        "id": "QbcsIv8L_IjR",
        "outputId": "6b8681f7-873c-4519-fc00-2cb53a6b74c5"
      },
      "source": [
        " # to find the shape of your array\r\n",
        " array_example.shape"
      ],
      "execution_count": 43,
      "outputs": [
        {
          "output_type": "execute_result",
          "data": {
            "text/plain": [
              "(3, 2, 4)"
            ]
          },
          "metadata": {
            "tags": []
          },
          "execution_count": 43
        }
      ]
    },
    {
      "cell_type": "markdown",
      "metadata": {
        "id": "xqeKjBnM_lX6"
      },
      "source": [
        "### Can you reshape an array\r\n",
        "\r\n",
        "Yes!\r\n",
        "\r\n",
        "Using `arr.reshape()` will give a new shape to an array without changing the data. Just remember that when you use the reshape method, the array you want to produce needs to have the same number of elements as the original array. If you start with an array with 12 elements, you’ll need to make sure that your new array also has a total of 12 elements."
      ]
    },
    {
      "cell_type": "code",
      "metadata": {
        "colab": {
          "base_uri": "https://localhost:8080/"
        },
        "id": "wA0bVeos_mxh",
        "outputId": "9f3074ba-5aec-49b0-f249-6843a0f2ecfd"
      },
      "source": [
        "a = np.arange(6)\r\n",
        "print(a)"
      ],
      "execution_count": 44,
      "outputs": [
        {
          "output_type": "stream",
          "text": [
            "[0 1 2 3 4 5]\n"
          ],
          "name": "stdout"
        }
      ]
    },
    {
      "cell_type": "code",
      "metadata": {
        "colab": {
          "base_uri": "https://localhost:8080/"
        },
        "id": "5uTvc-GN_0RD",
        "outputId": "25561337-24d7-498b-d475-ec2edec7224c"
      },
      "source": [
        "b = a.reshape(3, 2)\r\n",
        "print(b)"
      ],
      "execution_count": 45,
      "outputs": [
        {
          "output_type": "stream",
          "text": [
            "[[0 1]\n",
            " [2 3]\n",
            " [4 5]]\n"
          ],
          "name": "stdout"
        }
      ]
    },
    {
      "cell_type": "markdown",
      "metadata": {
        "id": "9yDWHXFdCGb0"
      },
      "source": [
        "### How to convert a 1D array into a 2D array (how to add a new axis to an array)\r\n",
        "\r\n",
        "This section covers `np.newaxis`, `np.expand_dims`.\r\n",
        "\r\n"
      ]
    },
    {
      "cell_type": "code",
      "metadata": {
        "id": "3GQ8x3_MCH6D"
      },
      "source": [
        "# Using np.newaxis will increase the dimensions of your array by one dimension when used once. \r\n",
        "# This means that a 1D array will become a 2D array, a 2D array will become a 3D array, and so on.\r\n"
      ],
      "execution_count": 46,
      "outputs": []
    },
    {
      "cell_type": "code",
      "metadata": {
        "colab": {
          "base_uri": "https://localhost:8080/"
        },
        "id": "0kGuVanxCZhc",
        "outputId": "c1c1f97d-2979-407c-c8ae-66a1b294a0b4"
      },
      "source": [
        "a = np.array([1, 2, 3, 4, 5, 6])\r\n",
        "print(a)\r\n",
        "a.shape"
      ],
      "execution_count": 47,
      "outputs": [
        {
          "output_type": "stream",
          "text": [
            "[1 2 3 4 5 6]\n"
          ],
          "name": "stdout"
        },
        {
          "output_type": "execute_result",
          "data": {
            "text/plain": [
              "(6,)"
            ]
          },
          "metadata": {
            "tags": []
          },
          "execution_count": 47
        }
      ]
    },
    {
      "cell_type": "code",
      "metadata": {
        "colab": {
          "base_uri": "https://localhost:8080/"
        },
        "id": "kpNeE3_yCcDi",
        "outputId": "9f233e5a-c3d9-4a75-e815-ed5b79405465"
      },
      "source": [
        "a2 = a[np.newaxis, :]\r\n",
        "print(a2)\r\n",
        "a2.shape\r\n"
      ],
      "execution_count": 48,
      "outputs": [
        {
          "output_type": "stream",
          "text": [
            "[[1 2 3 4 5 6]]\n"
          ],
          "name": "stdout"
        },
        {
          "output_type": "execute_result",
          "data": {
            "text/plain": [
              "(1, 6)"
            ]
          },
          "metadata": {
            "tags": []
          },
          "execution_count": 48
        }
      ]
    },
    {
      "cell_type": "markdown",
      "metadata": {
        "id": "0tQdW4Y9C46D"
      },
      "source": [
        "You can explicitly convert a 1D array with either a row vector or a column vector using np.newaxis. For example, you can convert a 1D array to a row vector by inserting an axis along the first dimensio"
      ]
    },
    {
      "cell_type": "code",
      "metadata": {
        "colab": {
          "base_uri": "https://localhost:8080/"
        },
        "id": "4DL7xdHfC5y7",
        "outputId": "f8380908-5d33-459f-c2d9-ae3488c166b7"
      },
      "source": [
        "row_vector = a[np.newaxis, :]\r\n",
        "row_vector.shape"
      ],
      "execution_count": 49,
      "outputs": [
        {
          "output_type": "execute_result",
          "data": {
            "text/plain": [
              "(1, 6)"
            ]
          },
          "metadata": {
            "tags": []
          },
          "execution_count": 49
        }
      ]
    },
    {
      "cell_type": "code",
      "metadata": {
        "colab": {
          "base_uri": "https://localhost:8080/"
        },
        "id": "GRqEx_6kC-Jz",
        "outputId": "a9893f67-5176-4d8a-b84c-efc8a2a3ab0c"
      },
      "source": [
        "# Or, for a column vector, you can insert an axis along the second dimension\r\n",
        "col_vector = a[:, np.newaxis]\r\n",
        "print(col_vector)\r\n",
        "col_vector.shape"
      ],
      "execution_count": 50,
      "outputs": [
        {
          "output_type": "stream",
          "text": [
            "[[1]\n",
            " [2]\n",
            " [3]\n",
            " [4]\n",
            " [5]\n",
            " [6]]\n"
          ],
          "name": "stdout"
        },
        {
          "output_type": "execute_result",
          "data": {
            "text/plain": [
              "(6, 1)"
            ]
          },
          "metadata": {
            "tags": []
          },
          "execution_count": 50
        }
      ]
    },
    {
      "cell_type": "markdown",
      "metadata": {
        "id": "Fr2WvRDZDMv6"
      },
      "source": [
        "You can also expand an array by inserting a new axis at a specified position with np.expand_dims"
      ]
    },
    {
      "cell_type": "code",
      "metadata": {
        "colab": {
          "base_uri": "https://localhost:8080/"
        },
        "id": "MNkYj3XqDNiK",
        "outputId": "e042b37a-0bf1-4caf-8e88-2a1b22eec9c3"
      },
      "source": [
        " a = np.array([1, 2, 3, 4, 5, 6])\r\n",
        " a.shape"
      ],
      "execution_count": 51,
      "outputs": [
        {
          "output_type": "execute_result",
          "data": {
            "text/plain": [
              "(6,)"
            ]
          },
          "metadata": {
            "tags": []
          },
          "execution_count": 51
        }
      ]
    },
    {
      "cell_type": "code",
      "metadata": {
        "colab": {
          "base_uri": "https://localhost:8080/"
        },
        "id": "HR_xrFUTDRgr",
        "outputId": "29e78769-0df2-4dfb-f8eb-c05312d68a4c"
      },
      "source": [
        "b = np.expand_dims(a, axis=1)\r\n",
        "b.shape"
      ],
      "execution_count": 52,
      "outputs": [
        {
          "output_type": "execute_result",
          "data": {
            "text/plain": [
              "(6, 1)"
            ]
          },
          "metadata": {
            "tags": []
          },
          "execution_count": 52
        }
      ]
    },
    {
      "cell_type": "markdown",
      "metadata": {
        "id": "yPH1dYR1DYqK"
      },
      "source": [
        "### Indexing and slicing"
      ]
    },
    {
      "cell_type": "code",
      "metadata": {
        "colab": {
          "base_uri": "https://localhost:8080/"
        },
        "id": "RHSgW2YCDZ4t",
        "outputId": "6899c934-184e-4cbc-8559-55dedb26ee35"
      },
      "source": [
        "data = np.array([1, 2, 3])\r\n",
        "data[1]\r\n",
        "data[:2]\r\n",
        "data[:-1]\r\n",
        "data[1:2]\r\n",
        "data[-2:]"
      ],
      "execution_count": 53,
      "outputs": [
        {
          "output_type": "execute_result",
          "data": {
            "text/plain": [
              "array([2, 3])"
            ]
          },
          "metadata": {
            "tags": []
          },
          "execution_count": 53
        }
      ]
    },
    {
      "cell_type": "markdown",
      "metadata": {
        "id": "Ucwa4986FsDT"
      },
      "source": [
        "You may want to take a section of your array or specific array elements to use in further analysis or additional operations. To do that, you’ll need to subset, slice, and/or index your arrays"
      ]
    },
    {
      "cell_type": "code",
      "metadata": {
        "colab": {
          "base_uri": "https://localhost:8080/"
        },
        "id": "F-MTAY4GFbAk",
        "outputId": "8cb3136a-2fe9-44ac-bf79-12bff927dabd"
      },
      "source": [
        "a = np.array([[1 , 2, 3, 4], [5, 6, 7, 8], [9, 10, 11, 12]])\r\n",
        "print(a)"
      ],
      "execution_count": 54,
      "outputs": [
        {
          "output_type": "stream",
          "text": [
            "[[ 1  2  3  4]\n",
            " [ 5  6  7  8]\n",
            " [ 9 10 11 12]]\n"
          ],
          "name": "stdout"
        }
      ]
    },
    {
      "cell_type": "code",
      "metadata": {
        "id": "ZFAHaxyjFyHT",
        "colab": {
          "base_uri": "https://localhost:8080/"
        },
        "outputId": "65efb75d-b636-44c9-c11e-ea6db6a45e39"
      },
      "source": [
        "print(a[a<5])\r\n",
        "print(a[a>5])"
      ],
      "execution_count": 56,
      "outputs": [
        {
          "output_type": "stream",
          "text": [
            "[1 2 3 4]\n",
            "[ 6  7  8  9 10 11 12]\n"
          ],
          "name": "stdout"
        }
      ]
    },
    {
      "cell_type": "markdown",
      "metadata": {
        "id": "yP892Biw7THN"
      },
      "source": [
        "### How to create an array from existing data\r\n",
        "\r\n",
        "This section covers ```slicing and indexing, np.vstack(), np.hstack(), np.hsplit(), .view(), copy()```"
      ]
    },
    {
      "cell_type": "code",
      "metadata": {
        "colab": {
          "base_uri": "https://localhost:8080/"
        },
        "id": "SVOmr1Sp7Uwt",
        "outputId": "12cea871-a0c5-4631-c0e7-3cd9d8f8f528"
      },
      "source": [
        "a = np.array([1,  2,  3,  4,  5,  6,  7,  8,  9, 10])\r\n",
        "print(a)\r\n",
        "arr1=a[3:8]\r\n",
        "print(arr1)"
      ],
      "execution_count": 59,
      "outputs": [
        {
          "output_type": "stream",
          "text": [
            "[ 1  2  3  4  5  6  7  8  9 10]\n",
            "[4 5 6 7 8]\n"
          ],
          "name": "stdout"
        }
      ]
    },
    {
      "cell_type": "markdown",
      "metadata": {
        "id": "4mJn5Ia275gd"
      },
      "source": [
        " stack two existing arrays, both vertically and horizontally"
      ]
    },
    {
      "cell_type": "code",
      "metadata": {
        "colab": {
          "base_uri": "https://localhost:8080/"
        },
        "id": "ioFScxnF77fa",
        "outputId": "cbf2609b-ac36-4199-a8c6-21c50fe47c84"
      },
      "source": [
        "a1 = np.array([[1,1], [2,2]])\r\n",
        "a2 = np.array([[3,3], [4,4]])\r\n",
        "print(a1)\r\n",
        "print(a2)"
      ],
      "execution_count": 61,
      "outputs": [
        {
          "output_type": "stream",
          "text": [
            "[[1 1]\n",
            " [2 2]]\n",
            "[[3 3]\n",
            " [4 4]]\n"
          ],
          "name": "stdout"
        }
      ]
    },
    {
      "cell_type": "code",
      "metadata": {
        "colab": {
          "base_uri": "https://localhost:8080/"
        },
        "id": "fagwg8oE8lQo",
        "outputId": "24c9e127-6d69-4958-e5a6-fd3f30cc3fd2"
      },
      "source": [
        "# stack them vertically with vstack:\r\n",
        "np.vstack((a1, a2))"
      ],
      "execution_count": 63,
      "outputs": [
        {
          "output_type": "execute_result",
          "data": {
            "text/plain": [
              "array([[1, 1],\n",
              "       [2, 2],\n",
              "       [3, 3],\n",
              "       [4, 4]])"
            ]
          },
          "metadata": {
            "tags": []
          },
          "execution_count": 63
        }
      ]
    },
    {
      "cell_type": "code",
      "metadata": {
        "colab": {
          "base_uri": "https://localhost:8080/"
        },
        "id": "Bw8NvEV18838",
        "outputId": "24dd24ce-055f-4c46-8945-b09ca0f7bfbf"
      },
      "source": [
        "# stack them horizontally with hstack\r\n",
        "np.hstack((a1, a2))"
      ],
      "execution_count": 64,
      "outputs": [
        {
          "output_type": "execute_result",
          "data": {
            "text/plain": [
              "array([[1, 1, 3, 3],\n",
              "       [2, 2, 4, 4]])"
            ]
          },
          "metadata": {
            "tags": []
          },
          "execution_count": 64
        }
      ]
    },
    {
      "cell_type": "markdown",
      "metadata": {
        "id": "vAF0ACSQ9fQH"
      },
      "source": [
        " split an array into several smaller arrays using `hsplit`"
      ]
    },
    {
      "cell_type": "code",
      "metadata": {
        "colab": {
          "base_uri": "https://localhost:8080/"
        },
        "id": "9cBG0Re39h3A",
        "outputId": "2867e0fb-6876-4280-84b7-f089bcf3d07a"
      },
      "source": [
        "x = np.arange(1, 25).reshape(2, 12)\r\n",
        "print(x)"
      ],
      "execution_count": 65,
      "outputs": [
        {
          "output_type": "stream",
          "text": [
            "[[ 1  2  3  4  5  6  7  8  9 10 11 12]\n",
            " [13 14 15 16 17 18 19 20 21 22 23 24]]\n"
          ],
          "name": "stdout"
        }
      ]
    },
    {
      "cell_type": "code",
      "metadata": {
        "colab": {
          "base_uri": "https://localhost:8080/"
        },
        "id": "1CVN-xaU9u5I",
        "outputId": "b233d3f8-398c-4a8c-ff6a-e0a27208f127"
      },
      "source": [
        "#  to split this array into three equally shape\r\n",
        "np.hsplit(x, 3)"
      ],
      "execution_count": 66,
      "outputs": [
        {
          "output_type": "execute_result",
          "data": {
            "text/plain": [
              "[array([[ 1,  2,  3,  4],\n",
              "        [13, 14, 15, 16]]), array([[ 5,  6,  7,  8],\n",
              "        [17, 18, 19, 20]]), array([[ 9, 10, 11, 12],\n",
              "        [21, 22, 23, 24]])]"
            ]
          },
          "metadata": {
            "tags": []
          },
          "execution_count": 66
        }
      ]
    },
    {
      "cell_type": "markdown",
      "metadata": {
        "id": "wPmZjq-l-KO4"
      },
      "source": [
        "### Basic array operations\r\n",
        "\r\n",
        "This section covers addition, subtraction, multiplication, division, and more"
      ]
    },
    {
      "cell_type": "code",
      "metadata": {
        "colab": {
          "base_uri": "https://localhost:8080/"
        },
        "id": "_XJ-zw5m-MQO",
        "outputId": "9b6bf3ac-f7b6-4a04-f56b-1a43d8300d9b"
      },
      "source": [
        "# addition\r\n",
        "data = np.array([1,2])\r\n",
        "ones = np.ones(2, dtype='int')\r\n",
        "\r\n",
        "print(\"data: \", data)\r\n",
        "print(\"ones: \", ones)\r\n",
        "\r\n",
        "result = data + ones\r\n",
        "print(\"result: \", result)"
      ],
      "execution_count": 71,
      "outputs": [
        {
          "output_type": "stream",
          "text": [
            "data:  [1 2]\n",
            "ones:  [1 1]\n",
            "result:  [2 3]\n"
          ],
          "name": "stdout"
        }
      ]
    },
    {
      "cell_type": "code",
      "metadata": {
        "colab": {
          "base_uri": "https://localhost:8080/"
        },
        "id": "GWpZGXe2BQym",
        "outputId": "737e2661-058a-4478-8589-821e4c256bb1"
      },
      "source": [
        "# more than just addition\r\n",
        "res_sub = data - ones\r\n",
        "res_mul = data * ones\r\n",
        "res_div = data / ones\r\n",
        "print(\"sub: \", res_sub)\r\n",
        "print(\"multi: \", res_mul)\r\n",
        "print(\"div: \", res_div)"
      ],
      "execution_count": 73,
      "outputs": [
        {
          "output_type": "stream",
          "text": [
            "sub:  [0 1]\n",
            "multi:  [1 2]\n",
            "div:  [1. 2.]\n"
          ],
          "name": "stdout"
        }
      ]
    },
    {
      "cell_type": "code",
      "metadata": {
        "colab": {
          "base_uri": "https://localhost:8080/"
        },
        "id": "fVhBWQTxB0im",
        "outputId": "082d7a67-f302-4639-cfc9-fb50319d2a73"
      },
      "source": [
        "# sum of elements\r\n",
        "a = np.array([1, 2, 3, 4])\r\n",
        "a.sum()"
      ],
      "execution_count": 76,
      "outputs": [
        {
          "output_type": "execute_result",
          "data": {
            "text/plain": [
              "10"
            ]
          },
          "metadata": {
            "tags": []
          },
          "execution_count": 76
        }
      ]
    },
    {
      "cell_type": "markdown",
      "metadata": {
        "id": "TWHCDYyWCNUH"
      },
      "source": [
        "To add the rows or the columns in a 2D array, you would specify the axis."
      ]
    },
    {
      "cell_type": "code",
      "metadata": {
        "colab": {
          "base_uri": "https://localhost:8080/"
        },
        "id": "c6nXLua7COBA",
        "outputId": "861e267e-092f-423f-aa4f-2d0b908db257"
      },
      "source": [
        "b = np.array([[1, 1], [2, 2]])\r\n",
        "b.sum(axis=0)\r\n",
        "b.sum(axis=1)"
      ],
      "execution_count": 77,
      "outputs": [
        {
          "output_type": "execute_result",
          "data": {
            "text/plain": [
              "array([2, 4])"
            ]
          },
          "metadata": {
            "tags": []
          },
          "execution_count": 77
        }
      ]
    }
  ]
}