{
  "nbformat": 4,
  "nbformat_minor": 0,
  "metadata": {
    "colab": {
      "name": "NumPy: the absolute basics for beginners.ipynb",
      "provenance": [],
      "authorship_tag": "ABX9TyNbnWzMrRvimZLCGejjEcQh",
      "include_colab_link": true
    },
    "kernelspec": {
      "name": "python3",
      "display_name": "Python 3"
    }
  },
  "cells": [
    {
      "cell_type": "markdown",
      "metadata": {
        "id": "view-in-github",
        "colab_type": "text"
      },
      "source": [
        "<a href=\"https://colab.research.google.com/github/sunilsm7/numpy-demos/blob/main/NumPy_the_absolute_basics_for_beginners.ipynb\" target=\"_parent\"><img src=\"https://colab.research.google.com/assets/colab-badge.svg\" alt=\"Open In Colab\"/></a>"
      ]
    },
    {
      "cell_type": "markdown",
      "metadata": {
        "id": "84bmzLK5ycJR"
      },
      "source": [
        "# NumPy: the absolute basics for beginners"
      ]
    },
    {
      "cell_type": "code",
      "metadata": {
        "id": "JkX87f8XyezJ"
      },
      "source": [
        "import numpy as np"
      ],
      "execution_count": 1,
      "outputs": []
    },
    {
      "cell_type": "markdown",
      "metadata": {
        "id": "fW3cuglN46mY"
      },
      "source": [
        "### How to create a basic array\r\n",
        "\r\n",
        "This section covers `np.array()`, `np.zeros()`, `np.ones()`, `np.empty()`, `np.arange()`, `np.linspace()`, `dtype`"
      ]
    },
    {
      "cell_type": "code",
      "metadata": {
        "colab": {
          "base_uri": "https://localhost:8080/"
        },
        "id": "E9WsxqaVyugJ",
        "outputId": "b76a37b7-0bff-403a-fb15-4e20588f93f4"
      },
      "source": [
        "a = np.array([1, 2, 3, 4, 5, 6])\r\n",
        "print(a)"
      ],
      "execution_count": 3,
      "outputs": [
        {
          "output_type": "stream",
          "text": [
            "[1 2 3 4 5 6]\n"
          ],
          "name": "stdout"
        }
      ]
    },
    {
      "cell_type": "code",
      "metadata": {
        "colab": {
          "base_uri": "https://localhost:8080/"
        },
        "id": "ZRqj3K384aUZ",
        "outputId": "4ba88e8c-47bb-4292-ef74-f343c88b2d77"
      },
      "source": [
        "b = np.array([[1, 2, 3, 4], [5, 6, 7, 8], [9, 10, 11, 12]])\r\n",
        "print(b)"
      ],
      "execution_count": 4,
      "outputs": [
        {
          "output_type": "stream",
          "text": [
            "[[ 1  2  3  4]\n",
            " [ 5  6  7  8]\n",
            " [ 9 10 11 12]]\n"
          ],
          "name": "stdout"
        }
      ]
    },
    {
      "cell_type": "code",
      "metadata": {
        "colab": {
          "base_uri": "https://localhost:8080/"
        },
        "id": "kqgd5J2z4f55",
        "outputId": "d119ebb5-a28e-47c0-f0d6-2257e4ccca1e"
      },
      "source": [
        "#  an array filled with 0’s\r\n",
        "np.zeros(2)"
      ],
      "execution_count": 5,
      "outputs": [
        {
          "output_type": "execute_result",
          "data": {
            "text/plain": [
              "array([0., 0.])"
            ]
          },
          "metadata": {
            "tags": []
          },
          "execution_count": 5
        }
      ]
    },
    {
      "cell_type": "code",
      "metadata": {
        "colab": {
          "base_uri": "https://localhost:8080/"
        },
        "id": "uBevoyZN5UZI",
        "outputId": "96b1ce75-f11c-4d17-a515-56440b851b41"
      },
      "source": [
        "#  an array filled with 1’s\r\n",
        "np.ones(2)"
      ],
      "execution_count": 6,
      "outputs": [
        {
          "output_type": "execute_result",
          "data": {
            "text/plain": [
              "array([1., 1.])"
            ]
          },
          "metadata": {
            "tags": []
          },
          "execution_count": 6
        }
      ]
    },
    {
      "cell_type": "code",
      "metadata": {
        "colab": {
          "base_uri": "https://localhost:8080/"
        },
        "id": "dPv15v2g5cHp",
        "outputId": "4879f6ec-e95c-4e20-c6ad-61158d481828"
      },
      "source": [
        "# Create an empty array with 2 elements\r\n",
        "np.empty(3)"
      ],
      "execution_count": 10,
      "outputs": [
        {
          "output_type": "execute_result",
          "data": {
            "text/plain": [
              "array([0.75, 0.75, 0.  ])"
            ]
          },
          "metadata": {
            "tags": []
          },
          "execution_count": 10
        }
      ]
    },
    {
      "cell_type": "code",
      "metadata": {
        "colab": {
          "base_uri": "https://localhost:8080/"
        },
        "id": "YKDUC7xk5kfg",
        "outputId": "006d6f5f-1e4e-4684-805f-9a8b0ce4a7c2"
      },
      "source": [
        "# array with a range of elements\r\n",
        "np.arange(4)"
      ],
      "execution_count": 11,
      "outputs": [
        {
          "output_type": "execute_result",
          "data": {
            "text/plain": [
              "array([0, 1, 2, 3])"
            ]
          },
          "metadata": {
            "tags": []
          },
          "execution_count": 11
        }
      ]
    },
    {
      "cell_type": "code",
      "metadata": {
        "colab": {
          "base_uri": "https://localhost:8080/"
        },
        "id": "QptPAUEp5w4o",
        "outputId": "94f14bc4-3941-4158-ccfb-f05a1974433c"
      },
      "source": [
        "# And even an array that contains a range of evenly spaced intervals. To do this, you will specify the first number, last number, and the step size\r\n",
        "np.arange(2, 9, 2)"
      ],
      "execution_count": 13,
      "outputs": [
        {
          "output_type": "execute_result",
          "data": {
            "text/plain": [
              "array([2, 4, 6, 8])"
            ]
          },
          "metadata": {
            "tags": []
          },
          "execution_count": 13
        }
      ]
    },
    {
      "cell_type": "markdown",
      "metadata": {
        "id": "oNHinN2Q6Jtr"
      },
      "source": [
        "### Specifying your data type\r\n",
        "\r\n",
        "`Default data type is floating point (np.float64`)"
      ]
    },
    {
      "cell_type": "code",
      "metadata": {
        "colab": {
          "base_uri": "https://localhost:8080/"
        },
        "id": "Zv9nYH3x6RMK",
        "outputId": "5114df9a-13fb-4ad1-c93a-92228c110244"
      },
      "source": [
        "x = np.ones(2, dtype=np.int64)\r\n",
        "print(x)"
      ],
      "execution_count": 15,
      "outputs": [
        {
          "output_type": "stream",
          "text": [
            "[1 1]\n"
          ],
          "name": "stdout"
        }
      ]
    },
    {
      "cell_type": "markdown",
      "metadata": {
        "id": "VSBsKeSB69DJ"
      },
      "source": [
        "## Adding, removing, and sorting elements\r\n",
        "\r\n",
        "covers `np.sort()`, `np.concatenate()`"
      ]
    },
    {
      "cell_type": "code",
      "metadata": {
        "colab": {
          "base_uri": "https://localhost:8080/"
        },
        "id": "lFXJaJKR6-hZ",
        "outputId": "bcf132b6-c6ae-4b7d-b7ac-51a5371b2190"
      },
      "source": [
        "# Sorting an element is simple with np.sort(). You can specify the axis, kind, and order when you call the function.\r\n",
        "arr = np.array([2, 1, 5, 3, 7, 4, 6, 8])\r\n",
        "np.sort(arr)"
      ],
      "execution_count": 17,
      "outputs": [
        {
          "output_type": "execute_result",
          "data": {
            "text/plain": [
              "array([1, 2, 3, 4, 5, 6, 7, 8])"
            ]
          },
          "metadata": {
            "tags": []
          },
          "execution_count": 17
        }
      ]
    },
    {
      "cell_type": "code",
      "metadata": {
        "colab": {
          "base_uri": "https://localhost:8080/"
        },
        "id": "xv6pze0U7RFy",
        "outputId": "d9e98707-3b46-4abf-cf82-f68faf88c049"
      },
      "source": [
        "# concatenate\r\n",
        "a = np.array([1, 2, 3, 4])\r\n",
        "b = np.array([5, 6, 7, 8])\r\n",
        "\r\n",
        "np.concatenate((a, b))"
      ],
      "execution_count": 19,
      "outputs": [
        {
          "output_type": "execute_result",
          "data": {
            "text/plain": [
              "array([1, 2, 3, 4, 5, 6, 7, 8])"
            ]
          },
          "metadata": {
            "tags": []
          },
          "execution_count": 19
        }
      ]
    },
    {
      "cell_type": "code",
      "metadata": {
        "colab": {
          "base_uri": "https://localhost:8080/"
        },
        "id": "E6N5Ennp7jCS",
        "outputId": "a3bf1d09-a613-4470-ea34-62b5a7d42a67"
      },
      "source": [
        "x = np.array([[1, 2], [3, 4]])\r\n",
        "y = np.array([[5, 6]])\r\n",
        "\r\n",
        "np.concatenate((x, y), axis=0)"
      ],
      "execution_count": 20,
      "outputs": [
        {
          "output_type": "execute_result",
          "data": {
            "text/plain": [
              "array([[1, 2],\n",
              "       [3, 4],\n",
              "       [5, 6]])"
            ]
          },
          "metadata": {
            "tags": []
          },
          "execution_count": 20
        }
      ]
    },
    {
      "cell_type": "markdown",
      "metadata": {
        "id": "9JLCvT_-7y_Z"
      },
      "source": [
        "## How do you know the shape and size of an array?\r\n",
        "\r\n",
        "covers `ndarray.ndim`, `ndarray.size`, `ndarray.shape`\r\n",
        "\r\n",
        "`ndarray.ndim` will tell you the number of axes, or dimensions, of the array.\r\n",
        "\r\n",
        "`ndarray.size` will tell you the total number of elements of the array. This is the product of the elements of the array’s shape.\r\n",
        "\r\n",
        "`ndarray.shape` will display a tuple of integers that indicate the number of elements stored along each dimension of the array. If, for example, you have a 2-D array with 2 rows and 3 columns, the shape of your array is `(2, 3)`."
      ]
    },
    {
      "cell_type": "code",
      "metadata": {
        "colab": {
          "base_uri": "https://localhost:8080/"
        },
        "id": "x_W6EC9-71Vx",
        "outputId": "80be7c3e-4232-4fc1-8d97-4c85cb62b385"
      },
      "source": [
        "array_example = np.array([[[0, 1, 2, 3],\r\n",
        "                           [4, 5, 6, 7]],\r\n",
        "                    \r\n",
        "                           [[0, 1, 2, 3],\r\n",
        "                           [4, 5, 6, 7]],\r\n",
        "\r\n",
        "                           [[0 ,1 ,2, 3],\r\n",
        "                           [4, 5, 6, 7]]])\r\n",
        "\r\n",
        "print(array_example)"
      ],
      "execution_count": 23,
      "outputs": [
        {
          "output_type": "stream",
          "text": [
            "[[[0 1 2 3]\n",
            "  [4 5 6 7]]\n",
            "\n",
            " [[0 1 2 3]\n",
            "  [4 5 6 7]]\n",
            "\n",
            " [[0 1 2 3]\n",
            "  [4 5 6 7]]]\n"
          ],
          "name": "stdout"
        }
      ]
    },
    {
      "cell_type": "code",
      "metadata": {
        "colab": {
          "base_uri": "https://localhost:8080/"
        },
        "id": "Ouygievr--Jr",
        "outputId": "23b1d16b-1c8a-4046-f68f-3fe53e705075"
      },
      "source": [
        "# To find the number of dimensions of the array\r\n",
        "array_example.ndim"
      ],
      "execution_count": 25,
      "outputs": [
        {
          "output_type": "execute_result",
          "data": {
            "text/plain": [
              "3"
            ]
          },
          "metadata": {
            "tags": []
          },
          "execution_count": 25
        }
      ]
    },
    {
      "cell_type": "code",
      "metadata": {
        "colab": {
          "base_uri": "https://localhost:8080/"
        },
        "id": "wnrCG3rF_Dxh",
        "outputId": "a580d1cb-5907-409a-9da4-7be75ff89f3f"
      },
      "source": [
        "# To find the total number of elements in the array\r\n",
        "array_example.size"
      ],
      "execution_count": 26,
      "outputs": [
        {
          "output_type": "execute_result",
          "data": {
            "text/plain": [
              "24"
            ]
          },
          "metadata": {
            "tags": []
          },
          "execution_count": 26
        }
      ]
    },
    {
      "cell_type": "code",
      "metadata": {
        "colab": {
          "base_uri": "https://localhost:8080/"
        },
        "id": "QbcsIv8L_IjR",
        "outputId": "39383bf2-9120-454b-ca35-b8181cde1143"
      },
      "source": [
        " # to find the shape of your array\r\n",
        " array_example.shape"
      ],
      "execution_count": 27,
      "outputs": [
        {
          "output_type": "execute_result",
          "data": {
            "text/plain": [
              "(3, 2, 4)"
            ]
          },
          "metadata": {
            "tags": []
          },
          "execution_count": 27
        }
      ]
    },
    {
      "cell_type": "markdown",
      "metadata": {
        "id": "xqeKjBnM_lX6"
      },
      "source": [
        "### Can you reshape an array\r\n",
        "\r\n",
        "Yes!\r\n",
        "\r\n",
        "Using `arr.reshape()` will give a new shape to an array without changing the data. Just remember that when you use the reshape method, the array you want to produce needs to have the same number of elements as the original array. If you start with an array with 12 elements, you’ll need to make sure that your new array also has a total of 12 elements."
      ]
    },
    {
      "cell_type": "code",
      "metadata": {
        "colab": {
          "base_uri": "https://localhost:8080/"
        },
        "id": "wA0bVeos_mxh",
        "outputId": "1ff4fde4-14bb-4d6c-c66f-d7b76f98167c"
      },
      "source": [
        "a = np.arange(6)\r\n",
        "print(a)"
      ],
      "execution_count": 31,
      "outputs": [
        {
          "output_type": "stream",
          "text": [
            "[0 1 2 3 4 5]\n"
          ],
          "name": "stdout"
        }
      ]
    },
    {
      "cell_type": "code",
      "metadata": {
        "colab": {
          "base_uri": "https://localhost:8080/"
        },
        "id": "5uTvc-GN_0RD",
        "outputId": "28bfd578-bb23-4e52-a34a-2c876ec2caef"
      },
      "source": [
        "b = a.reshape(3, 2)\r\n",
        "print(b)"
      ],
      "execution_count": 32,
      "outputs": [
        {
          "output_type": "stream",
          "text": [
            "[[0 1]\n",
            " [2 3]\n",
            " [4 5]]\n"
          ],
          "name": "stdout"
        }
      ]
    },
    {
      "cell_type": "markdown",
      "metadata": {
        "id": "9yDWHXFdCGb0"
      },
      "source": [
        "### How to convert a 1D array into a 2D array (how to add a new axis to an array)\r\n",
        "\r\n",
        "This section covers `np.newaxis`, `np.expand_dims`.\r\n",
        "\r\n"
      ]
    },
    {
      "cell_type": "code",
      "metadata": {
        "id": "3GQ8x3_MCH6D"
      },
      "source": [
        "# Using np.newaxis will increase the dimensions of your array by one dimension when used once. \r\n",
        "# This means that a 1D array will become a 2D array, a 2D array will become a 3D array, and so on.\r\n"
      ],
      "execution_count": null,
      "outputs": []
    },
    {
      "cell_type": "code",
      "metadata": {
        "colab": {
          "base_uri": "https://localhost:8080/"
        },
        "id": "0kGuVanxCZhc",
        "outputId": "7993ae5b-9e59-4e39-a565-362e8a3a9551"
      },
      "source": [
        "a = np.array([1, 2, 3, 4, 5, 6])\r\n",
        "print(a)\r\n",
        "a.shape"
      ],
      "execution_count": 39,
      "outputs": [
        {
          "output_type": "stream",
          "text": [
            "[1 2 3 4 5 6]\n"
          ],
          "name": "stdout"
        },
        {
          "output_type": "execute_result",
          "data": {
            "text/plain": [
              "(6,)"
            ]
          },
          "metadata": {
            "tags": []
          },
          "execution_count": 39
        }
      ]
    },
    {
      "cell_type": "code",
      "metadata": {
        "colab": {
          "base_uri": "https://localhost:8080/"
        },
        "id": "kpNeE3_yCcDi",
        "outputId": "a26670ab-bcee-4a19-9ab5-4452fe33499d"
      },
      "source": [
        "a2 = a[np.newaxis, :]\r\n",
        "print(a2)\r\n",
        "a2.shape\r\n"
      ],
      "execution_count": 38,
      "outputs": [
        {
          "output_type": "stream",
          "text": [
            "[[1 2 3 4 5 6]]\n"
          ],
          "name": "stdout"
        },
        {
          "output_type": "execute_result",
          "data": {
            "text/plain": [
              "(1, 6)"
            ]
          },
          "metadata": {
            "tags": []
          },
          "execution_count": 38
        }
      ]
    },
    {
      "cell_type": "markdown",
      "metadata": {
        "id": "0tQdW4Y9C46D"
      },
      "source": [
        "You can explicitly convert a 1D array with either a row vector or a column vector using np.newaxis. For example, you can convert a 1D array to a row vector by inserting an axis along the first dimensio"
      ]
    },
    {
      "cell_type": "code",
      "metadata": {
        "colab": {
          "base_uri": "https://localhost:8080/"
        },
        "id": "4DL7xdHfC5y7",
        "outputId": "7cc2acd7-c471-4bf9-ae66-c059dc6a29cf"
      },
      "source": [
        "row_vector = a[np.newaxis, :]\r\n",
        "row_vector.shape"
      ],
      "execution_count": 40,
      "outputs": [
        {
          "output_type": "execute_result",
          "data": {
            "text/plain": [
              "(1, 6)"
            ]
          },
          "metadata": {
            "tags": []
          },
          "execution_count": 40
        }
      ]
    },
    {
      "cell_type": "code",
      "metadata": {
        "colab": {
          "base_uri": "https://localhost:8080/"
        },
        "id": "GRqEx_6kC-Jz",
        "outputId": "d337bd53-a53e-4b3f-e18e-4c698604806c"
      },
      "source": [
        "# Or, for a column vector, you can insert an axis along the second dimension\r\n",
        "col_vector = a[:, np.newaxis]\r\n",
        "print(col_vector)\r\n",
        "col_vector.shape"
      ],
      "execution_count": 42,
      "outputs": [
        {
          "output_type": "stream",
          "text": [
            "[[1]\n",
            " [2]\n",
            " [3]\n",
            " [4]\n",
            " [5]\n",
            " [6]]\n"
          ],
          "name": "stdout"
        },
        {
          "output_type": "execute_result",
          "data": {
            "text/plain": [
              "(6, 1)"
            ]
          },
          "metadata": {
            "tags": []
          },
          "execution_count": 42
        }
      ]
    },
    {
      "cell_type": "markdown",
      "metadata": {
        "id": "Fr2WvRDZDMv6"
      },
      "source": [
        "You can also expand an array by inserting a new axis at a specified position with np.expand_dims"
      ]
    },
    {
      "cell_type": "code",
      "metadata": {
        "colab": {
          "base_uri": "https://localhost:8080/"
        },
        "id": "MNkYj3XqDNiK",
        "outputId": "4635de24-e775-4dc0-db7e-a770142d05e2"
      },
      "source": [
        " a = np.array([1, 2, 3, 4, 5, 6])\r\n",
        " a.shape"
      ],
      "execution_count": 43,
      "outputs": [
        {
          "output_type": "execute_result",
          "data": {
            "text/plain": [
              "(6,)"
            ]
          },
          "metadata": {
            "tags": []
          },
          "execution_count": 43
        }
      ]
    },
    {
      "cell_type": "code",
      "metadata": {
        "colab": {
          "base_uri": "https://localhost:8080/"
        },
        "id": "HR_xrFUTDRgr",
        "outputId": "ea676fbc-f693-48a9-ea7c-781f1083ca1d"
      },
      "source": [
        "b = np.expand_dims(a, axis=1)\r\n",
        "b.shape"
      ],
      "execution_count": 44,
      "outputs": [
        {
          "output_type": "execute_result",
          "data": {
            "text/plain": [
              "(6, 1)"
            ]
          },
          "metadata": {
            "tags": []
          },
          "execution_count": 44
        }
      ]
    },
    {
      "cell_type": "markdown",
      "metadata": {
        "id": "yPH1dYR1DYqK"
      },
      "source": [
        "### Indexing and slicing"
      ]
    },
    {
      "cell_type": "code",
      "metadata": {
        "colab": {
          "base_uri": "https://localhost:8080/"
        },
        "id": "RHSgW2YCDZ4t",
        "outputId": "3b3cdf88-dd4e-4ea2-ce90-0ec6642091c6"
      },
      "source": [
        "data = np.array([1, 2, 3])\r\n",
        "data[1]\r\n",
        "data[:2]\r\n",
        "data[:-1]\r\n",
        "data[1:2]\r\n",
        "data[-2:]"
      ],
      "execution_count": 50,
      "outputs": [
        {
          "output_type": "execute_result",
          "data": {
            "text/plain": [
              "array([2, 3])"
            ]
          },
          "metadata": {
            "tags": []
          },
          "execution_count": 50
        }
      ]
    },
    {
      "cell_type": "markdown",
      "metadata": {
        "id": "Ucwa4986FsDT"
      },
      "source": [
        "You may want to take a section of your array or specific array elements to use in further analysis or additional operations. To do that, you’ll need to subset, slice, and/or index your arrays"
      ]
    },
    {
      "cell_type": "code",
      "metadata": {
        "colab": {
          "base_uri": "https://localhost:8080/"
        },
        "id": "F-MTAY4GFbAk",
        "outputId": "0467539d-5a40-492a-df0c-123b4e720cd7"
      },
      "source": [
        "a = np.array([[1 , 2, 3, 4], [5, 6, 7, 8], [9, 10, 11, 12]])\r\n",
        "print(a)"
      ],
      "execution_count": 54,
      "outputs": [
        {
          "output_type": "stream",
          "text": [
            "[[ 1  2  3  4]\n",
            " [ 5  6  7  8]\n",
            " [ 9 10 11 12]]\n"
          ],
          "name": "stdout"
        },
        {
          "output_type": "execute_result",
          "data": {
            "text/plain": [
              "2"
            ]
          },
          "metadata": {
            "tags": []
          },
          "execution_count": 54
        }
      ]
    },
    {
      "cell_type": "code",
      "metadata": {
        "id": "ZFAHaxyjFyHT"
      },
      "source": [
        ""
      ],
      "execution_count": null,
      "outputs": []
    }
  ]
}