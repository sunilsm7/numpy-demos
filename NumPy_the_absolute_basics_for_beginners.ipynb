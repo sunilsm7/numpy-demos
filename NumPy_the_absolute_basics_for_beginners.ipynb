{
  "nbformat": 4,
  "nbformat_minor": 0,
  "metadata": {
    "colab": {
      "name": "NumPy: the absolute basics for beginners.ipynb",
      "provenance": [],
      "authorship_tag": "ABX9TyMog2A3HQnwDS8fvJybIOYw",
      "include_colab_link": true
    },
    "kernelspec": {
      "name": "python3",
      "display_name": "Python 3"
    }
  },
  "cells": [
    {
      "cell_type": "markdown",
      "metadata": {
        "id": "view-in-github",
        "colab_type": "text"
      },
      "source": [
        "<a href=\"https://colab.research.google.com/github/sunilsm7/numpy-demos/blob/main/NumPy_the_absolute_basics_for_beginners.ipynb\" target=\"_parent\"><img src=\"https://colab.research.google.com/assets/colab-badge.svg\" alt=\"Open In Colab\"/></a>"
      ]
    },
    {
      "cell_type": "markdown",
      "metadata": {
        "id": "84bmzLK5ycJR"
      },
      "source": [
        "# NumPy: the absolute basics for beginners"
      ]
    },
    {
      "cell_type": "code",
      "metadata": {
        "id": "JkX87f8XyezJ"
      },
      "source": [
        "import numpy as np"
      ],
      "execution_count": 2,
      "outputs": []
    },
    {
      "cell_type": "markdown",
      "metadata": {
        "id": "fW3cuglN46mY"
      },
      "source": [
        "### How to create a basic array\r\n",
        "\r\n",
        "This section covers `np.array()`, `np.zeros()`, `np.ones()`, `np.empty()`, `np.arange()`, `np.linspace()`, `dtype`"
      ]
    },
    {
      "cell_type": "code",
      "metadata": {
        "colab": {
          "base_uri": "https://localhost:8080/"
        },
        "id": "E9WsxqaVyugJ",
        "outputId": "f57421c4-fb2e-4d14-b5ed-20f1fe1afd78"
      },
      "source": [
        "a = np.array([1, 2, 3, 4, 5, 6])\r\n",
        "print(a)"
      ],
      "execution_count": 3,
      "outputs": [
        {
          "output_type": "stream",
          "text": [
            "[1 2 3 4 5 6]\n"
          ],
          "name": "stdout"
        }
      ]
    },
    {
      "cell_type": "code",
      "metadata": {
        "colab": {
          "base_uri": "https://localhost:8080/"
        },
        "id": "ZRqj3K384aUZ",
        "outputId": "63226644-adca-4b65-c9f0-c86a8c7d182f"
      },
      "source": [
        "b = np.array([[1, 2, 3, 4], [5, 6, 7, 8], [9, 10, 11, 12]])\r\n",
        "print(b)"
      ],
      "execution_count": 4,
      "outputs": [
        {
          "output_type": "stream",
          "text": [
            "[[ 1  2  3  4]\n",
            " [ 5  6  7  8]\n",
            " [ 9 10 11 12]]\n"
          ],
          "name": "stdout"
        }
      ]
    },
    {
      "cell_type": "code",
      "metadata": {
        "colab": {
          "base_uri": "https://localhost:8080/"
        },
        "id": "kqgd5J2z4f55",
        "outputId": "18fb9cd6-850f-445c-d407-bc5bfb957070"
      },
      "source": [
        "#  an array filled with 0’s\r\n",
        "np.zeros(2)"
      ],
      "execution_count": 5,
      "outputs": [
        {
          "output_type": "execute_result",
          "data": {
            "text/plain": [
              "array([0., 0.])"
            ]
          },
          "metadata": {
            "tags": []
          },
          "execution_count": 5
        }
      ]
    },
    {
      "cell_type": "code",
      "metadata": {
        "colab": {
          "base_uri": "https://localhost:8080/"
        },
        "id": "uBevoyZN5UZI",
        "outputId": "944a6d2f-8c2c-423c-b4ae-214856fb6bea"
      },
      "source": [
        "#  an array filled with 1’s\r\n",
        "np.ones(2)"
      ],
      "execution_count": 6,
      "outputs": [
        {
          "output_type": "execute_result",
          "data": {
            "text/plain": [
              "array([1., 1.])"
            ]
          },
          "metadata": {
            "tags": []
          },
          "execution_count": 6
        }
      ]
    },
    {
      "cell_type": "code",
      "metadata": {
        "colab": {
          "base_uri": "https://localhost:8080/"
        },
        "id": "dPv15v2g5cHp",
        "outputId": "4db25682-46ba-474b-fa0b-600bc277e360"
      },
      "source": [
        "# Create an empty array with 2 elements\r\n",
        "np.empty(3)"
      ],
      "execution_count": 7,
      "outputs": [
        {
          "output_type": "execute_result",
          "data": {
            "text/plain": [
              "array([0.75, 0.75, 0.  ])"
            ]
          },
          "metadata": {
            "tags": []
          },
          "execution_count": 7
        }
      ]
    },
    {
      "cell_type": "code",
      "metadata": {
        "colab": {
          "base_uri": "https://localhost:8080/"
        },
        "id": "YKDUC7xk5kfg",
        "outputId": "38e30f91-8fde-4596-b5bc-1f0cfecbbf22"
      },
      "source": [
        "# array with a range of elements\r\n",
        "np.arange(4)"
      ],
      "execution_count": 8,
      "outputs": [
        {
          "output_type": "execute_result",
          "data": {
            "text/plain": [
              "array([0, 1, 2, 3])"
            ]
          },
          "metadata": {
            "tags": []
          },
          "execution_count": 8
        }
      ]
    },
    {
      "cell_type": "code",
      "metadata": {
        "colab": {
          "base_uri": "https://localhost:8080/"
        },
        "id": "QptPAUEp5w4o",
        "outputId": "888da6b4-6c59-44ce-a989-07d5aad2fa64"
      },
      "source": [
        "# And even an array that contains a range of evenly spaced intervals. To do this, you will specify the first number, last number, and the step size\r\n",
        "np.arange(2, 9, 2)"
      ],
      "execution_count": 9,
      "outputs": [
        {
          "output_type": "execute_result",
          "data": {
            "text/plain": [
              "array([2, 4, 6, 8])"
            ]
          },
          "metadata": {
            "tags": []
          },
          "execution_count": 9
        }
      ]
    },
    {
      "cell_type": "markdown",
      "metadata": {
        "id": "oNHinN2Q6Jtr"
      },
      "source": [
        "### Specifying your data type\r\n",
        "\r\n",
        "`Default data type is floating point (np.float64`)"
      ]
    },
    {
      "cell_type": "code",
      "metadata": {
        "colab": {
          "base_uri": "https://localhost:8080/"
        },
        "id": "Zv9nYH3x6RMK",
        "outputId": "bcf1d248-6ebe-40f9-b2d9-80102b2707f1"
      },
      "source": [
        "x = np.ones(2, dtype=np.int64)\r\n",
        "print(x)"
      ],
      "execution_count": 10,
      "outputs": [
        {
          "output_type": "stream",
          "text": [
            "[1 1]\n"
          ],
          "name": "stdout"
        }
      ]
    },
    {
      "cell_type": "markdown",
      "metadata": {
        "id": "VSBsKeSB69DJ"
      },
      "source": [
        "## Adding, removing, and sorting elements\r\n",
        "\r\n",
        "covers `np.sort()`, `np.concatenate()`"
      ]
    },
    {
      "cell_type": "code",
      "metadata": {
        "colab": {
          "base_uri": "https://localhost:8080/"
        },
        "id": "lFXJaJKR6-hZ",
        "outputId": "92251a2e-0227-4b28-d10f-de77c1500332"
      },
      "source": [
        "# Sorting an element is simple with np.sort(). You can specify the axis, kind, and order when you call the function.\r\n",
        "arr = np.array([2, 1, 5, 3, 7, 4, 6, 8])\r\n",
        "np.sort(arr)"
      ],
      "execution_count": 11,
      "outputs": [
        {
          "output_type": "execute_result",
          "data": {
            "text/plain": [
              "array([1, 2, 3, 4, 5, 6, 7, 8])"
            ]
          },
          "metadata": {
            "tags": []
          },
          "execution_count": 11
        }
      ]
    },
    {
      "cell_type": "code",
      "metadata": {
        "colab": {
          "base_uri": "https://localhost:8080/"
        },
        "id": "xv6pze0U7RFy",
        "outputId": "acdc6d07-d22b-4189-bb5f-ef5bf980d72f"
      },
      "source": [
        "# concatenate\r\n",
        "a = np.array([1, 2, 3, 4])\r\n",
        "b = np.array([5, 6, 7, 8])\r\n",
        "\r\n",
        "np.concatenate((a, b))"
      ],
      "execution_count": 12,
      "outputs": [
        {
          "output_type": "execute_result",
          "data": {
            "text/plain": [
              "array([1, 2, 3, 4, 5, 6, 7, 8])"
            ]
          },
          "metadata": {
            "tags": []
          },
          "execution_count": 12
        }
      ]
    },
    {
      "cell_type": "code",
      "metadata": {
        "colab": {
          "base_uri": "https://localhost:8080/"
        },
        "id": "E6N5Ennp7jCS",
        "outputId": "7563a73e-90d3-4d03-a8c3-77842490886f"
      },
      "source": [
        "x = np.array([[1, 2], [3, 4]])\r\n",
        "y = np.array([[5, 6]])\r\n",
        "\r\n",
        "np.concatenate((x, y), axis=0)"
      ],
      "execution_count": 13,
      "outputs": [
        {
          "output_type": "execute_result",
          "data": {
            "text/plain": [
              "array([[1, 2],\n",
              "       [3, 4],\n",
              "       [5, 6]])"
            ]
          },
          "metadata": {
            "tags": []
          },
          "execution_count": 13
        }
      ]
    },
    {
      "cell_type": "markdown",
      "metadata": {
        "id": "9JLCvT_-7y_Z"
      },
      "source": [
        "## How do you know the shape and size of an array?\r\n",
        "\r\n",
        "covers `ndarray.ndim`, `ndarray.size`, `ndarray.shape`\r\n",
        "\r\n",
        "`ndarray.ndim` will tell you the number of axes, or dimensions, of the array.\r\n",
        "\r\n",
        "`ndarray.size` will tell you the total number of elements of the array. This is the product of the elements of the array’s shape.\r\n",
        "\r\n",
        "`ndarray.shape` will display a tuple of integers that indicate the number of elements stored along each dimension of the array. If, for example, you have a 2-D array with 2 rows and 3 columns, the shape of your array is `(2, 3)`."
      ]
    },
    {
      "cell_type": "code",
      "metadata": {
        "colab": {
          "base_uri": "https://localhost:8080/"
        },
        "id": "x_W6EC9-71Vx",
        "outputId": "04829927-7756-4cc8-cb60-f4f2eb53282c"
      },
      "source": [
        "array_example = np.array([[[0, 1, 2, 3],\r\n",
        "                           [4, 5, 6, 7]],\r\n",
        "                    \r\n",
        "                           [[0, 1, 2, 3],\r\n",
        "                           [4, 5, 6, 7]],\r\n",
        "\r\n",
        "                           [[0 ,1 ,2, 3],\r\n",
        "                           [4, 5, 6, 7]]])\r\n",
        "\r\n",
        "print(array_example)"
      ],
      "execution_count": 14,
      "outputs": [
        {
          "output_type": "stream",
          "text": [
            "[[[0 1 2 3]\n",
            "  [4 5 6 7]]\n",
            "\n",
            " [[0 1 2 3]\n",
            "  [4 5 6 7]]\n",
            "\n",
            " [[0 1 2 3]\n",
            "  [4 5 6 7]]]\n"
          ],
          "name": "stdout"
        }
      ]
    },
    {
      "cell_type": "code",
      "metadata": {
        "colab": {
          "base_uri": "https://localhost:8080/"
        },
        "id": "Ouygievr--Jr",
        "outputId": "47523d21-b068-46e3-91b2-4d0fa4979a93"
      },
      "source": [
        "# To find the number of dimensions of the array\r\n",
        "array_example.ndim"
      ],
      "execution_count": 15,
      "outputs": [
        {
          "output_type": "execute_result",
          "data": {
            "text/plain": [
              "3"
            ]
          },
          "metadata": {
            "tags": []
          },
          "execution_count": 15
        }
      ]
    },
    {
      "cell_type": "code",
      "metadata": {
        "colab": {
          "base_uri": "https://localhost:8080/"
        },
        "id": "wnrCG3rF_Dxh",
        "outputId": "cb990c13-7cd7-4cf5-b7fe-f0789c220094"
      },
      "source": [
        "# To find the total number of elements in the array\r\n",
        "array_example.size"
      ],
      "execution_count": 16,
      "outputs": [
        {
          "output_type": "execute_result",
          "data": {
            "text/plain": [
              "24"
            ]
          },
          "metadata": {
            "tags": []
          },
          "execution_count": 16
        }
      ]
    },
    {
      "cell_type": "code",
      "metadata": {
        "colab": {
          "base_uri": "https://localhost:8080/"
        },
        "id": "QbcsIv8L_IjR",
        "outputId": "2ee42b6f-0de5-470f-801f-bed4891aba3d"
      },
      "source": [
        " # to find the shape of your array\r\n",
        " array_example.shape"
      ],
      "execution_count": 17,
      "outputs": [
        {
          "output_type": "execute_result",
          "data": {
            "text/plain": [
              "(3, 2, 4)"
            ]
          },
          "metadata": {
            "tags": []
          },
          "execution_count": 17
        }
      ]
    },
    {
      "cell_type": "markdown",
      "metadata": {
        "id": "xqeKjBnM_lX6"
      },
      "source": [
        "### Can you reshape an array\r\n",
        "\r\n",
        "Yes!\r\n",
        "\r\n",
        "Using `arr.reshape()` will give a new shape to an array without changing the data. Just remember that when you use the reshape method, the array you want to produce needs to have the same number of elements as the original array. If you start with an array with 12 elements, you’ll need to make sure that your new array also has a total of 12 elements."
      ]
    },
    {
      "cell_type": "code",
      "metadata": {
        "colab": {
          "base_uri": "https://localhost:8080/"
        },
        "id": "wA0bVeos_mxh",
        "outputId": "849bcbb6-8964-4df1-afa5-c0ea331a6ff4"
      },
      "source": [
        "a = np.arange(6)\r\n",
        "print(a)"
      ],
      "execution_count": 18,
      "outputs": [
        {
          "output_type": "stream",
          "text": [
            "[0 1 2 3 4 5]\n"
          ],
          "name": "stdout"
        }
      ]
    },
    {
      "cell_type": "code",
      "metadata": {
        "colab": {
          "base_uri": "https://localhost:8080/"
        },
        "id": "5uTvc-GN_0RD",
        "outputId": "a2c975cb-2e2a-4466-a330-71affef06dac"
      },
      "source": [
        "b = a.reshape(3, 2)\r\n",
        "print(b)"
      ],
      "execution_count": 19,
      "outputs": [
        {
          "output_type": "stream",
          "text": [
            "[[0 1]\n",
            " [2 3]\n",
            " [4 5]]\n"
          ],
          "name": "stdout"
        }
      ]
    },
    {
      "cell_type": "markdown",
      "metadata": {
        "id": "9yDWHXFdCGb0"
      },
      "source": [
        "### How to convert a 1D array into a 2D array (how to add a new axis to an array)\r\n",
        "\r\n",
        "This section covers `np.newaxis`, `np.expand_dims`.\r\n",
        "\r\n"
      ]
    },
    {
      "cell_type": "code",
      "metadata": {
        "id": "3GQ8x3_MCH6D"
      },
      "source": [
        "# Using np.newaxis will increase the dimensions of your array by one dimension when used once. \r\n",
        "# This means that a 1D array will become a 2D array, a 2D array will become a 3D array, and so on.\r\n"
      ],
      "execution_count": 20,
      "outputs": []
    },
    {
      "cell_type": "code",
      "metadata": {
        "colab": {
          "base_uri": "https://localhost:8080/"
        },
        "id": "0kGuVanxCZhc",
        "outputId": "6a59f5b4-1a78-4483-8b03-2b44a9d8b5fc"
      },
      "source": [
        "a = np.array([1, 2, 3, 4, 5, 6])\r\n",
        "print(a)\r\n",
        "a.shape"
      ],
      "execution_count": 21,
      "outputs": [
        {
          "output_type": "stream",
          "text": [
            "[1 2 3 4 5 6]\n"
          ],
          "name": "stdout"
        },
        {
          "output_type": "execute_result",
          "data": {
            "text/plain": [
              "(6,)"
            ]
          },
          "metadata": {
            "tags": []
          },
          "execution_count": 21
        }
      ]
    },
    {
      "cell_type": "code",
      "metadata": {
        "colab": {
          "base_uri": "https://localhost:8080/"
        },
        "id": "kpNeE3_yCcDi",
        "outputId": "39ac6f08-d0a2-4fb5-cf6d-58db48c77793"
      },
      "source": [
        "a2 = a[np.newaxis, :]\r\n",
        "print(a2)\r\n",
        "a2.shape\r\n"
      ],
      "execution_count": 22,
      "outputs": [
        {
          "output_type": "stream",
          "text": [
            "[[1 2 3 4 5 6]]\n"
          ],
          "name": "stdout"
        },
        {
          "output_type": "execute_result",
          "data": {
            "text/plain": [
              "(1, 6)"
            ]
          },
          "metadata": {
            "tags": []
          },
          "execution_count": 22
        }
      ]
    },
    {
      "cell_type": "markdown",
      "metadata": {
        "id": "0tQdW4Y9C46D"
      },
      "source": [
        "You can explicitly convert a 1D array with either a row vector or a column vector using np.newaxis. For example, you can convert a 1D array to a row vector by inserting an axis along the first dimensio"
      ]
    },
    {
      "cell_type": "code",
      "metadata": {
        "colab": {
          "base_uri": "https://localhost:8080/"
        },
        "id": "4DL7xdHfC5y7",
        "outputId": "3c0d3d0f-eee5-42c7-c5cc-854abe9dc80e"
      },
      "source": [
        "row_vector = a[np.newaxis, :]\r\n",
        "row_vector.shape"
      ],
      "execution_count": 23,
      "outputs": [
        {
          "output_type": "execute_result",
          "data": {
            "text/plain": [
              "(1, 6)"
            ]
          },
          "metadata": {
            "tags": []
          },
          "execution_count": 23
        }
      ]
    },
    {
      "cell_type": "code",
      "metadata": {
        "colab": {
          "base_uri": "https://localhost:8080/"
        },
        "id": "GRqEx_6kC-Jz",
        "outputId": "9835f156-59c1-44aa-a248-ad27231a30cd"
      },
      "source": [
        "# Or, for a column vector, you can insert an axis along the second dimension\r\n",
        "col_vector = a[:, np.newaxis]\r\n",
        "print(col_vector)\r\n",
        "col_vector.shape"
      ],
      "execution_count": 24,
      "outputs": [
        {
          "output_type": "stream",
          "text": [
            "[[1]\n",
            " [2]\n",
            " [3]\n",
            " [4]\n",
            " [5]\n",
            " [6]]\n"
          ],
          "name": "stdout"
        },
        {
          "output_type": "execute_result",
          "data": {
            "text/plain": [
              "(6, 1)"
            ]
          },
          "metadata": {
            "tags": []
          },
          "execution_count": 24
        }
      ]
    },
    {
      "cell_type": "markdown",
      "metadata": {
        "id": "Fr2WvRDZDMv6"
      },
      "source": [
        "You can also expand an array by inserting a new axis at a specified position with np.expand_dims"
      ]
    },
    {
      "cell_type": "code",
      "metadata": {
        "colab": {
          "base_uri": "https://localhost:8080/"
        },
        "id": "MNkYj3XqDNiK",
        "outputId": "b92c27ef-2675-4ae9-c34c-129ad1c3a362"
      },
      "source": [
        " a = np.array([1, 2, 3, 4, 5, 6])\r\n",
        " a.shape"
      ],
      "execution_count": 25,
      "outputs": [
        {
          "output_type": "execute_result",
          "data": {
            "text/plain": [
              "(6,)"
            ]
          },
          "metadata": {
            "tags": []
          },
          "execution_count": 25
        }
      ]
    },
    {
      "cell_type": "code",
      "metadata": {
        "colab": {
          "base_uri": "https://localhost:8080/"
        },
        "id": "HR_xrFUTDRgr",
        "outputId": "a1b99888-91fd-4df7-f133-8a1fa3bdb880"
      },
      "source": [
        "b = np.expand_dims(a, axis=1)\r\n",
        "b.shape"
      ],
      "execution_count": 26,
      "outputs": [
        {
          "output_type": "execute_result",
          "data": {
            "text/plain": [
              "(6, 1)"
            ]
          },
          "metadata": {
            "tags": []
          },
          "execution_count": 26
        }
      ]
    },
    {
      "cell_type": "markdown",
      "metadata": {
        "id": "yPH1dYR1DYqK"
      },
      "source": [
        "### Indexing and slicing"
      ]
    },
    {
      "cell_type": "code",
      "metadata": {
        "colab": {
          "base_uri": "https://localhost:8080/"
        },
        "id": "RHSgW2YCDZ4t",
        "outputId": "6060a503-5459-495d-e9f2-ff864f98e5c4"
      },
      "source": [
        "data = np.array([1, 2, 3])\r\n",
        "data[1]\r\n",
        "data[:2]\r\n",
        "data[:-1]\r\n",
        "data[1:2]\r\n",
        "data[-2:]"
      ],
      "execution_count": 27,
      "outputs": [
        {
          "output_type": "execute_result",
          "data": {
            "text/plain": [
              "array([2, 3])"
            ]
          },
          "metadata": {
            "tags": []
          },
          "execution_count": 27
        }
      ]
    },
    {
      "cell_type": "markdown",
      "metadata": {
        "id": "Ucwa4986FsDT"
      },
      "source": [
        "You may want to take a section of your array or specific array elements to use in further analysis or additional operations. To do that, you’ll need to subset, slice, and/or index your arrays"
      ]
    },
    {
      "cell_type": "code",
      "metadata": {
        "colab": {
          "base_uri": "https://localhost:8080/"
        },
        "id": "F-MTAY4GFbAk",
        "outputId": "ad659669-9470-4f38-8b08-1120f7c272d6"
      },
      "source": [
        "a = np.array([[1 , 2, 3, 4], [5, 6, 7, 8], [9, 10, 11, 12]])\r\n",
        "print(a)"
      ],
      "execution_count": 28,
      "outputs": [
        {
          "output_type": "stream",
          "text": [
            "[[ 1  2  3  4]\n",
            " [ 5  6  7  8]\n",
            " [ 9 10 11 12]]\n"
          ],
          "name": "stdout"
        }
      ]
    },
    {
      "cell_type": "code",
      "metadata": {
        "id": "ZFAHaxyjFyHT",
        "colab": {
          "base_uri": "https://localhost:8080/"
        },
        "outputId": "32b3ea57-cbea-42f5-b246-10282655b470"
      },
      "source": [
        "print(a[a<5])\r\n",
        "print(a[a>5])"
      ],
      "execution_count": 29,
      "outputs": [
        {
          "output_type": "stream",
          "text": [
            "[1 2 3 4]\n",
            "[ 6  7  8  9 10 11 12]\n"
          ],
          "name": "stdout"
        }
      ]
    },
    {
      "cell_type": "markdown",
      "metadata": {
        "id": "yP892Biw7THN"
      },
      "source": [
        "### How to create an array from existing data\r\n",
        "\r\n",
        "This section covers ```slicing and indexing, np.vstack(), np.hstack(), np.hsplit(), .view(), copy()```"
      ]
    },
    {
      "cell_type": "code",
      "metadata": {
        "colab": {
          "base_uri": "https://localhost:8080/"
        },
        "id": "SVOmr1Sp7Uwt",
        "outputId": "ddd70ce2-9ec9-4d0b-efc6-40a9e8706899"
      },
      "source": [
        "a = np.array([1,  2,  3,  4,  5,  6,  7,  8,  9, 10])\r\n",
        "print(a)\r\n",
        "arr1=a[3:8]\r\n",
        "print(arr1)"
      ],
      "execution_count": 30,
      "outputs": [
        {
          "output_type": "stream",
          "text": [
            "[ 1  2  3  4  5  6  7  8  9 10]\n",
            "[4 5 6 7 8]\n"
          ],
          "name": "stdout"
        }
      ]
    },
    {
      "cell_type": "markdown",
      "metadata": {
        "id": "4mJn5Ia275gd"
      },
      "source": [
        " stack two existing arrays, both vertically and horizontally"
      ]
    },
    {
      "cell_type": "code",
      "metadata": {
        "colab": {
          "base_uri": "https://localhost:8080/"
        },
        "id": "ioFScxnF77fa",
        "outputId": "ee710a1d-2664-4713-a5a4-c5e2d6456526"
      },
      "source": [
        "a1 = np.array([[1,1], [2,2]])\r\n",
        "a2 = np.array([[3,3], [4,4]])\r\n",
        "print(a1)\r\n",
        "print(a2)"
      ],
      "execution_count": 31,
      "outputs": [
        {
          "output_type": "stream",
          "text": [
            "[[1 1]\n",
            " [2 2]]\n",
            "[[3 3]\n",
            " [4 4]]\n"
          ],
          "name": "stdout"
        }
      ]
    },
    {
      "cell_type": "code",
      "metadata": {
        "colab": {
          "base_uri": "https://localhost:8080/"
        },
        "id": "fagwg8oE8lQo",
        "outputId": "93d52e88-50ef-4724-c727-e7dacb404a92"
      },
      "source": [
        "# stack them vertically with vstack:\r\n",
        "np.vstack((a1, a2))"
      ],
      "execution_count": 32,
      "outputs": [
        {
          "output_type": "execute_result",
          "data": {
            "text/plain": [
              "array([[1, 1],\n",
              "       [2, 2],\n",
              "       [3, 3],\n",
              "       [4, 4]])"
            ]
          },
          "metadata": {
            "tags": []
          },
          "execution_count": 32
        }
      ]
    },
    {
      "cell_type": "code",
      "metadata": {
        "colab": {
          "base_uri": "https://localhost:8080/"
        },
        "id": "Bw8NvEV18838",
        "outputId": "b4b8d9d6-0d95-441a-f91d-12d0169add67"
      },
      "source": [
        "# stack them horizontally with hstack\r\n",
        "np.hstack((a1, a2))"
      ],
      "execution_count": 33,
      "outputs": [
        {
          "output_type": "execute_result",
          "data": {
            "text/plain": [
              "array([[1, 1, 3, 3],\n",
              "       [2, 2, 4, 4]])"
            ]
          },
          "metadata": {
            "tags": []
          },
          "execution_count": 33
        }
      ]
    },
    {
      "cell_type": "markdown",
      "metadata": {
        "id": "vAF0ACSQ9fQH"
      },
      "source": [
        " split an array into several smaller arrays using `hsplit`"
      ]
    },
    {
      "cell_type": "code",
      "metadata": {
        "colab": {
          "base_uri": "https://localhost:8080/"
        },
        "id": "9cBG0Re39h3A",
        "outputId": "8c5bd0b9-6c0e-4bc3-e2a6-e79f9776b754"
      },
      "source": [
        "x = np.arange(1, 25).reshape(2, 12)\r\n",
        "print(x)"
      ],
      "execution_count": 34,
      "outputs": [
        {
          "output_type": "stream",
          "text": [
            "[[ 1  2  3  4  5  6  7  8  9 10 11 12]\n",
            " [13 14 15 16 17 18 19 20 21 22 23 24]]\n"
          ],
          "name": "stdout"
        }
      ]
    },
    {
      "cell_type": "code",
      "metadata": {
        "colab": {
          "base_uri": "https://localhost:8080/"
        },
        "id": "1CVN-xaU9u5I",
        "outputId": "84362f3e-20f9-4b81-e281-670a5ef91fe9"
      },
      "source": [
        "#  to split this array into three equally shape\r\n",
        "np.hsplit(x, 3)"
      ],
      "execution_count": 35,
      "outputs": [
        {
          "output_type": "execute_result",
          "data": {
            "text/plain": [
              "[array([[ 1,  2,  3,  4],\n",
              "        [13, 14, 15, 16]]), array([[ 5,  6,  7,  8],\n",
              "        [17, 18, 19, 20]]), array([[ 9, 10, 11, 12],\n",
              "        [21, 22, 23, 24]])]"
            ]
          },
          "metadata": {
            "tags": []
          },
          "execution_count": 35
        }
      ]
    },
    {
      "cell_type": "markdown",
      "metadata": {
        "id": "wPmZjq-l-KO4"
      },
      "source": [
        "### Basic array operations\r\n",
        "\r\n",
        "This section covers addition, subtraction, multiplication, division, and more"
      ]
    },
    {
      "cell_type": "code",
      "metadata": {
        "colab": {
          "base_uri": "https://localhost:8080/"
        },
        "id": "_XJ-zw5m-MQO",
        "outputId": "8f8cfae0-0be3-411b-ddd0-080da8bfc7c2"
      },
      "source": [
        "# addition\r\n",
        "data = np.array([1,2])\r\n",
        "ones = np.ones(2, dtype='int')\r\n",
        "\r\n",
        "print(\"data: \", data)\r\n",
        "print(\"ones: \", ones)\r\n",
        "\r\n",
        "result = data + ones\r\n",
        "print(\"result: \", result)"
      ],
      "execution_count": 36,
      "outputs": [
        {
          "output_type": "stream",
          "text": [
            "data:  [1 2]\n",
            "ones:  [1 1]\n",
            "result:  [2 3]\n"
          ],
          "name": "stdout"
        }
      ]
    },
    {
      "cell_type": "code",
      "metadata": {
        "colab": {
          "base_uri": "https://localhost:8080/"
        },
        "id": "GWpZGXe2BQym",
        "outputId": "a58c5417-9ace-4096-e087-30c33afc3dff"
      },
      "source": [
        "# more than just addition\r\n",
        "res_sub = data - ones\r\n",
        "res_mul = data * ones\r\n",
        "res_div = data / ones\r\n",
        "print(\"sub: \", res_sub)\r\n",
        "print(\"multi: \", res_mul)\r\n",
        "print(\"div: \", res_div)"
      ],
      "execution_count": 37,
      "outputs": [
        {
          "output_type": "stream",
          "text": [
            "sub:  [0 1]\n",
            "multi:  [1 2]\n",
            "div:  [1. 2.]\n"
          ],
          "name": "stdout"
        }
      ]
    },
    {
      "cell_type": "code",
      "metadata": {
        "colab": {
          "base_uri": "https://localhost:8080/"
        },
        "id": "fVhBWQTxB0im",
        "outputId": "551f1def-c4e2-4748-bde4-6deeafb087f9"
      },
      "source": [
        "# sum of elements\r\n",
        "a = np.array([1, 2, 3, 4])\r\n",
        "a.sum()"
      ],
      "execution_count": 38,
      "outputs": [
        {
          "output_type": "execute_result",
          "data": {
            "text/plain": [
              "10"
            ]
          },
          "metadata": {
            "tags": []
          },
          "execution_count": 38
        }
      ]
    },
    {
      "cell_type": "markdown",
      "metadata": {
        "id": "TWHCDYyWCNUH"
      },
      "source": [
        "To add the rows or the columns in a 2D array, you would specify the axis."
      ]
    },
    {
      "cell_type": "code",
      "metadata": {
        "colab": {
          "base_uri": "https://localhost:8080/"
        },
        "id": "c6nXLua7COBA",
        "outputId": "963b420f-0ddb-46ae-b138-2b5b99c404cd"
      },
      "source": [
        "b = np.array([[1, 1], [2, 2]])\r\n",
        "b.sum(axis=0)\r\n",
        "b.sum(axis=1)"
      ],
      "execution_count": 39,
      "outputs": [
        {
          "output_type": "execute_result",
          "data": {
            "text/plain": [
              "array([2, 4])"
            ]
          },
          "metadata": {
            "tags": []
          },
          "execution_count": 39
        }
      ]
    },
    {
      "cell_type": "markdown",
      "metadata": {
        "id": "hFXPBiAvCoIF"
      },
      "source": [
        "### Broadcasting\r\n",
        "\r\n",
        "There are times when you might want to carry out an operation between an array and a single number (also called an operation between a vector and a scalar) or between arrays of two different sizes. For example, your array (we’ll call it “data”) might contain information about distance in miles but you want to convert the information to kilometers. You can perform this operation with"
      ]
    },
    {
      "cell_type": "code",
      "metadata": {
        "colab": {
          "base_uri": "https://localhost:8080/"
        },
        "id": "joui5A62ev0l",
        "outputId": "b4d72e27-e40a-465f-fb8a-a6647f07db1e"
      },
      "source": [
        "data = np.array([1.0, 2.0])\r\n",
        "data * 1.6"
      ],
      "execution_count": 40,
      "outputs": [
        {
          "output_type": "execute_result",
          "data": {
            "text/plain": [
              "array([1.6, 3.2])"
            ]
          },
          "metadata": {
            "tags": []
          },
          "execution_count": 40
        }
      ]
    },
    {
      "cell_type": "markdown",
      "metadata": {
        "id": "urXp_SXyfQXs"
      },
      "source": [
        "NumPy understands that the multiplication should happen with each cell. That concept is called broadcasting. Broadcasting is a mechanism that allows NumPy to perform operations on arrays of different shapes. The dimensions of your array must be compatible, for example, when the dimensions of both arrays are equal or when one of them is 1. If the dimensions are not compatible, you will get a ValueError"
      ]
    },
    {
      "cell_type": "markdown",
      "metadata": {
        "id": "zxOoFpMbfYIs"
      },
      "source": [
        "### More useful array operations\r\n",
        "\r\n",
        "This section covers ```maximum, minimum, sum, mean, product, standard deviation, and more```\r\n",
        "\r\n"
      ]
    },
    {
      "cell_type": "code",
      "metadata": {
        "colab": {
          "base_uri": "https://localhost:8080/"
        },
        "id": "2YBd4S4rffb9",
        "outputId": "9dda175f-655c-4e22-8611-8792b3068a04"
      },
      "source": [
        "data = np.array([1.0, 2.0, 3.0])\r\n",
        "data_max = data.max()\r\n",
        "data_min = data.min()\r\n",
        "data_sum = data.sum()\r\n",
        "print('max ', data_max)\r\n",
        "print('min ', data_min)\r\n",
        "print('sum ', data_sum)"
      ],
      "execution_count": 42,
      "outputs": [
        {
          "output_type": "stream",
          "text": [
            "max  3.0\n",
            "min  1.0\n",
            "sum  6.0\n"
          ],
          "name": "stdout"
        }
      ]
    },
    {
      "cell_type": "markdown",
      "metadata": {
        "id": "a8dVT9kZgGMc"
      },
      "source": [
        "### Creating matrices\r\n",
        "\r\n",
        "You can pass Python lists of lists to create a 2-D array (or “matrix”) to represent them in NumPy."
      ]
    },
    {
      "cell_type": "code",
      "metadata": {
        "colab": {
          "base_uri": "https://localhost:8080/"
        },
        "id": "RnSpQphlgHcE",
        "outputId": "bc2c75f9-c1b1-4630-aace-301fca46a197"
      },
      "source": [
        "data = np.array([[1, 2], [3, 4]])\r\n",
        "data\r\n"
      ],
      "execution_count": 43,
      "outputs": [
        {
          "output_type": "execute_result",
          "data": {
            "text/plain": [
              "array([[1, 2],\n",
              "       [3, 4]])"
            ]
          },
          "metadata": {
            "tags": []
          },
          "execution_count": 43
        }
      ]
    },
    {
      "cell_type": "markdown",
      "metadata": {
        "id": "XjALJPGTgTk1"
      },
      "source": [
        "Indexing and slicing operations are useful when you’re manipulating matrices:"
      ]
    },
    {
      "cell_type": "code",
      "metadata": {
        "colab": {
          "base_uri": "https://localhost:8080/"
        },
        "id": "Hz81VKuWgQ00",
        "outputId": "56b7ab8d-5c51-48df-d06a-24a32ce791a4"
      },
      "source": [
        "data[0:1]"
      ],
      "execution_count": 47,
      "outputs": [
        {
          "output_type": "execute_result",
          "data": {
            "text/plain": [
              "array([[1, 2]])"
            ]
          },
          "metadata": {
            "tags": []
          },
          "execution_count": 47
        }
      ]
    },
    {
      "cell_type": "code",
      "metadata": {
        "colab": {
          "base_uri": "https://localhost:8080/"
        },
        "id": "7ff4s4seghlW",
        "outputId": "118e78ea-aee2-4410-cb58-30b2532dba84"
      },
      "source": [
        "data[1:3]"
      ],
      "execution_count": 48,
      "outputs": [
        {
          "output_type": "execute_result",
          "data": {
            "text/plain": [
              "array([[3, 4]])"
            ]
          },
          "metadata": {
            "tags": []
          },
          "execution_count": 48
        }
      ]
    },
    {
      "cell_type": "code",
      "metadata": {
        "colab": {
          "base_uri": "https://localhost:8080/"
        },
        "id": "oyrLlU3Cgl-V",
        "outputId": "8428a8a7-cc9d-4548-b198-af2669a18be2"
      },
      "source": [
        "data[0:2,0]"
      ],
      "execution_count": 49,
      "outputs": [
        {
          "output_type": "execute_result",
          "data": {
            "text/plain": [
              "array([1, 3])"
            ]
          },
          "metadata": {
            "tags": []
          },
          "execution_count": 49
        }
      ]
    },
    {
      "cell_type": "markdown",
      "metadata": {
        "id": "cVWUuMlugwfd"
      },
      "source": [
        "You can aggregate matrices the same way you aggregated vectors:"
      ]
    },
    {
      "cell_type": "code",
      "metadata": {
        "colab": {
          "base_uri": "https://localhost:8080/"
        },
        "id": "woJDcoR1grQV",
        "outputId": "b254b2d5-57cd-42d0-b3d9-3bcfccf3ca5c"
      },
      "source": [
        "data.max()\r\n",
        "data.min()\r\n",
        "data.sum()"
      ],
      "execution_count": 52,
      "outputs": [
        {
          "output_type": "execute_result",
          "data": {
            "text/plain": [
              "10"
            ]
          },
          "metadata": {
            "tags": []
          },
          "execution_count": 52
        }
      ]
    },
    {
      "cell_type": "markdown",
      "metadata": {
        "id": "HhIvAD8dg4ot"
      },
      "source": [
        "You can aggregate all the values in a matrix and you can aggregate them across columns or rows using the axis parameter:"
      ]
    },
    {
      "cell_type": "code",
      "metadata": {
        "colab": {
          "base_uri": "https://localhost:8080/"
        },
        "id": "aBu_08QFg5MM",
        "outputId": "70c84fe7-2d2b-4430-aff6-afd1f049df9f"
      },
      "source": [
        "data.max(axis=0)"
      ],
      "execution_count": 53,
      "outputs": [
        {
          "output_type": "execute_result",
          "data": {
            "text/plain": [
              "array([3, 4])"
            ]
          },
          "metadata": {
            "tags": []
          },
          "execution_count": 53
        }
      ]
    },
    {
      "cell_type": "code",
      "metadata": {
        "colab": {
          "base_uri": "https://localhost:8080/"
        },
        "id": "CoVSSVzShDRF",
        "outputId": "f8daf050-0c10-444f-cd91-a2473bf8ae38"
      },
      "source": [
        "data.max(axis=1)"
      ],
      "execution_count": 54,
      "outputs": [
        {
          "output_type": "execute_result",
          "data": {
            "text/plain": [
              "array([2, 4])"
            ]
          },
          "metadata": {
            "tags": []
          },
          "execution_count": 54
        }
      ]
    },
    {
      "cell_type": "markdown",
      "metadata": {
        "id": "Qu7bjay5hYUk"
      },
      "source": [
        "### How to get unique items and counts\r\n",
        "\r\n",
        "You can find the unique elements in an array easily with `np.unique`"
      ]
    },
    {
      "cell_type": "code",
      "metadata": {
        "colab": {
          "base_uri": "https://localhost:8080/"
        },
        "id": "ecSQmb53hcRt",
        "outputId": "3d45877d-2350-42ab-dc12-dc83198d3afc"
      },
      "source": [
        "a = np.array([11, 11, 12, 13, 14, 15, 16, 17, 12, 13, 11, 14, 18, 19, 20])\r\n",
        "print(a)"
      ],
      "execution_count": 57,
      "outputs": [
        {
          "output_type": "stream",
          "text": [
            "[11 11 12 13 14 15 16 17 12 13 11 14 18 19 20]\n"
          ],
          "name": "stdout"
        }
      ]
    },
    {
      "cell_type": "code",
      "metadata": {
        "colab": {
          "base_uri": "https://localhost:8080/"
        },
        "id": "m2LGdxuShpAD",
        "outputId": "bec2fa84-0a94-4314-b45d-51293918a241"
      },
      "source": [
        "unique_values = np.unique(a)\r\n",
        "print(unique_values)"
      ],
      "execution_count": 58,
      "outputs": [
        {
          "output_type": "stream",
          "text": [
            "[11 12 13 14 15 16 17 18 19 20]\n"
          ],
          "name": "stdout"
        }
      ]
    },
    {
      "cell_type": "markdown",
      "metadata": {
        "id": "gjPLYvaCh6Gv"
      },
      "source": [
        "To get the indices of unique values in a NumPy array (an array of first index positions of unique values in the array), just pass the return_index argument in np.unique() as well as your array."
      ]
    },
    {
      "cell_type": "code",
      "metadata": {
        "colab": {
          "base_uri": "https://localhost:8080/"
        },
        "id": "FsTdR2Iih6wH",
        "outputId": "47833048-8b8d-47c4-e8f7-bfdeeed91236"
      },
      "source": [
        "unique_values, indices_list = np.unique(a, return_index=True)\r\n",
        "print(indices_list)"
      ],
      "execution_count": 59,
      "outputs": [
        {
          "output_type": "stream",
          "text": [
            "[ 0  2  3  4  5  6  7 12 13 14]\n"
          ],
          "name": "stdout"
        }
      ]
    },
    {
      "cell_type": "markdown",
      "metadata": {
        "id": "KAkUDT_AiF6_"
      },
      "source": [
        "You can pass the return_counts argument in np.unique() along with your array to get the frequency count of unique values in a NumPy array"
      ]
    },
    {
      "cell_type": "code",
      "metadata": {
        "colab": {
          "base_uri": "https://localhost:8080/"
        },
        "id": "M1jawe6ViFSY",
        "outputId": "78838e5c-9ef9-4118-dede-bbdd5747d347"
      },
      "source": [
        " unique_values, occurrence_count = np.unique(a, return_counts=True)\r\n",
        " print(occurrence_count)"
      ],
      "execution_count": 60,
      "outputs": [
        {
          "output_type": "stream",
          "text": [
            "[3 2 2 2 1 1 1 1 1 1]\n"
          ],
          "name": "stdout"
        }
      ]
    },
    {
      "cell_type": "markdown",
      "metadata": {
        "id": "OrZY1bMAiPY-"
      },
      "source": [
        "### Transposing and reshaping a matrix\r\n",
        "\r\n",
        "transpose your array with `arr.transpose()`."
      ]
    },
    {
      "cell_type": "code",
      "metadata": {
        "colab": {
          "base_uri": "https://localhost:8080/"
        },
        "id": "y-SVeashiV-J",
        "outputId": "127064e6-bb47-4130-d27a-12e84c2eeb6a"
      },
      "source": [
        "arr = np.arange(6).reshape((2, 3))\r\n",
        "print(arr)"
      ],
      "execution_count": 62,
      "outputs": [
        {
          "output_type": "stream",
          "text": [
            "[[0 1 2]\n",
            " [3 4 5]]\n"
          ],
          "name": "stdout"
        }
      ]
    },
    {
      "cell_type": "code",
      "metadata": {
        "colab": {
          "base_uri": "https://localhost:8080/"
        },
        "id": "4sJsMM6HiZNW",
        "outputId": "9c89bafe-61aa-4049-8de4-25852bbec820"
      },
      "source": [
        "arr.transpose()"
      ],
      "execution_count": 63,
      "outputs": [
        {
          "output_type": "execute_result",
          "data": {
            "text/plain": [
              "array([[0, 3],\n",
              "       [1, 4],\n",
              "       [2, 5]])"
            ]
          },
          "metadata": {
            "tags": []
          },
          "execution_count": 63
        }
      ]
    },
    {
      "cell_type": "markdown",
      "metadata": {
        "id": "D4mNXwNmilLW"
      },
      "source": [
        "### How to reverse an array\r\n",
        "NumPy’s `np.flip()` function allows you to flip, or reverse, the contents of an array along an axis. When using `np.flip`, specify the array you would like to reverse and the axis. If you don’t specify the axis, NumPy will reverse the contents along all of the axes of your input array."
      ]
    },
    {
      "cell_type": "markdown",
      "metadata": {
        "id": "QcT3wQPAiyv2"
      },
      "source": [
        "#### Reversing a 1D array"
      ]
    },
    {
      "cell_type": "code",
      "metadata": {
        "colab": {
          "base_uri": "https://localhost:8080/"
        },
        "id": "botoG7ljimUf",
        "outputId": "e28c2159-4b06-4f0a-ea08-6d49060b91eb"
      },
      "source": [
        "arr = np.array([1, 2, 3, 4, 5, 6, 7, 8])\r\n",
        "print(arr)\r\n",
        "\r\n",
        "reversed_arr = np.flip(arr)\r\n",
        "print(reversed_arr)"
      ],
      "execution_count": 65,
      "outputs": [
        {
          "output_type": "stream",
          "text": [
            "[1 2 3 4 5 6 7 8]\n",
            "[8 7 6 5 4 3 2 1]\n"
          ],
          "name": "stdout"
        }
      ]
    },
    {
      "cell_type": "markdown",
      "metadata": {
        "id": "JuWfiB5VjD9m"
      },
      "source": [
        "#### Reversing a 2D array"
      ]
    },
    {
      "cell_type": "code",
      "metadata": {
        "colab": {
          "base_uri": "https://localhost:8080/"
        },
        "id": "f3ZvG8U9jHq2",
        "outputId": "64c71d6c-6772-4535-b64f-09d1238efdad"
      },
      "source": [
        "arr_2d = np.array([[1, 2, 3, 4], [5, 6, 7, 8], [9, 10, 11, 12]])\r\n",
        "print(arr_2d)\r\n",
        "\r\n",
        "reversed_arr_2d = np.flip(arr_2d)\r\n",
        "print(reversed_arr_2d)"
      ],
      "execution_count": 67,
      "outputs": [
        {
          "output_type": "stream",
          "text": [
            "[[ 1  2  3  4]\n",
            " [ 5  6  7  8]\n",
            " [ 9 10 11 12]]\n",
            "[[12 11 10  9]\n",
            " [ 8  7  6  5]\n",
            " [ 4  3  2  1]]\n"
          ],
          "name": "stdout"
        }
      ]
    },
    {
      "cell_type": "markdown",
      "metadata": {
        "id": "vEHGRXG8jfjX"
      },
      "source": [
        "### Reshaping and flattening multidimensional arrays\r\n",
        "This section covers `.flatten()`,`ravel()`\r\n",
        "\r\n",
        "There are two popular ways to flatten an array: `.flatten()` and `.ravel()`. The primary difference between the two is that the new array created using `ravel()` is actually a reference to the parent array (i.e., a “view”). This means that any changes to the new array will affect the parent array as well. Since `ravel` does not create a copy, it’s memory efficient."
      ]
    },
    {
      "cell_type": "code",
      "metadata": {
        "colab": {
          "base_uri": "https://localhost:8080/"
        },
        "id": "vU8jjK0Sj25o",
        "outputId": "fcde09f5-afa1-4934-8021-7e7724e20cac"
      },
      "source": [
        "x = np.array([[1 , 2, 3, 4], [5, 6, 7, 8], [9, 10, 11, 12]])\r\n",
        "print(x)"
      ],
      "execution_count": 69,
      "outputs": [
        {
          "output_type": "stream",
          "text": [
            "[[ 1  2  3  4]\n",
            " [ 5  6  7  8]\n",
            " [ 9 10 11 12]]\n"
          ],
          "name": "stdout"
        }
      ]
    },
    {
      "cell_type": "code",
      "metadata": {
        "colab": {
          "base_uri": "https://localhost:8080/"
        },
        "id": "XYs2_mtXj9tX",
        "outputId": "0e3979c1-d2b6-4d0a-aeba-cd4a45524f24"
      },
      "source": [
        "# You can use flatten to flatten your array into a 1D array.\r\n",
        "x.flatten()"
      ],
      "execution_count": 70,
      "outputs": [
        {
          "output_type": "execute_result",
          "data": {
            "text/plain": [
              "array([ 1,  2,  3,  4,  5,  6,  7,  8,  9, 10, 11, 12])"
            ]
          },
          "metadata": {
            "tags": []
          },
          "execution_count": 70
        }
      ]
    },
    {
      "cell_type": "code",
      "metadata": {
        "colab": {
          "base_uri": "https://localhost:8080/"
        },
        "id": "BHDw2lKkkCUe",
        "outputId": "9022ea84-7c0b-4e88-a385-e23de59d3a24"
      },
      "source": [
        "# When you use flatten, changes to your new array won’t change the parent array.\r\n",
        "a1 = x.flatten()\r\n",
        "a1[0] = 99\r\n",
        "print(x)"
      ],
      "execution_count": 71,
      "outputs": [
        {
          "output_type": "stream",
          "text": [
            "[[ 1  2  3  4]\n",
            " [ 5  6  7  8]\n",
            " [ 9 10 11 12]]\n"
          ],
          "name": "stdout"
        }
      ]
    },
    {
      "cell_type": "markdown",
      "metadata": {
        "id": "WsF-6rSxkTRR"
      },
      "source": [
        "But when you use ravel, the changes you make to the new array will affect the parent array."
      ]
    },
    {
      "cell_type": "code",
      "metadata": {
        "colab": {
          "base_uri": "https://localhost:8080/"
        },
        "id": "ljtXt6nZkTxA",
        "outputId": "3f3bc8dc-644e-4869-a8b0-15d5e86f6bff"
      },
      "source": [
        "a2 = x.ravel()\r\n",
        "print(a2)"
      ],
      "execution_count": 72,
      "outputs": [
        {
          "output_type": "stream",
          "text": [
            "[ 1  2  3  4  5  6  7  8  9 10 11 12]\n"
          ],
          "name": "stdout"
        }
      ]
    },
    {
      "cell_type": "code",
      "metadata": {
        "colab": {
          "base_uri": "https://localhost:8080/"
        },
        "id": "lzEICQ_EkZsY",
        "outputId": "bfdf0550-afd3-4084-eba3-b97e6ef68a8f"
      },
      "source": [
        "a2[0] = 98\r\n",
        "print(x)"
      ],
      "execution_count": 73,
      "outputs": [
        {
          "output_type": "stream",
          "text": [
            "[[98  2  3  4]\n",
            " [ 5  6  7  8]\n",
            " [ 9 10 11 12]]\n"
          ],
          "name": "stdout"
        }
      ]
    },
    {
      "cell_type": "code",
      "metadata": {
        "id": "22Yv6-PPkdrP"
      },
      "source": [
        ""
      ],
      "execution_count": null,
      "outputs": []
    }
  ]
}