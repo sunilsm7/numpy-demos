{
  "nbformat": 4,
  "nbformat_minor": 0,
  "metadata": {
    "colab": {
      "name": "Numpy_demos.ipynb",
      "provenance": [],
      "authorship_tag": "ABX9TyMpAGZHNht1OetbjNsRTlY3",
      "include_colab_link": true
    },
    "kernelspec": {
      "name": "python3",
      "display_name": "Python 3"
    }
  },
  "cells": [
    {
      "cell_type": "markdown",
      "metadata": {
        "id": "view-in-github",
        "colab_type": "text"
      },
      "source": [
        "<a href=\"https://colab.research.google.com/github/sunilsm7/numpy-demos/blob/main/Numpy_demos.ipynb\" target=\"_parent\"><img src=\"https://colab.research.google.com/assets/colab-badge.svg\" alt=\"Open In Colab\"/></a>"
      ]
    },
    {
      "cell_type": "markdown",
      "metadata": {
        "id": "SlvX3eeku4q5"
      },
      "source": [
        "# Numpy Examples"
      ]
    },
    {
      "cell_type": "code",
      "metadata": {
        "id": "Kw1MJB_ioTtm"
      },
      "source": [
        "import numpy as np\r\n",
        "import sys"
      ],
      "execution_count": 1,
      "outputs": []
    },
    {
      "cell_type": "markdown",
      "metadata": {
        "id": "tLj1k1Q7uxpY"
      },
      "source": [
        "## The Basics"
      ]
    },
    {
      "cell_type": "code",
      "metadata": {
        "colab": {
          "base_uri": "https://localhost:8080/"
        },
        "id": "EtJgNDeduxKD",
        "outputId": "f5ca1eec-f9b7-4fbb-bb6a-abff1643b552"
      },
      "source": [
        "a = np.array([1,2,3,4,5], dtype='int32')\r\n",
        "print(a)"
      ],
      "execution_count": 2,
      "outputs": [
        {
          "output_type": "stream",
          "text": [
            "[1 2 3 4 5]\n"
          ],
          "name": "stdout"
        }
      ]
    },
    {
      "cell_type": "code",
      "metadata": {
        "colab": {
          "base_uri": "https://localhost:8080/"
        },
        "id": "3GqPkuA_vXHR",
        "outputId": "6ce87797-dddb-4efe-8538-ee4ed507fc37"
      },
      "source": [
        "b = np.array([[1,2,3,4],[4,5,6,7]])\r\n",
        "print(b)"
      ],
      "execution_count": 3,
      "outputs": [
        {
          "output_type": "stream",
          "text": [
            "[[1 2 3 4]\n",
            " [4 5 6 7]]\n"
          ],
          "name": "stdout"
        }
      ]
    },
    {
      "cell_type": "code",
      "metadata": {
        "colab": {
          "base_uri": "https://localhost:8080/"
        },
        "id": "wgDMuT5fvsw9",
        "outputId": "1d17b200-7bd8-412d-94c8-efc3851a66fc"
      },
      "source": [
        "# Get Dimension\r\n",
        "a.ndim"
      ],
      "execution_count": 4,
      "outputs": [
        {
          "output_type": "execute_result",
          "data": {
            "text/plain": [
              "1"
            ]
          },
          "metadata": {
            "tags": []
          },
          "execution_count": 4
        }
      ]
    },
    {
      "cell_type": "code",
      "metadata": {
        "colab": {
          "base_uri": "https://localhost:8080/"
        },
        "id": "vj3kU1DUv8pP",
        "outputId": "196e8d43-fc74-4ae6-d362-9398f58d2f09"
      },
      "source": [
        "# Get Shape\r\n",
        "b.shape"
      ],
      "execution_count": 5,
      "outputs": [
        {
          "output_type": "execute_result",
          "data": {
            "text/plain": [
              "(2, 4)"
            ]
          },
          "metadata": {
            "tags": []
          },
          "execution_count": 5
        }
      ]
    },
    {
      "cell_type": "code",
      "metadata": {
        "colab": {
          "base_uri": "https://localhost:8080/"
        },
        "id": "BO_HeVsuwBrP",
        "outputId": "3d14344b-3381-46f5-87f9-afe4b4394069"
      },
      "source": [
        "# Get data Type\r\n",
        "a.dtype"
      ],
      "execution_count": 6,
      "outputs": [
        {
          "output_type": "execute_result",
          "data": {
            "text/plain": [
              "dtype('int32')"
            ]
          },
          "metadata": {
            "tags": []
          },
          "execution_count": 6
        }
      ]
    },
    {
      "cell_type": "code",
      "metadata": {
        "colab": {
          "base_uri": "https://localhost:8080/"
        },
        "id": "pFiD92TowYMx",
        "outputId": "bee32967-e698-4207-e25c-4922ed4f89c9"
      },
      "source": [
        "# Get Size\r\n",
        "a.itemsize"
      ],
      "execution_count": 7,
      "outputs": [
        {
          "output_type": "execute_result",
          "data": {
            "text/plain": [
              "4"
            ]
          },
          "metadata": {
            "tags": []
          },
          "execution_count": 7
        }
      ]
    },
    {
      "cell_type": "code",
      "metadata": {
        "colab": {
          "base_uri": "https://localhost:8080/"
        },
        "id": "Vzl9vBUXxHlD",
        "outputId": "17d54f74-727d-48dc-e192-cafa6057a8ec"
      },
      "source": [
        "# Get Total Size\r\n",
        "a.nbytes"
      ],
      "execution_count": 8,
      "outputs": [
        {
          "output_type": "execute_result",
          "data": {
            "text/plain": [
              "20"
            ]
          },
          "metadata": {
            "tags": []
          },
          "execution_count": 8
        }
      ]
    },
    {
      "cell_type": "code",
      "metadata": {
        "colab": {
          "base_uri": "https://localhost:8080/"
        },
        "id": "4pTnpMFsxQCo",
        "outputId": "49e2c596-754f-431a-e673-1cd1c4c542e3"
      },
      "source": [
        "# Get number of elements\r\n",
        "a.size"
      ],
      "execution_count": 9,
      "outputs": [
        {
          "output_type": "execute_result",
          "data": {
            "text/plain": [
              "5"
            ]
          },
          "metadata": {
            "tags": []
          },
          "execution_count": 9
        }
      ]
    },
    {
      "cell_type": "markdown",
      "metadata": {
        "id": "-2tHVb9VxTtp"
      },
      "source": [
        "## Accessing/Changing specific elements, rows, columns, etc"
      ]
    },
    {
      "cell_type": "code",
      "metadata": {
        "colab": {
          "base_uri": "https://localhost:8080/"
        },
        "id": "CXrJUaAnxXJJ",
        "outputId": "f0d2e343-db6c-45f6-eae2-8a9f5be1d582"
      },
      "source": [
        "a = np.array([[1,2,3,4,5,6,7],[8,9,10,11,12,13,14]])\r\n",
        "print(a)"
      ],
      "execution_count": 10,
      "outputs": [
        {
          "output_type": "stream",
          "text": [
            "[[ 1  2  3  4  5  6  7]\n",
            " [ 8  9 10 11 12 13 14]]\n"
          ],
          "name": "stdout"
        }
      ]
    },
    {
      "cell_type": "code",
      "metadata": {
        "id": "xRlDKN0HyRD9",
        "colab": {
          "base_uri": "https://localhost:8080/"
        },
        "outputId": "5be88c27-92a7-43f7-e463-755401b22e45"
      },
      "source": [
        "# Get a specific element [r, c]\r\n",
        "a[1,5]"
      ],
      "execution_count": 11,
      "outputs": [
        {
          "output_type": "execute_result",
          "data": {
            "text/plain": [
              "13"
            ]
          },
          "metadata": {
            "tags": []
          },
          "execution_count": 11
        }
      ]
    },
    {
      "cell_type": "code",
      "metadata": {
        "colab": {
          "base_uri": "https://localhost:8080/"
        },
        "id": "8x0NgPbon7Le",
        "outputId": "bb43d464-0bc0-48c2-a65b-d86b0973974d"
      },
      "source": [
        "# Get a specific row \r\n",
        "a[0,:]"
      ],
      "execution_count": 12,
      "outputs": [
        {
          "output_type": "execute_result",
          "data": {
            "text/plain": [
              "array([1, 2, 3, 4, 5, 6, 7])"
            ]
          },
          "metadata": {
            "tags": []
          },
          "execution_count": 12
        }
      ]
    },
    {
      "cell_type": "code",
      "metadata": {
        "colab": {
          "base_uri": "https://localhost:8080/"
        },
        "id": "hfZ74pjkoZ6R",
        "outputId": "49f708bb-fa39-4bf8-a4f8-97f0a67ad037"
      },
      "source": [
        "# Get a specific column\r\n",
        "a[:,2]"
      ],
      "execution_count": 13,
      "outputs": [
        {
          "output_type": "execute_result",
          "data": {
            "text/plain": [
              "array([ 3, 10])"
            ]
          },
          "metadata": {
            "tags": []
          },
          "execution_count": 13
        }
      ]
    },
    {
      "cell_type": "code",
      "metadata": {
        "colab": {
          "base_uri": "https://localhost:8080/"
        },
        "id": "40GuZISjoaTc",
        "outputId": "0f9f4dde-1e47-45f0-b309-8cded2dd3bc7"
      },
      "source": [
        "# Getting a little more fancy [startindex:endindex:stepsize]\r\n",
        "a[0, 1:6:2]"
      ],
      "execution_count": 14,
      "outputs": [
        {
          "output_type": "execute_result",
          "data": {
            "text/plain": [
              "array([2, 4, 6])"
            ]
          },
          "metadata": {
            "tags": []
          },
          "execution_count": 14
        }
      ]
    },
    {
      "cell_type": "code",
      "metadata": {
        "colab": {
          "base_uri": "https://localhost:8080/"
        },
        "id": "pHuhu3DXpLdp",
        "outputId": "a922c57e-491f-4200-dd94-332d6c995a4a"
      },
      "source": [
        "# Change Element\r\n",
        "a[1,5] = 20\r\n",
        "print(a)\r\n",
        "a[:,2] = [1,2]\r\n",
        "print(a)"
      ],
      "execution_count": 15,
      "outputs": [
        {
          "output_type": "stream",
          "text": [
            "[[ 1  2  3  4  5  6  7]\n",
            " [ 8  9 10 11 12 20 14]]\n",
            "[[ 1  2  1  4  5  6  7]\n",
            " [ 8  9  2 11 12 20 14]]\n"
          ],
          "name": "stdout"
        }
      ]
    },
    {
      "cell_type": "markdown",
      "metadata": {
        "id": "MaWZRmj-qAWe"
      },
      "source": [
        "\r\n",
        "*3-d example"
      ]
    },
    {
      "cell_type": "code",
      "metadata": {
        "colab": {
          "base_uri": "https://localhost:8080/"
        },
        "id": "1T1OG-f0qBeU",
        "outputId": "d45b8e4e-d2ce-433a-aff5-ef20421b02d9"
      },
      "source": [
        "b = np.array([[[1,2],[3,4]],[[5,6],[7,8]]])\r\n",
        "print(b)"
      ],
      "execution_count": 16,
      "outputs": [
        {
          "output_type": "stream",
          "text": [
            "[[[1 2]\n",
            "  [3 4]]\n",
            "\n",
            " [[5 6]\n",
            "  [7 8]]]\n"
          ],
          "name": "stdout"
        }
      ]
    },
    {
      "cell_type": "code",
      "metadata": {
        "colab": {
          "base_uri": "https://localhost:8080/"
        },
        "id": "oC5UIP1rqRG_",
        "outputId": "74772344-ea1a-40ba-d590-7eea65b0a171"
      },
      "source": [
        "# Get specific element (work outside in)\r\n",
        "b[0,1,1]"
      ],
      "execution_count": 17,
      "outputs": [
        {
          "output_type": "execute_result",
          "data": {
            "text/plain": [
              "4"
            ]
          },
          "metadata": {
            "tags": []
          },
          "execution_count": 17
        }
      ]
    },
    {
      "cell_type": "code",
      "metadata": {
        "id": "IadHh9EJquAt"
      },
      "source": [
        "# replace - required same shape\r\n",
        "b[:,1,:] = [[9,9],[8,8]]"
      ],
      "execution_count": 18,
      "outputs": []
    },
    {
      "cell_type": "code",
      "metadata": {
        "colab": {
          "base_uri": "https://localhost:8080/"
        },
        "id": "3sDm9eBqrAOd",
        "outputId": "45eb0ed7-e180-4c62-b93b-1c4f7032baa3"
      },
      "source": [
        "print(b)"
      ],
      "execution_count": 19,
      "outputs": [
        {
          "output_type": "stream",
          "text": [
            "[[[1 2]\n",
            "  [9 9]]\n",
            "\n",
            " [[5 6]\n",
            "  [8 8]]]\n"
          ],
          "name": "stdout"
        }
      ]
    },
    {
      "cell_type": "markdown",
      "metadata": {
        "id": "IUw4UT2QrOga"
      },
      "source": [
        "## Initializing Different Types of Arrays"
      ]
    },
    {
      "cell_type": "code",
      "metadata": {
        "id": "aPXOFqnWrSNl",
        "colab": {
          "base_uri": "https://localhost:8080/"
        },
        "outputId": "32739bb5-16cd-4e47-bd3f-91041db9365d"
      },
      "source": [
        "# All 0s matrix\r\n",
        "np.zeros((2,3))"
      ],
      "execution_count": 21,
      "outputs": [
        {
          "output_type": "execute_result",
          "data": {
            "text/plain": [
              "array([[0., 0., 0.],\n",
              "       [0., 0., 0.]])"
            ]
          },
          "metadata": {
            "tags": []
          },
          "execution_count": 21
        }
      ]
    },
    {
      "cell_type": "code",
      "metadata": {
        "colab": {
          "base_uri": "https://localhost:8080/"
        },
        "id": "xojWYpyalMXB",
        "outputId": "2902bec4-e72c-4f2d-e81b-abe8e50b311f"
      },
      "source": [
        "# All 1s matrix\r\n",
        "np.ones((4,2,2), dtype='int32')"
      ],
      "execution_count": 24,
      "outputs": [
        {
          "output_type": "execute_result",
          "data": {
            "text/plain": [
              "array([[[1, 1],\n",
              "        [1, 1]],\n",
              "\n",
              "       [[1, 1],\n",
              "        [1, 1]],\n",
              "\n",
              "       [[1, 1],\n",
              "        [1, 1]],\n",
              "\n",
              "       [[1, 1],\n",
              "        [1, 1]]], dtype=int32)"
            ]
          },
          "metadata": {
            "tags": []
          },
          "execution_count": 24
        }
      ]
    },
    {
      "cell_type": "code",
      "metadata": {
        "colab": {
          "base_uri": "https://localhost:8080/"
        },
        "id": "J94l2caplc1M",
        "outputId": "7d67d08b-1710-45b4-c1f0-307dfb08c7a9"
      },
      "source": [
        "# Any other number\r\n",
        "np.full((2,2), 99)"
      ],
      "execution_count": 25,
      "outputs": [
        {
          "output_type": "execute_result",
          "data": {
            "text/plain": [
              "array([[99, 99],\n",
              "       [99, 99]])"
            ]
          },
          "metadata": {
            "tags": []
          },
          "execution_count": 25
        }
      ]
    },
    {
      "cell_type": "code",
      "metadata": {
        "colab": {
          "base_uri": "https://localhost:8080/"
        },
        "id": "OVVc-rpZlzhk",
        "outputId": "dc686b72-6d96-41c1-d7d3-8d1ed08474f6"
      },
      "source": [
        "# Any other number (full_like)\r\n",
        "np.full_like(a, 4)"
      ],
      "execution_count": 27,
      "outputs": [
        {
          "output_type": "execute_result",
          "data": {
            "text/plain": [
              "array([[4, 4, 4, 4, 4, 4, 4],\n",
              "       [4, 4, 4, 4, 4, 4, 4]])"
            ]
          },
          "metadata": {
            "tags": []
          },
          "execution_count": 27
        }
      ]
    },
    {
      "cell_type": "code",
      "metadata": {
        "colab": {
          "base_uri": "https://localhost:8080/"
        },
        "id": "-ZpBcH2dl0D5",
        "outputId": "1d0924f2-c835-4558-a7a2-8c79ed0d3c20"
      },
      "source": [
        "# Random decimal numbers\r\n",
        "np.random.rand(4,2)"
      ],
      "execution_count": 28,
      "outputs": [
        {
          "output_type": "execute_result",
          "data": {
            "text/plain": [
              "array([[0.37571727, 0.54169475],\n",
              "       [0.172148  , 0.80315414],\n",
              "       [0.70143464, 0.38294895],\n",
              "       [0.97761296, 0.50017422]])"
            ]
          },
          "metadata": {
            "tags": []
          },
          "execution_count": 28
        }
      ]
    },
    {
      "cell_type": "code",
      "metadata": {
        "colab": {
          "base_uri": "https://localhost:8080/"
        },
        "id": "mRbAbXSamOWC",
        "outputId": "85867e7d-e002-4475-adfe-e52b695bbfc6"
      },
      "source": [
        "# Random Integer values\r\n",
        "np.random.randint(4,80, size=(3,3))"
      ],
      "execution_count": 30,
      "outputs": [
        {
          "output_type": "execute_result",
          "data": {
            "text/plain": [
              "array([[54, 53, 70],\n",
              "       [65, 70, 22],\n",
              "       [50, 44, 73]])"
            ]
          },
          "metadata": {
            "tags": []
          },
          "execution_count": 30
        }
      ]
    },
    {
      "cell_type": "code",
      "metadata": {
        "colab": {
          "base_uri": "https://localhost:8080/"
        },
        "id": "Lxlt39qWmbmL",
        "outputId": "223d1562-5281-49b8-955e-089f294fbd74"
      },
      "source": [
        "# The identity matrix\r\n",
        "np.identity(5)"
      ],
      "execution_count": 31,
      "outputs": [
        {
          "output_type": "execute_result",
          "data": {
            "text/plain": [
              "array([[1., 0., 0., 0., 0.],\n",
              "       [0., 1., 0., 0., 0.],\n",
              "       [0., 0., 1., 0., 0.],\n",
              "       [0., 0., 0., 1., 0.],\n",
              "       [0., 0., 0., 0., 1.]])"
            ]
          },
          "metadata": {
            "tags": []
          },
          "execution_count": 31
        }
      ]
    },
    {
      "cell_type": "code",
      "metadata": {
        "colab": {
          "base_uri": "https://localhost:8080/"
        },
        "id": "Wnsumud5nBy9",
        "outputId": "2ccbbacc-f9ee-4ad4-e13a-46d2b621d02a"
      },
      "source": [
        "# Repeat an array\r\n",
        "arr = np.array([[1,2,3]])\r\n",
        "r1 = np.repeat(arr,3, axis=0)\r\n",
        "print(r1)"
      ],
      "execution_count": 33,
      "outputs": [
        {
          "output_type": "stream",
          "text": [
            "[[1 2 3]\n",
            " [1 2 3]\n",
            " [1 2 3]]\n"
          ],
          "name": "stdout"
        }
      ]
    },
    {
      "cell_type": "code",
      "metadata": {
        "colab": {
          "base_uri": "https://localhost:8080/"
        },
        "id": "M6pwPR6cnYdE",
        "outputId": "82b097b6-f5ff-41ca-cdee-30b11b6ac4d3"
      },
      "source": [
        "output = np.ones((5,5))\r\n",
        "print(output)\r\n",
        "\r\n",
        "z = np.zeros((3,3))\r\n",
        "print(z)\r\n",
        "\r\n",
        "z[1,1] = 9\r\n",
        "print(z)\r\n",
        "\r\n",
        "output[1:-1,1:-1] = z\r\n",
        "print(output)"
      ],
      "execution_count": 40,
      "outputs": [
        {
          "output_type": "stream",
          "text": [
            "[[1. 1. 1. 1. 1.]\n",
            " [1. 1. 1. 1. 1.]\n",
            " [1. 1. 1. 1. 1.]\n",
            " [1. 1. 1. 1. 1.]\n",
            " [1. 1. 1. 1. 1.]]\n",
            "[[0. 0. 0.]\n",
            " [0. 0. 0.]\n",
            " [0. 0. 0.]]\n",
            "[[0. 0. 0.]\n",
            " [0. 9. 0.]\n",
            " [0. 0. 0.]]\n",
            "[[1. 1. 1. 1. 1.]\n",
            " [1. 0. 0. 0. 1.]\n",
            " [1. 0. 9. 0. 1.]\n",
            " [1. 0. 0. 0. 1.]\n",
            " [1. 1. 1. 1. 1.]]\n"
          ],
          "name": "stdout"
        }
      ]
    },
    {
      "cell_type": "code",
      "metadata": {
        "colab": {
          "base_uri": "https://localhost:8080/"
        },
        "id": "dgz_2bqwpFIN",
        "outputId": "d3bb4ef7-74ae-4094-f6f8-1a5363b533fe"
      },
      "source": [
        "# copy arrays\r\n",
        "a = np.array([1,2,3])\r\n",
        "b = a.copy()\r\n",
        "b[0] = 100\r\n",
        "print(a)"
      ],
      "execution_count": 41,
      "outputs": [
        {
          "output_type": "stream",
          "text": [
            "[1 2 3]\n"
          ],
          "name": "stdout"
        }
      ]
    },
    {
      "cell_type": "markdown",
      "metadata": {
        "id": "kMhU4718pVGV"
      },
      "source": [
        "## Mathematics"
      ]
    },
    {
      "cell_type": "code",
      "metadata": {
        "colab": {
          "base_uri": "https://localhost:8080/"
        },
        "id": "uWG9ZCQHpcKo",
        "outputId": "1fa2ec07-be07-4687-cad9-9624902c3d04"
      },
      "source": [
        "a = np.array([1,2,3,4])\r\n",
        "print(a)"
      ],
      "execution_count": 42,
      "outputs": [
        {
          "output_type": "stream",
          "text": [
            "[1 2 3 4]\n"
          ],
          "name": "stdout"
        }
      ]
    },
    {
      "cell_type": "code",
      "metadata": {
        "colab": {
          "base_uri": "https://localhost:8080/"
        },
        "id": "N27NXIWtppkN",
        "outputId": "f525b860-ccb1-46c7-e2c4-5f4ee4724c10"
      },
      "source": [
        "a+2"
      ],
      "execution_count": 43,
      "outputs": [
        {
          "output_type": "execute_result",
          "data": {
            "text/plain": [
              "array([3, 4, 5, 6])"
            ]
          },
          "metadata": {
            "tags": []
          },
          "execution_count": 43
        }
      ]
    },
    {
      "cell_type": "code",
      "metadata": {
        "colab": {
          "base_uri": "https://localhost:8080/"
        },
        "id": "xv8ksGUYpsc1",
        "outputId": "9b3f3475-180a-459d-e428-10188a95dcd6"
      },
      "source": [
        "a-2"
      ],
      "execution_count": 44,
      "outputs": [
        {
          "output_type": "execute_result",
          "data": {
            "text/plain": [
              "array([-1,  0,  1,  2])"
            ]
          },
          "metadata": {
            "tags": []
          },
          "execution_count": 44
        }
      ]
    },
    {
      "cell_type": "code",
      "metadata": {
        "colab": {
          "base_uri": "https://localhost:8080/"
        },
        "id": "zQtV9fNypt8N",
        "outputId": "27f8abe3-6330-4613-92b1-8ae1d5badce1"
      },
      "source": [
        "a * 2"
      ],
      "execution_count": 45,
      "outputs": [
        {
          "output_type": "execute_result",
          "data": {
            "text/plain": [
              "array([2, 4, 6, 8])"
            ]
          },
          "metadata": {
            "tags": []
          },
          "execution_count": 45
        }
      ]
    },
    {
      "cell_type": "code",
      "metadata": {
        "colab": {
          "base_uri": "https://localhost:8080/"
        },
        "id": "R2YXfglJp0WW",
        "outputId": "769ab2b0-00a9-4db3-abb2-f749feaf017d"
      },
      "source": [
        "a / 2"
      ],
      "execution_count": 47,
      "outputs": [
        {
          "output_type": "execute_result",
          "data": {
            "text/plain": [
              "array([0.5, 1. , 1.5, 2. ])"
            ]
          },
          "metadata": {
            "tags": []
          },
          "execution_count": 47
        }
      ]
    },
    {
      "cell_type": "code",
      "metadata": {
        "colab": {
          "base_uri": "https://localhost:8080/"
        },
        "id": "TDYszAbRp5N_",
        "outputId": "b2c5468c-a9b9-45c3-a01a-32e611f461e9"
      },
      "source": [
        "b = np.array([1,0,1,0])\r\n",
        "a + b"
      ],
      "execution_count": 48,
      "outputs": [
        {
          "output_type": "execute_result",
          "data": {
            "text/plain": [
              "array([2, 2, 4, 4])"
            ]
          },
          "metadata": {
            "tags": []
          },
          "execution_count": 48
        }
      ]
    },
    {
      "cell_type": "code",
      "metadata": {
        "colab": {
          "base_uri": "https://localhost:8080/"
        },
        "id": "RBR-L3xwp9gn",
        "outputId": "e297a852-abff-437e-9d63-7023ff78bdba"
      },
      "source": [
        "a ** 2"
      ],
      "execution_count": 49,
      "outputs": [
        {
          "output_type": "execute_result",
          "data": {
            "text/plain": [
              "array([ 1,  4,  9, 16])"
            ]
          },
          "metadata": {
            "tags": []
          },
          "execution_count": 49
        }
      ]
    },
    {
      "cell_type": "code",
      "metadata": {
        "colab": {
          "base_uri": "https://localhost:8080/"
        },
        "id": "KQ-GgtR2qE5e",
        "outputId": "6a385dce-8314-481c-fbae-0dea164f80aa"
      },
      "source": [
        "# Take the sin\r\n",
        "np.cos(a)\r\n",
        "np.sin(a)"
      ],
      "execution_count": 51,
      "outputs": [
        {
          "output_type": "execute_result",
          "data": {
            "text/plain": [
              "array([ 0.84147098,  0.90929743,  0.14112001, -0.7568025 ])"
            ]
          },
          "metadata": {
            "tags": []
          },
          "execution_count": 51
        }
      ]
    },
    {
      "cell_type": "code",
      "metadata": {
        "id": "iUdVY4MOqIC2"
      },
      "source": [
        "# For a lot more (https://docs.scipy.org/doc/numpy/reference/routines.math.html)"
      ],
      "execution_count": null,
      "outputs": []
    },
    {
      "cell_type": "markdown",
      "metadata": {
        "id": "8uFZvQu8qNJA"
      },
      "source": [
        "### Linear Algebra"
      ]
    },
    {
      "cell_type": "code",
      "metadata": {
        "colab": {
          "base_uri": "https://localhost:8080/"
        },
        "id": "9yPgZstqqOyP",
        "outputId": "e14dc48d-b7f1-4c1e-f473-3e2e1bccd050"
      },
      "source": [
        "a = np.ones((2,3))\r\n",
        "print(a)\r\n",
        "\r\n",
        "b = np.full((3,2), 2)\r\n",
        "print(b)\r\n",
        "\r\n",
        "np.matmul(a,b)"
      ],
      "execution_count": 55,
      "outputs": [
        {
          "output_type": "stream",
          "text": [
            "[[1. 1. 1.]\n",
            " [1. 1. 1.]]\n",
            "[[2 2]\n",
            " [2 2]\n",
            " [2 2]]\n"
          ],
          "name": "stdout"
        },
        {
          "output_type": "execute_result",
          "data": {
            "text/plain": [
              "array([[6., 6.],\n",
              "       [6., 6.]])"
            ]
          },
          "metadata": {
            "tags": []
          },
          "execution_count": 55
        }
      ]
    },
    {
      "cell_type": "code",
      "metadata": {
        "colab": {
          "base_uri": "https://localhost:8080/"
        },
        "id": "_Srr2UnYsjmE",
        "outputId": "9a297666-2aad-4a7c-9ee5-59d50f04930c"
      },
      "source": [
        "# Find the determinant\r\n",
        "c = np.identity(3)\r\n",
        "np.linalg.det(c)"
      ],
      "execution_count": 56,
      "outputs": [
        {
          "output_type": "execute_result",
          "data": {
            "text/plain": [
              "1.0"
            ]
          },
          "metadata": {
            "tags": []
          },
          "execution_count": 56
        }
      ]
    },
    {
      "cell_type": "code",
      "metadata": {
        "id": "rpAo_Caqsrsb"
      },
      "source": [
        "## Reference docs (https://docs.scipy.org/doc/numpy/reference/routines.linalg.html)\r\n",
        "\r\n",
        "# Determinant\r\n",
        "# Trace\r\n",
        "# Singular Vector Decomposition\r\n",
        "# Eigenvalues\r\n",
        "# Matrix Norm\r\n",
        "# Inverse\r\n",
        "# Etc..."
      ],
      "execution_count": null,
      "outputs": []
    },
    {
      "cell_type": "markdown",
      "metadata": {
        "id": "5txNXOhTsxfj"
      },
      "source": [
        "### Statistics"
      ]
    },
    {
      "cell_type": "code",
      "metadata": {
        "colab": {
          "base_uri": "https://localhost:8080/"
        },
        "id": "xItLHej_syub",
        "outputId": "fcf8cf41-301f-4445-8ff6-34a8459ce2ff"
      },
      "source": [
        "stats = np.array([[1,2,3],[4,5,6]])\r\n",
        "print(stats)"
      ],
      "execution_count": 57,
      "outputs": [
        {
          "output_type": "stream",
          "text": [
            "[[1 2 3]\n",
            " [4 5 6]]\n"
          ],
          "name": "stdout"
        }
      ]
    },
    {
      "cell_type": "code",
      "metadata": {
        "colab": {
          "base_uri": "https://localhost:8080/"
        },
        "id": "FulOruPgs57U",
        "outputId": "6c97b86b-e752-4179-fc81-a342e9de9809"
      },
      "source": [
        "np.min(stats)"
      ],
      "execution_count": 58,
      "outputs": [
        {
          "output_type": "execute_result",
          "data": {
            "text/plain": [
              "1"
            ]
          },
          "metadata": {
            "tags": []
          },
          "execution_count": 58
        }
      ]
    },
    {
      "cell_type": "code",
      "metadata": {
        "colab": {
          "base_uri": "https://localhost:8080/"
        },
        "id": "pAs9xJIus9jT",
        "outputId": "4b457814-e906-4afd-b377-990665f58a4f"
      },
      "source": [
        "np.max(stats)"
      ],
      "execution_count": 59,
      "outputs": [
        {
          "output_type": "execute_result",
          "data": {
            "text/plain": [
              "6"
            ]
          },
          "metadata": {
            "tags": []
          },
          "execution_count": 59
        }
      ]
    },
    {
      "cell_type": "code",
      "metadata": {
        "colab": {
          "base_uri": "https://localhost:8080/"
        },
        "id": "Z94Mv3IItABk",
        "outputId": "0d8dba39-0cd8-4371-ed04-736fb3d7b061"
      },
      "source": [
        "np.max(stats, axis=1)"
      ],
      "execution_count": 60,
      "outputs": [
        {
          "output_type": "execute_result",
          "data": {
            "text/plain": [
              "array([3, 6])"
            ]
          },
          "metadata": {
            "tags": []
          },
          "execution_count": 60
        }
      ]
    },
    {
      "cell_type": "code",
      "metadata": {
        "colab": {
          "base_uri": "https://localhost:8080/"
        },
        "id": "n_2ibEGJtE2b",
        "outputId": "73511d87-f128-457b-b366-b1d5732b72fe"
      },
      "source": [
        "np.sum(stats, axis=0)"
      ],
      "execution_count": 61,
      "outputs": [
        {
          "output_type": "execute_result",
          "data": {
            "text/plain": [
              "array([5, 7, 9])"
            ]
          },
          "metadata": {
            "tags": []
          },
          "execution_count": 61
        }
      ]
    },
    {
      "cell_type": "markdown",
      "metadata": {
        "id": "zEVv8eostJp0"
      },
      "source": [
        "### Reorganizing Arrays"
      ]
    },
    {
      "cell_type": "code",
      "metadata": {
        "colab": {
          "base_uri": "https://localhost:8080/",
          "height": 246
        },
        "id": "bGvNgbeytMQc",
        "outputId": "fed92698-403c-4ee1-a5c7-8cffc0fa0ed5"
      },
      "source": [
        "before = np.array([[1,2,3,4],[5,6,7,8]])\r\n",
        "print(before)\r\n",
        "\r\n",
        "after = before.reshape((2,3))\r\n",
        "print(after)"
      ],
      "execution_count": 63,
      "outputs": [
        {
          "output_type": "stream",
          "text": [
            "[[1 2 3 4]\n",
            " [5 6 7 8]]\n"
          ],
          "name": "stdout"
        },
        {
          "output_type": "error",
          "ename": "ValueError",
          "evalue": "ignored",
          "traceback": [
            "\u001b[0;31m---------------------------------------------------------------------------\u001b[0m",
            "\u001b[0;31mValueError\u001b[0m                                Traceback (most recent call last)",
            "\u001b[0;32m<ipython-input-63-6aa1f4e15729>\u001b[0m in \u001b[0;36m<module>\u001b[0;34m()\u001b[0m\n\u001b[1;32m      2\u001b[0m \u001b[0mprint\u001b[0m\u001b[0;34m(\u001b[0m\u001b[0mbefore\u001b[0m\u001b[0;34m)\u001b[0m\u001b[0;34m\u001b[0m\u001b[0;34m\u001b[0m\u001b[0m\n\u001b[1;32m      3\u001b[0m \u001b[0;34m\u001b[0m\u001b[0m\n\u001b[0;32m----> 4\u001b[0;31m \u001b[0mafter\u001b[0m \u001b[0;34m=\u001b[0m \u001b[0mbefore\u001b[0m\u001b[0;34m.\u001b[0m\u001b[0mreshape\u001b[0m\u001b[0;34m(\u001b[0m\u001b[0;34m(\u001b[0m\u001b[0;36m2\u001b[0m\u001b[0;34m,\u001b[0m\u001b[0;36m3\u001b[0m\u001b[0;34m)\u001b[0m\u001b[0;34m)\u001b[0m\u001b[0;34m\u001b[0m\u001b[0;34m\u001b[0m\u001b[0m\n\u001b[0m\u001b[1;32m      5\u001b[0m \u001b[0mprint\u001b[0m\u001b[0;34m(\u001b[0m\u001b[0mafter\u001b[0m\u001b[0;34m)\u001b[0m\u001b[0;34m\u001b[0m\u001b[0;34m\u001b[0m\u001b[0m\n",
            "\u001b[0;31mValueError\u001b[0m: cannot reshape array of size 8 into shape (2,3)"
          ]
        }
      ]
    },
    {
      "cell_type": "code",
      "metadata": {
        "colab": {
          "base_uri": "https://localhost:8080/"
        },
        "id": "zUZA0AxNu761",
        "outputId": "466601b2-97f2-4eb6-b9b7-59374cb908a8"
      },
      "source": [
        "# Vertically stacking vectors\r\n",
        "v1 = np.array([1,2,3,4])\r\n",
        "v2 = np.array([5,6,7,8])\r\n",
        "\r\n",
        "np.vstack([v1,v2,v1,v2])"
      ],
      "execution_count": 64,
      "outputs": [
        {
          "output_type": "execute_result",
          "data": {
            "text/plain": [
              "array([[1, 2, 3, 4],\n",
              "       [5, 6, 7, 8],\n",
              "       [1, 2, 3, 4],\n",
              "       [5, 6, 7, 8]])"
            ]
          },
          "metadata": {
            "tags": []
          },
          "execution_count": 64
        }
      ]
    },
    {
      "cell_type": "code",
      "metadata": {
        "colab": {
          "base_uri": "https://localhost:8080/"
        },
        "id": "fahklXnbu-lL",
        "outputId": "b6568cf5-446d-419d-f8ea-c147b794cd96"
      },
      "source": [
        "# Horizontal  stack\r\n",
        "h1 = np.ones((2,4))\r\n",
        "h2 = np.zeros((2,2))\r\n",
        "\r\n",
        "np.hstack((h1,h2))"
      ],
      "execution_count": 65,
      "outputs": [
        {
          "output_type": "execute_result",
          "data": {
            "text/plain": [
              "array([[1., 1., 1., 1., 0., 0.],\n",
              "       [1., 1., 1., 1., 0., 0.]])"
            ]
          },
          "metadata": {
            "tags": []
          },
          "execution_count": 65
        }
      ]
    },
    {
      "cell_type": "markdown",
      "metadata": {
        "id": "5ss4C71fvFMj"
      },
      "source": [
        "## Miscellaneous"
      ]
    },
    {
      "cell_type": "code",
      "metadata": {
        "id": "Gj9lbqjpvGg8"
      },
      "source": [
        ""
      ],
      "execution_count": null,
      "outputs": []
    }
  ]
}