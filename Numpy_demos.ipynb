{
  "nbformat": 4,
  "nbformat_minor": 0,
  "metadata": {
    "colab": {
      "name": "Numpy_demos.ipynb",
      "provenance": [],
      "authorship_tag": "ABX9TyMOYNCD5Otpz6UuvXHWUpsZ",
      "include_colab_link": true
    },
    "kernelspec": {
      "name": "python3",
      "display_name": "Python 3"
    }
  },
  "cells": [
    {
      "cell_type": "markdown",
      "metadata": {
        "id": "view-in-github",
        "colab_type": "text"
      },
      "source": [
        "<a href=\"https://colab.research.google.com/github/sunilsm7/numpy-demos/blob/main/Numpy_demos.ipynb\" target=\"_parent\"><img src=\"https://colab.research.google.com/assets/colab-badge.svg\" alt=\"Open In Colab\"/></a>"
      ]
    },
    {
      "cell_type": "markdown",
      "metadata": {
        "id": "SlvX3eeku4q5"
      },
      "source": [
        "# Numpy Examples"
      ]
    },
    {
      "cell_type": "code",
      "metadata": {
        "id": "Kw1MJB_ioTtm"
      },
      "source": [
        "import numpy as np\r\n",
        "import sys"
      ],
      "execution_count": 5,
      "outputs": []
    },
    {
      "cell_type": "markdown",
      "metadata": {
        "id": "tLj1k1Q7uxpY"
      },
      "source": [
        "## The Basics"
      ]
    },
    {
      "cell_type": "code",
      "metadata": {
        "colab": {
          "base_uri": "https://localhost:8080/"
        },
        "id": "EtJgNDeduxKD",
        "outputId": "8d088ef2-df76-46bc-ea11-4d630506ad61"
      },
      "source": [
        "a = np.array([1,2,3,4,5], dtype='int32')\r\n",
        "print(a)"
      ],
      "execution_count": 22,
      "outputs": [
        {
          "output_type": "stream",
          "text": [
            "[1 2 3 4 5]\n"
          ],
          "name": "stdout"
        }
      ]
    },
    {
      "cell_type": "code",
      "metadata": {
        "colab": {
          "base_uri": "https://localhost:8080/"
        },
        "id": "3GqPkuA_vXHR",
        "outputId": "fe515175-0275-476e-8d0b-ee097dbd19c1"
      },
      "source": [
        "b = np.array([[1,2,3,4],[4,5,6,7]])\r\n",
        "print(b)"
      ],
      "execution_count": 8,
      "outputs": [
        {
          "output_type": "stream",
          "text": [
            "[[1 2 3 4]\n",
            " [4 5 6 7]]\n"
          ],
          "name": "stdout"
        }
      ]
    },
    {
      "cell_type": "code",
      "metadata": {
        "colab": {
          "base_uri": "https://localhost:8080/"
        },
        "id": "wgDMuT5fvsw9",
        "outputId": "c7728e4a-8143-4b0f-aa76-90b04e05ce60"
      },
      "source": [
        "# Get Dimension\r\n",
        "a.ndim"
      ],
      "execution_count": 23,
      "outputs": [
        {
          "output_type": "execute_result",
          "data": {
            "text/plain": [
              "1"
            ]
          },
          "metadata": {
            "tags": []
          },
          "execution_count": 23
        }
      ]
    },
    {
      "cell_type": "code",
      "metadata": {
        "colab": {
          "base_uri": "https://localhost:8080/"
        },
        "id": "vj3kU1DUv8pP",
        "outputId": "e492bd84-6d16-42e1-d95d-32263921fbbb"
      },
      "source": [
        "# Get Shape\r\n",
        "b.shape"
      ],
      "execution_count": 19,
      "outputs": [
        {
          "output_type": "execute_result",
          "data": {
            "text/plain": [
              "(2, 4)"
            ]
          },
          "metadata": {
            "tags": []
          },
          "execution_count": 19
        }
      ]
    },
    {
      "cell_type": "code",
      "metadata": {
        "colab": {
          "base_uri": "https://localhost:8080/"
        },
        "id": "BO_HeVsuwBrP",
        "outputId": "fcbf3e38-a882-4958-c237-2cc4ec9a84c5"
      },
      "source": [
        "# Get data Type\r\n",
        "a.dtype"
      ],
      "execution_count": 24,
      "outputs": [
        {
          "output_type": "execute_result",
          "data": {
            "text/plain": [
              "dtype('int32')"
            ]
          },
          "metadata": {
            "tags": []
          },
          "execution_count": 24
        }
      ]
    },
    {
      "cell_type": "code",
      "metadata": {
        "colab": {
          "base_uri": "https://localhost:8080/"
        },
        "id": "pFiD92TowYMx",
        "outputId": "6e41c098-9fbc-433d-bf97-e147a994446c"
      },
      "source": [
        "# Get Size\r\n",
        "a.itemsize"
      ],
      "execution_count": 25,
      "outputs": [
        {
          "output_type": "execute_result",
          "data": {
            "text/plain": [
              "4"
            ]
          },
          "metadata": {
            "tags": []
          },
          "execution_count": 25
        }
      ]
    },
    {
      "cell_type": "code",
      "metadata": {
        "colab": {
          "base_uri": "https://localhost:8080/"
        },
        "id": "Vzl9vBUXxHlD",
        "outputId": "a4503781-0ffb-43ce-d4a3-460ab20e6a93"
      },
      "source": [
        "# Get Total Size\r\n",
        "a.nbytes"
      ],
      "execution_count": 27,
      "outputs": [
        {
          "output_type": "execute_result",
          "data": {
            "text/plain": [
              "20"
            ]
          },
          "metadata": {
            "tags": []
          },
          "execution_count": 27
        }
      ]
    },
    {
      "cell_type": "code",
      "metadata": {
        "colab": {
          "base_uri": "https://localhost:8080/"
        },
        "id": "4pTnpMFsxQCo",
        "outputId": "c66ad977-7a28-401f-aaa2-cc960d65a27e"
      },
      "source": [
        "# Get number of elements\r\n",
        "a.size"
      ],
      "execution_count": 28,
      "outputs": [
        {
          "output_type": "execute_result",
          "data": {
            "text/plain": [
              "5"
            ]
          },
          "metadata": {
            "tags": []
          },
          "execution_count": 28
        }
      ]
    },
    {
      "cell_type": "markdown",
      "metadata": {
        "id": "-2tHVb9VxTtp"
      },
      "source": [
        "## Accessing/Changing specific elements, rows, columns, etc"
      ]
    },
    {
      "cell_type": "code",
      "metadata": {
        "id": "CXrJUaAnxXJJ"
      },
      "source": [
        ""
      ],
      "execution_count": null,
      "outputs": []
    }
  ]
}