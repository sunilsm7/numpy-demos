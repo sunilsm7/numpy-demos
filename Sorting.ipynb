{
  "nbformat": 4,
  "nbformat_minor": 0,
  "metadata": {
    "colab": {
      "name": "Sorting.ipynb",
      "provenance": [],
      "authorship_tag": "ABX9TyNp0zrgxBNrGKWIYDB2tBVZ",
      "include_colab_link": true
    },
    "kernelspec": {
      "name": "python3",
      "display_name": "Python 3"
    }
  },
  "cells": [
    {
      "cell_type": "markdown",
      "metadata": {
        "id": "view-in-github",
        "colab_type": "text"
      },
      "source": [
        "<a href=\"https://colab.research.google.com/github/sunilsm7/numpy-demos/blob/main/Sorting.ipynb\" target=\"_parent\"><img src=\"https://colab.research.google.com/assets/colab-badge.svg\" alt=\"Open In Colab\"/></a>"
      ]
    },
    {
      "cell_type": "markdown",
      "metadata": {
        "id": "RQr0dAteULuZ"
      },
      "source": [
        "# Sorting Arrays"
      ]
    },
    {
      "cell_type": "code",
      "metadata": {
        "id": "XABKVIsTYKBq"
      },
      "source": [
        "import numpy as np"
      ],
      "execution_count": 3,
      "outputs": []
    },
    {
      "cell_type": "markdown",
      "metadata": {
        "id": "LG-amcFqYOqH"
      },
      "source": [
        "For example, a simple selection sort repeatedly finds the minimum value from a list, and makes swaps until the list is sorted. We can code this in just a few lines of Python:"
      ]
    },
    {
      "cell_type": "code",
      "metadata": {
        "id": "gcmEq57vYPCl"
      },
      "source": [
        "def selection_sort(x):\n",
        "  for i in range(len(x)):\n",
        "    swap = i + np.argmin(x[i:])\n",
        "    (x[i], x[swap]) = (x[swap], x[i])\n",
        "  return x"
      ],
      "execution_count": 4,
      "outputs": []
    },
    {
      "cell_type": "code",
      "metadata": {
        "colab": {
          "base_uri": "https://localhost:8080/"
        },
        "id": "vK5yT9MpYlGj",
        "outputId": "b7aa9050-2ff9-4439-91cf-01acff9d81a0"
      },
      "source": [
        "x = np.array([2, 1, 4, 3, 5])\n",
        "selection_sort(x)"
      ],
      "execution_count": 5,
      "outputs": [
        {
          "output_type": "execute_result",
          "data": {
            "text/plain": [
              "array([1, 2, 3, 4, 5])"
            ]
          },
          "metadata": {
            "tags": []
          },
          "execution_count": 5
        }
      ]
    },
    {
      "cell_type": "markdown",
      "metadata": {
        "id": "vkjZiP11ZL5o"
      },
      "source": [
        "**bogosort**"
      ]
    },
    {
      "cell_type": "code",
      "metadata": {
        "id": "rAKxD9pqZLQn"
      },
      "source": [
        "def bogosort(x):\n",
        "  while np.any(x[:-1] > x[1:]):\n",
        "    np.random.shuffle(x)\n",
        "  return x"
      ],
      "execution_count": 8,
      "outputs": []
    },
    {
      "cell_type": "code",
      "metadata": {
        "colab": {
          "base_uri": "https://localhost:8080/"
        },
        "id": "iV4qOLrrZQRP",
        "outputId": "3146d3da-b71c-43f8-c657-3462c2e4ac5f"
      },
      "source": [
        "x = np.array([2, 1, 4, 3, 5])\n",
        "bogosort(x)"
      ],
      "execution_count": 9,
      "outputs": [
        {
          "output_type": "execute_result",
          "data": {
            "text/plain": [
              "array([1, 2, 3, 4, 5])"
            ]
          },
          "metadata": {
            "tags": []
          },
          "execution_count": 9
        }
      ]
    },
    {
      "cell_type": "markdown",
      "metadata": {
        "id": "oWNMBaAIZc0H"
      },
      "source": [
        "## Fast Sorting in NumPy: `np.sort` and `np.argsort`\n",
        "\n",
        "To return a sorted version of the array without modifying the input, you can use `np.`:"
      ]
    },
    {
      "cell_type": "code",
      "metadata": {
        "colab": {
          "base_uri": "https://localhost:8080/"
        },
        "id": "uZPuctLRZvm_",
        "outputId": "cbf134ba-98da-4a2c-d296-e40613a0e1a5"
      },
      "source": [
        "x = np.array([2, 1, 4, 3, 5])\n",
        "np.sort(x)"
      ],
      "execution_count": 10,
      "outputs": [
        {
          "output_type": "execute_result",
          "data": {
            "text/plain": [
              "array([1, 2, 3, 4, 5])"
            ]
          },
          "metadata": {
            "tags": []
          },
          "execution_count": 10
        }
      ]
    },
    {
      "cell_type": "markdown",
      "metadata": {
        "id": "IRe5nwe0Z1rQ"
      },
      "source": [
        "If you prefer to sort the array in-place, you can instead use the `sort` method of arrays:"
      ]
    },
    {
      "cell_type": "code",
      "metadata": {
        "colab": {
          "base_uri": "https://localhost:8080/"
        },
        "id": "sQBugPjXZ3XG",
        "outputId": "009dd658-e38d-491b-b038-744b1e9e5a04"
      },
      "source": [
        "x.sort()\n",
        "print(x)"
      ],
      "execution_count": 12,
      "outputs": [
        {
          "output_type": "stream",
          "text": [
            "[1 2 3 4 5]\n"
          ],
          "name": "stdout"
        }
      ]
    },
    {
      "cell_type": "markdown",
      "metadata": {
        "id": "3k0ABNBIZ--u"
      },
      "source": [
        "A related function is `argsort`, which instead returns the indices of the sorted elements:"
      ]
    },
    {
      "cell_type": "code",
      "metadata": {
        "colab": {
          "base_uri": "https://localhost:8080/"
        },
        "id": "VrBaaNwXaBwr",
        "outputId": "b68c0f62-7f27-4b5d-82a3-f494baaed95f"
      },
      "source": [
        "x = np.array([2, 1, 4, 3, 5])\n",
        "i = np.argsort(x)\n",
        "print(i)"
      ],
      "execution_count": 13,
      "outputs": [
        {
          "output_type": "stream",
          "text": [
            "[1 0 3 2 4]\n"
          ],
          "name": "stdout"
        }
      ]
    },
    {
      "cell_type": "markdown",
      "metadata": {
        "id": "8m49SwzzaQkq"
      },
      "source": [
        "The first element of this result gives the index of the smallest element, the second value gives the index of the second smallest, and so on. These indices can then be used (via fancy indexing) to construct the sorted array if desired:"
      ]
    },
    {
      "cell_type": "code",
      "metadata": {
        "colab": {
          "base_uri": "https://localhost:8080/"
        },
        "id": "shPWeCx8aRD0",
        "outputId": "234cbf49-cbed-4c91-d5ca-73fc92771d09"
      },
      "source": [
        "x[i]"
      ],
      "execution_count": 14,
      "outputs": [
        {
          "output_type": "execute_result",
          "data": {
            "text/plain": [
              "array([1, 2, 3, 4, 5])"
            ]
          },
          "metadata": {
            "tags": []
          },
          "execution_count": 14
        }
      ]
    },
    {
      "cell_type": "markdown",
      "metadata": {
        "id": "_7ratPopaUbb"
      },
      "source": [
        "**Sorting along rows or columns**\n",
        "\n",
        "A useful feature of NumPy's sorting algorithms is the ability to sort along specific rows or columns of a multidimensional array using the axis argument. For example:"
      ]
    },
    {
      "cell_type": "code",
      "metadata": {
        "colab": {
          "base_uri": "https://localhost:8080/"
        },
        "id": "6pWY2469aWTR",
        "outputId": "ad7b82c0-d8d8-461c-91a1-72e80a7f02a6"
      },
      "source": [
        "rand = np.random.RandomState(42)\n",
        "X = rand.randint(0, 10, (4, 6))\n",
        "print(X)"
      ],
      "execution_count": 16,
      "outputs": [
        {
          "output_type": "stream",
          "text": [
            "[[6 3 7 4 6 9]\n",
            " [2 6 7 4 3 7]\n",
            " [7 2 5 4 1 7]\n",
            " [5 1 4 0 9 5]]\n"
          ],
          "name": "stdout"
        }
      ]
    },
    {
      "cell_type": "code",
      "metadata": {
        "colab": {
          "base_uri": "https://localhost:8080/"
        },
        "id": "kGlacCmwadPU",
        "outputId": "bb1550ea-5527-459e-d056-f04d48cd16a5"
      },
      "source": [
        "# sort each column of X\n",
        "np.sort(X, axis=0)"
      ],
      "execution_count": 17,
      "outputs": [
        {
          "output_type": "execute_result",
          "data": {
            "text/plain": [
              "array([[2, 1, 4, 0, 1, 5],\n",
              "       [5, 2, 5, 4, 3, 7],\n",
              "       [6, 3, 7, 4, 6, 7],\n",
              "       [7, 6, 7, 4, 9, 9]])"
            ]
          },
          "metadata": {
            "tags": []
          },
          "execution_count": 17
        }
      ]
    },
    {
      "cell_type": "code",
      "metadata": {
        "colab": {
          "base_uri": "https://localhost:8080/"
        },
        "id": "JUs_Dm8kal4U",
        "outputId": "72715405-3f23-4dff-e52a-cbd9f13aa22a"
      },
      "source": [
        "# sort each row of X\n",
        "np.sort(X, axis=1)"
      ],
      "execution_count": 18,
      "outputs": [
        {
          "output_type": "execute_result",
          "data": {
            "text/plain": [
              "array([[3, 4, 6, 6, 7, 9],\n",
              "       [2, 3, 4, 6, 7, 7],\n",
              "       [1, 2, 4, 5, 7, 7],\n",
              "       [0, 1, 4, 5, 5, 9]])"
            ]
          },
          "metadata": {
            "tags": []
          },
          "execution_count": 18
        }
      ]
    },
    {
      "cell_type": "markdown",
      "metadata": {
        "id": "Jd5wp0Kcapys"
      },
      "source": [
        "Keep in mind that this treats each row or column as an independent array, and any relationships between the row or column values will be lost!"
      ]
    },
    {
      "cell_type": "markdown",
      "metadata": {
        "id": "1kxEryJ4asUv"
      },
      "source": [
        "## Partial Sorts: Partitioning\n",
        "\n",
        "Sometimes we're not interested in sorting the entire array, but simply want to find the k smallest values in the array. NumPy provides this in the `np.partition` function. `np.partition` takes an array and a number K; the result is a new array with the smallest `K` values to the left of the partition, and the remaining values to the right, in arbitrary order:"
      ]
    },
    {
      "cell_type": "code",
      "metadata": {
        "colab": {
          "base_uri": "https://localhost:8080/"
        },
        "id": "WZ4ukW_PaqPc",
        "outputId": "84cd2e26-9ee0-4023-ee3b-07219d1a87cf"
      },
      "source": [
        "x = np.array([7, 2, 3, 1, 6, 5, 4])\n",
        "np.partition(x, 3)"
      ],
      "execution_count": 19,
      "outputs": [
        {
          "output_type": "execute_result",
          "data": {
            "text/plain": [
              "array([2, 1, 3, 4, 6, 5, 7])"
            ]
          },
          "metadata": {
            "tags": []
          },
          "execution_count": 19
        }
      ]
    },
    {
      "cell_type": "markdown",
      "metadata": {
        "id": "5stJuxFObTS_"
      },
      "source": [
        "Note that the first three values in the resulting array are the three smallest in the array, and the remaining array positions contain the remaining values. Within the two partitions, the elements have arbitrary order.\n",
        "\n",
        "Similarly to sorting, we can partition along an arbitrary axis of a multidimensional array:"
      ]
    },
    {
      "cell_type": "code",
      "metadata": {
        "colab": {
          "base_uri": "https://localhost:8080/"
        },
        "id": "QuldHMEFbUAq",
        "outputId": "e4a4820a-74fe-43bc-d788-dcb4131f8a68"
      },
      "source": [
        "np.partition(X, 2, axis=1)"
      ],
      "execution_count": 20,
      "outputs": [
        {
          "output_type": "execute_result",
          "data": {
            "text/plain": [
              "array([[3, 4, 6, 7, 6, 9],\n",
              "       [2, 3, 4, 7, 6, 7],\n",
              "       [1, 2, 4, 5, 7, 7],\n",
              "       [0, 1, 4, 5, 9, 5]])"
            ]
          },
          "metadata": {
            "tags": []
          },
          "execution_count": 20
        }
      ]
    },
    {
      "cell_type": "markdown",
      "metadata": {
        "id": "wHhsdD1VbeLf"
      },
      "source": [
        "The result is an array where the first two slots in each row contain the smallest values from that row, with the remaining values filling the remaining slots.\n",
        "\n",
        "Finally, just as there is a np.argsort that computes indices of the sort, there is a np.argpartition that computes indices of the partition. We'll see this in action in the following section."
      ]
    }
  ]
}