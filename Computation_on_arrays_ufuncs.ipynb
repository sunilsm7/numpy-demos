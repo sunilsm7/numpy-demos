{
  "nbformat": 4,
  "nbformat_minor": 0,
  "metadata": {
    "colab": {
      "name": "Computation-on-arrays-ufuncs.ipynb",
      "provenance": [],
      "authorship_tag": "ABX9TyN/QoOPIV8Iyui87TAARhE8",
      "include_colab_link": true
    },
    "kernelspec": {
      "name": "python3",
      "display_name": "Python 3"
    }
  },
  "cells": [
    {
      "cell_type": "markdown",
      "metadata": {
        "id": "view-in-github",
        "colab_type": "text"
      },
      "source": [
        "<a href=\"https://colab.research.google.com/github/sunilsm7/numpy-demos/blob/main/Computation_on_arrays_ufuncs.ipynb\" target=\"_parent\"><img src=\"https://colab.research.google.com/assets/colab-badge.svg\" alt=\"Open In Colab\"/></a>"
      ]
    },
    {
      "cell_type": "markdown",
      "metadata": {
        "id": "m_vN_8hizoce"
      },
      "source": [
        "# Computation on NumPy Arrays: Universal Functions"
      ]
    },
    {
      "cell_type": "code",
      "metadata": {
        "id": "9FPgsrv81uYY"
      },
      "source": [
        "import numpy as np"
      ],
      "execution_count": 2,
      "outputs": []
    },
    {
      "cell_type": "markdown",
      "metadata": {
        "id": "kK7GiqlX1Ani"
      },
      "source": [
        "## Exploring NumPy's UFuncs\r\n",
        "\r\n",
        "Ufuncs exist in two flavors: unary ufuncs, which operate on a single input, and binary ufuncs, which operate on two inputs. We'll see examples of both these types of functions here."
      ]
    },
    {
      "cell_type": "markdown",
      "metadata": {
        "id": "BmdpNV_W1WHg"
      },
      "source": [
        "### Array arithmetic\r\n",
        "\r\n",
        "NumPy's ufuncs feel very natural to use because they make use of Python's native arithmetic operators. The standard addition, subtraction, multiplication, and division can all be used:"
      ]
    },
    {
      "cell_type": "code",
      "metadata": {
        "colab": {
          "base_uri": "https://localhost:8080/"
        },
        "id": "LFVw7lY_zqky",
        "outputId": "f95f4dcc-bca1-42e5-a4df-caa43e985aa2"
      },
      "source": [
        "x = np.arange(4)\r\n",
        "\r\n",
        "print(\"x  =\", x)\r\n",
        "print(\"x + 5 =\", x + 5)\r\n",
        "print(\"x - 5 =\", x - 5)\r\n",
        "print(\"x * 2 =\", x * 2)\r\n",
        "print(\"x / 2 =\", x / 2)\r\n",
        "print(\"x // 2 =\", x // 2)  # floor division"
      ],
      "execution_count": 4,
      "outputs": [
        {
          "output_type": "stream",
          "text": [
            "x  = [0 1 2 3]\n",
            "x + 5 = [5 6 7 8]\n",
            "x - 5 = [-5 -4 -3 -2]\n",
            "x * 2 = [0 2 4 6]\n",
            "x / 2 = [0.  0.5 1.  1.5]\n",
            "x // 2 = [0 0 1 1]\n"
          ],
          "name": "stdout"
        }
      ]
    },
    {
      "cell_type": "markdown",
      "metadata": {
        "id": "NJ5SZN2g1-td"
      },
      "source": [
        "There is also a unary ufunc for negation, and a `**` operator for exponentiation, and a `%` operator for modulus:"
      ]
    },
    {
      "cell_type": "code",
      "metadata": {
        "colab": {
          "base_uri": "https://localhost:8080/"
        },
        "id": "JL5nB9rZ18W2",
        "outputId": "4e9cf944-d9a0-4dba-ff3d-6b214364f766"
      },
      "source": [
        "print(\"-x = \", -x)\r\n",
        "print(\"x**2 = \", x**2)\r\n",
        "print(\"x % 2  = \", x % 2)"
      ],
      "execution_count": 5,
      "outputs": [
        {
          "output_type": "stream",
          "text": [
            "-x =  [ 0 -1 -2 -3]\n",
            "x**2 =  [0 1 4 9]\n",
            "x % 2  =  [0 1 0 1]\n"
          ],
          "name": "stdout"
        }
      ]
    },
    {
      "cell_type": "markdown",
      "metadata": {
        "id": "Yjmz-BfO2a9J"
      },
      "source": [
        "In addition, these can be strung together however you wish, and the standard order of operations is respected:"
      ]
    },
    {
      "cell_type": "code",
      "metadata": {
        "colab": {
          "base_uri": "https://localhost:8080/"
        },
        "id": "wk1MC-mq2STX",
        "outputId": "77a2d92a-6ba4-456c-9bf8-19f96de05177"
      },
      "source": [
        "-(0.5*x + 1) ** 2"
      ],
      "execution_count": 6,
      "outputs": [
        {
          "output_type": "execute_result",
          "data": {
            "text/plain": [
              "array([-1.  , -2.25, -4.  , -6.25])"
            ]
          },
          "metadata": {
            "tags": []
          },
          "execution_count": 6
        }
      ]
    },
    {
      "cell_type": "markdown",
      "metadata": {
        "id": "N60ZN6gF2oqr"
      },
      "source": [
        "Each of these arithmetic operations are simply convenient wrappers around specific functions built into NumPy; for example, the `+` operator is a wrapper for the `add` function:"
      ]
    },
    {
      "cell_type": "code",
      "metadata": {
        "colab": {
          "base_uri": "https://localhost:8080/"
        },
        "id": "ErpdaBrv2rD0",
        "outputId": "baccea17-1454-4347-eb88-d72ef2ed9dff"
      },
      "source": [
        "np.add(x, 2)"
      ],
      "execution_count": 7,
      "outputs": [
        {
          "output_type": "execute_result",
          "data": {
            "text/plain": [
              "array([2, 3, 4, 5])"
            ]
          },
          "metadata": {
            "tags": []
          },
          "execution_count": 7
        }
      ]
    },
    {
      "cell_type": "markdown",
      "metadata": {
        "id": "Ip4vZLyr2zQo"
      },
      "source": [
        "The following table lists the arithmetic operators implemented in NumPy:\r\n",
        "\r\n",
        "![image.png](data:image/png;base64,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)"
      ]
    },
    {
      "cell_type": "markdown",
      "metadata": {
        "id": "VfTBPQPv3A7v"
      },
      "source": [
        "### Absolute value\r\n",
        "\r\n",
        "Just as NumPy understands Python's built-in arithmetic operators, it also understands Python's built-in absolute value function:"
      ]
    },
    {
      "cell_type": "code",
      "metadata": {
        "colab": {
          "base_uri": "https://localhost:8080/"
        },
        "id": "lovuL6Mr2xH2",
        "outputId": "de271c25-d282-46b8-c720-c07afab6fee0"
      },
      "source": [
        "x = np.array([-2, 1, 0, 1 ,2])\r\n",
        "abs(x)"
      ],
      "execution_count": 8,
      "outputs": [
        {
          "output_type": "execute_result",
          "data": {
            "text/plain": [
              "array([2, 1, 0, 1, 2])"
            ]
          },
          "metadata": {
            "tags": []
          },
          "execution_count": 8
        }
      ]
    },
    {
      "cell_type": "markdown",
      "metadata": {
        "id": "dzA6Ow0R3RFH"
      },
      "source": [
        "The corresponding NumPy ufunc is `np.absolute`, which is also available under the alias `np.abs`"
      ]
    },
    {
      "cell_type": "code",
      "metadata": {
        "colab": {
          "base_uri": "https://localhost:8080/"
        },
        "id": "kxrEqCKR3Uwn",
        "outputId": "c730dfde-6006-4d63-9686-fefdcef133e5"
      },
      "source": [
        "np.absolute(x)"
      ],
      "execution_count": 9,
      "outputs": [
        {
          "output_type": "execute_result",
          "data": {
            "text/plain": [
              "array([2, 1, 0, 1, 2])"
            ]
          },
          "metadata": {
            "tags": []
          },
          "execution_count": 9
        }
      ]
    },
    {
      "cell_type": "code",
      "metadata": {
        "colab": {
          "base_uri": "https://localhost:8080/"
        },
        "id": "cthAsNqc3YJ4",
        "outputId": "4f77fc42-45ed-4bd0-f89e-13efd2bb80ea"
      },
      "source": [
        "np.abs(x)"
      ],
      "execution_count": 10,
      "outputs": [
        {
          "output_type": "execute_result",
          "data": {
            "text/plain": [
              "array([2, 1, 0, 1, 2])"
            ]
          },
          "metadata": {
            "tags": []
          },
          "execution_count": 10
        }
      ]
    },
    {
      "cell_type": "markdown",
      "metadata": {
        "id": "49cLa81-3cyA"
      },
      "source": [
        "This ufunc can also handle complex data, in which the absolute value returns the magnitude:"
      ]
    },
    {
      "cell_type": "code",
      "metadata": {
        "colab": {
          "base_uri": "https://localhost:8080/"
        },
        "id": "YHSfyHMR3ase",
        "outputId": "55c3cc92-d34b-49c5-ba69-f9c6f0bd841b"
      },
      "source": [
        "x = np.array([3 - 4j, 4 - 3j, 2 + 0j, 0 + 1j])\r\n",
        "np.abs(x)"
      ],
      "execution_count": 11,
      "outputs": [
        {
          "output_type": "execute_result",
          "data": {
            "text/plain": [
              "array([5., 5., 2., 1.])"
            ]
          },
          "metadata": {
            "tags": []
          },
          "execution_count": 11
        }
      ]
    },
    {
      "cell_type": "markdown",
      "metadata": {
        "id": "09ppTV013k3x"
      },
      "source": [
        "### Trigonometric functions\r\n",
        "\r\n",
        "NumPy provides a large number of useful ufuncs, and some of the most useful for the data scientist are the trigonometric functions. We'll start by defining an array of angles:"
      ]
    },
    {
      "cell_type": "code",
      "metadata": {
        "colab": {
          "base_uri": "https://localhost:8080/"
        },
        "id": "eNlV96AY3iNY",
        "outputId": "c0d7f7bb-c781-49df-cd2b-14526659d118"
      },
      "source": [
        "theta = np.linspace(0, np.pi, 3)\r\n",
        "print(theta)"
      ],
      "execution_count": 13,
      "outputs": [
        {
          "output_type": "stream",
          "text": [
            "[0.         1.57079633 3.14159265]\n"
          ],
          "name": "stdout"
        }
      ]
    },
    {
      "cell_type": "markdown",
      "metadata": {
        "id": "D_9ZbfqZ32Gg"
      },
      "source": [
        "Now we can compute some trigonometric functions on these values:"
      ]
    },
    {
      "cell_type": "code",
      "metadata": {
        "colab": {
          "base_uri": "https://localhost:8080/"
        },
        "id": "sfNZ7pUE32qH",
        "outputId": "29712e52-2206-4307-8902-22733b17562c"
      },
      "source": [
        "print(\"sin(theta) = \", np.sin(theta))\r\n",
        "print(\"cos(theta) = \", np.cos(theta))\r\n",
        "print(\"tan(theta) = \", np.tan(theta))"
      ],
      "execution_count": 14,
      "outputs": [
        {
          "output_type": "stream",
          "text": [
            "sin(theta) =  [0.0000000e+00 1.0000000e+00 1.2246468e-16]\n",
            "cos(theta) =  [ 1.000000e+00  6.123234e-17 -1.000000e+00]\n",
            "tan(theta) =  [ 0.00000000e+00  1.63312394e+16 -1.22464680e-16]\n"
          ],
          "name": "stdout"
        }
      ]
    },
    {
      "cell_type": "markdown",
      "metadata": {
        "id": "MxP4Db224Y9b"
      },
      "source": [
        "The values are computed to within machine precision, which is why values that should be zero do not always hit exactly zero. Inverse trigonometric functions are also available:"
      ]
    },
    {
      "cell_type": "code",
      "metadata": {
        "colab": {
          "base_uri": "https://localhost:8080/"
        },
        "id": "KEM8Q7TR4ZZO",
        "outputId": "077544db-c133-4b3a-9059-1112413a63a3"
      },
      "source": [
        "x = [-1, 0, 1]\r\n",
        "print(\"x          = \", x)\r\n",
        "print(\"arcsin(x)  = \", np.arcsin(x))\r\n",
        "print(\"arccos(x)  = \", np.arccos(x))\r\n",
        "print(\"arctan(x)  = \", np.arctan(x))"
      ],
      "execution_count": 16,
      "outputs": [
        {
          "output_type": "stream",
          "text": [
            "x          =  [-1, 0, 1]\n",
            "arcsin(x)  =  [-1.57079633  0.          1.57079633]\n",
            "arccos(x)  =  [3.14159265 1.57079633 0.        ]\n",
            "arctan(x)  =  [-0.78539816  0.          0.78539816]\n"
          ],
          "name": "stdout"
        }
      ]
    },
    {
      "cell_type": "markdown",
      "metadata": {
        "id": "xbacO4I55EaD"
      },
      "source": [
        "### Exponents and logarithms\r\n",
        "\r\n",
        "\r\n",
        "Another common type of operation available in a NumPy ufunc are the exponentials:"
      ]
    },
    {
      "cell_type": "code",
      "metadata": {
        "colab": {
          "base_uri": "https://localhost:8080/"
        },
        "id": "I7np1xR0441p",
        "outputId": "bf0c881a-979f-49ab-d6f6-7e6340233797"
      },
      "source": [
        "x = [1, 2, 3]\r\n",
        "print(\"x    = \", x)\r\n",
        "print(\"e^x  = \", np.exp(x))\r\n",
        "print(\"2^x  = \", np.exp2(x))\r\n",
        "print(\"3^x  = \", np.power(3, x))"
      ],
      "execution_count": 17,
      "outputs": [
        {
          "output_type": "stream",
          "text": [
            "x    =  [1, 2, 3]\n",
            "e^x  =  [ 2.71828183  7.3890561  20.08553692]\n",
            "2^x  =  [2. 4. 8.]\n",
            "3^x  =  [ 3  9 27]\n"
          ],
          "name": "stdout"
        }
      ]
    },
    {
      "cell_type": "markdown",
      "metadata": {
        "id": "ghCWBUVW5mR8"
      },
      "source": [
        "The inverse of the exponentials, the logarithms, are also available. The basic `np.log` gives the natural logarithm; if you prefer to compute the base-2 logarithm or the base-10 logarithm, these are available as well:"
      ]
    },
    {
      "cell_type": "code",
      "metadata": {
        "colab": {
          "base_uri": "https://localhost:8080/"
        },
        "id": "2Af_zYNs5qPq",
        "outputId": "00e2f9b7-2f36-4b11-c9b3-a2f14b2996bb"
      },
      "source": [
        "x = [1, 2, 4, 10]\r\n",
        "print(\"x  =\", x)\r\n",
        "print(\"ln(x)  = \", np.log(x))\r\n",
        "print(\"log2(x)  = \", np.log2(x))\r\n",
        "print(\"log10(x) = \", np.log10(x))"
      ],
      "execution_count": 18,
      "outputs": [
        {
          "output_type": "stream",
          "text": [
            "x  = [1, 2, 4, 10]\n",
            "ln(x)  =  [0.         0.69314718 1.38629436 2.30258509]\n",
            "log2(x)  =  [0.         1.         2.         3.32192809]\n",
            "log10(x) =  [0.         0.30103    0.60205999 1.        ]\n"
          ],
          "name": "stdout"
        }
      ]
    },
    {
      "cell_type": "markdown",
      "metadata": {
        "id": "MH_2iJpy6K8F"
      },
      "source": [
        "There are also some specialized versions that are useful for maintaining precision with very small input:"
      ]
    },
    {
      "cell_type": "code",
      "metadata": {
        "colab": {
          "base_uri": "https://localhost:8080/"
        },
        "id": "Pn9Umro-6LcU",
        "outputId": "8525814b-ded7-4a01-e814-eedb38a189b2"
      },
      "source": [
        "x = [0, 0.001, 0.01, 0.1]\r\n",
        "print(\"exp(x) - 1 =\", np.expm1(x))\r\n",
        "print(\"log(1 + x) =\", np.log1p(x))\r\n",
        "\r\n",
        "# When x is very small, these functions give more precise values than if the raw np.log or np.exp were to be used."
      ],
      "execution_count": 20,
      "outputs": [
        {
          "output_type": "stream",
          "text": [
            "exp(x) - 1 = [0.         0.0010005  0.01005017 0.10517092]\n",
            "log(1 + x) = [0.         0.0009995  0.00995033 0.09531018]\n"
          ],
          "name": "stdout"
        }
      ]
    },
    {
      "cell_type": "markdown",
      "metadata": {
        "id": "PFemn_i16UI0"
      },
      "source": [
        "### Specialized ufuncs\r\n",
        "\r\n",
        "NumPy has many more ufuncs available, including hyperbolic trig functions, bitwise arithmetic, comparison operators, conversions from radians to degrees, rounding and remainders, and much more. A look through the NumPy documentation reveals a lot of interesting functionality.\r\n",
        "\r\n",
        "Another excellent source for more specialized and obscure ufuncs is the submodule `scipy.special`. If you want to compute some obscure mathematical function on your data, chances are it is implemented in `scipy.special`. There are far too many functions to list them all, but the following snippet shows a couple that might come up in a statistics context:"
      ]
    },
    {
      "cell_type": "code",
      "metadata": {
        "id": "0QEsXyZb6tPd"
      },
      "source": [
        "from scipy import special"
      ],
      "execution_count": 21,
      "outputs": []
    },
    {
      "cell_type": "code",
      "metadata": {
        "colab": {
          "base_uri": "https://localhost:8080/"
        },
        "id": "K93oEeMd6xQS",
        "outputId": "549e697b-9c12-4713-a818-28bfc4039f75"
      },
      "source": [
        "# Gamma functions (generalized factorials) and related functions\r\n",
        "x = [1, 5, 10]\r\n",
        "print(\"gamma(x)   = \", special.gamma(x))\r\n",
        "print(\"ln|gamma(x)| = \", special.gammaln(x))\r\n",
        "print(\"beta(x, 2) = \", special.beta(x ,2))"
      ],
      "execution_count": 22,
      "outputs": [
        {
          "output_type": "stream",
          "text": [
            "gamma(x)   =  [1.0000e+00 2.4000e+01 3.6288e+05]\n",
            "ln|gamma(x)| =  [ 0.          3.17805383 12.80182748]\n",
            "beta(x, 2) =  [0.5        0.03333333 0.00909091]\n"
          ],
          "name": "stdout"
        }
      ]
    },
    {
      "cell_type": "code",
      "metadata": {
        "colab": {
          "base_uri": "https://localhost:8080/"
        },
        "id": "HhQsf3kt7QDA",
        "outputId": "93539843-d116-4b8c-b673-5e97648b03bc"
      },
      "source": [
        "# Error function (integral of Gaussian)\r\n",
        "# its complement, and its inverse\r\n",
        "x = np.array([0, 0.3, 0.7, 1.0])\r\n",
        "print(\"erf(x)  =\", special.erf(x))\r\n",
        "print(\"erfc(x) =\", special.erfc(x))\r\n",
        "print(\"erfinv(x) =\", special.erfinv(x))"
      ],
      "execution_count": 23,
      "outputs": [
        {
          "output_type": "stream",
          "text": [
            "erf(x)  = [0.         0.32862676 0.67780119 0.84270079]\n",
            "erfc(x) = [1.         0.67137324 0.32219881 0.15729921]\n",
            "erfinv(x) = [0.         0.27246271 0.73286908        inf]\n"
          ],
          "name": "stdout"
        }
      ]
    },
    {
      "cell_type": "markdown",
      "metadata": {
        "id": "vanQoBC47f-0"
      },
      "source": [
        "## ## Advanced Ufunc Features\r\n",
        "\r\n",
        "Many NumPy users make use of ufuncs without ever learning their full set of features. We'll outline a few specialized features of ufuncs here"
      ]
    },
    {
      "cell_type": "markdown",
      "metadata": {
        "id": "0gEZKOn87mEv"
      },
      "source": [
        "**Specifying output**\r\n",
        "\r\n",
        "For large calculations, it is sometimes useful to be able to specify the array where the result of the calculation will be stored. Rather than creating a temporary array, this can be used to write computation results directly to the memory location where you'd like them to be. For all ufuncs, this can be done using the out argument of the function:"
      ]
    },
    {
      "cell_type": "code",
      "metadata": {
        "colab": {
          "base_uri": "https://localhost:8080/"
        },
        "id": "c9TCLRWg7vkB",
        "outputId": "bb9e4667-669b-4265-af7c-0baa9ec95476"
      },
      "source": [
        "x = np.arange(5)\r\n",
        "print(x)\r\n",
        "y = np.empty(5)\r\n",
        "\r\n",
        "np.multiply(x, 10, out=y)\r\n",
        "print(y)"
      ],
      "execution_count": 26,
      "outputs": [
        {
          "output_type": "stream",
          "text": [
            "[0 1 2 3 4]\n",
            "[ 0. 10. 20. 30. 40.]\n"
          ],
          "name": "stdout"
        }
      ]
    },
    {
      "cell_type": "markdown",
      "metadata": {
        "id": "Yw1ucws68IfB"
      },
      "source": [
        "If we had instead written `y[::2] = 2 ** x`, this would have resulted in the creation of a temporary array to hold the results of `2 ** x`, followed by a second operation copying those values into the y array. This doesn't make much of a difference for such a small computation, but for very large arrays the memory savings from careful use of the `out` argument can be significant."
      ]
    },
    {
      "cell_type": "markdown",
      "metadata": {
        "id": "iZUgNpFp8SnS"
      },
      "source": [
        "**Aggregates**\r\n",
        "\r\n",
        "For binary ufuncs, there are some interesting aggregates that can be computed directly from the object. For example, if we'd like to reduce an array with a particular operation, we can use the `reduce` method of any ufunc. A reduce repeatedly applies a given operation to the elements of an array until only a single result remains.\r\n",
        "\r\n",
        "For example, calling `reduce` on the `add` ufunc returns the sum of all elements in the array:"
      ]
    },
    {
      "cell_type": "code",
      "metadata": {
        "colab": {
          "base_uri": "https://localhost:8080/"
        },
        "id": "nzPwi0588F3v",
        "outputId": "f0db8010-3992-45a7-a962-f9fcf00446fa"
      },
      "source": [
        "x = np.arange(1, 6)\r\n",
        "np.add.reduce(x)"
      ],
      "execution_count": 29,
      "outputs": [
        {
          "output_type": "execute_result",
          "data": {
            "text/plain": [
              "15"
            ]
          },
          "metadata": {
            "tags": []
          },
          "execution_count": 29
        }
      ]
    },
    {
      "cell_type": "markdown",
      "metadata": {
        "id": "N-X5M3DL8vy1"
      },
      "source": [
        "Similarly, calling `reduce` on the `multiply` ufunc results in the product of all array elements"
      ]
    },
    {
      "cell_type": "code",
      "metadata": {
        "colab": {
          "base_uri": "https://localhost:8080/"
        },
        "id": "rksJ469Q8t43",
        "outputId": "0e7da1c3-505d-4d0b-c1cd-2138355bed31"
      },
      "source": [
        "np.multiply.reduce(x)"
      ],
      "execution_count": 30,
      "outputs": [
        {
          "output_type": "execute_result",
          "data": {
            "text/plain": [
              "120"
            ]
          },
          "metadata": {
            "tags": []
          },
          "execution_count": 30
        }
      ]
    },
    {
      "cell_type": "markdown",
      "metadata": {
        "id": "c7BBDUp185Y_"
      },
      "source": [
        "If we'd like to store all the intermediate results of the computation, we can instead use `accumulate`:"
      ]
    },
    {
      "cell_type": "code",
      "metadata": {
        "colab": {
          "base_uri": "https://localhost:8080/"
        },
        "id": "8ndlmKew87J0",
        "outputId": "734b3855-a181-446d-ae61-fb12a41b819d"
      },
      "source": [
        "np.add.accumulate(x)"
      ],
      "execution_count": 31,
      "outputs": [
        {
          "output_type": "execute_result",
          "data": {
            "text/plain": [
              "array([ 1,  3,  6, 10, 15])"
            ]
          },
          "metadata": {
            "tags": []
          },
          "execution_count": 31
        }
      ]
    },
    {
      "cell_type": "code",
      "metadata": {
        "colab": {
          "base_uri": "https://localhost:8080/"
        },
        "id": "xVubENJ09Bj7",
        "outputId": "f161b86b-7d43-44b7-e4cf-9d9e7167f428"
      },
      "source": [
        "np.multiply.accumulate(x)"
      ],
      "execution_count": 32,
      "outputs": [
        {
          "output_type": "execute_result",
          "data": {
            "text/plain": [
              "array([  1,   2,   6,  24, 120])"
            ]
          },
          "metadata": {
            "tags": []
          },
          "execution_count": 32
        }
      ]
    },
    {
      "cell_type": "markdown",
      "metadata": {
        "id": "xApcCs2E9Grb"
      },
      "source": [
        "**Outer products**\r\n",
        "\r\n",
        "Finally, any ufunc can compute the output of all pairs of two different inputs using the outer method. This allows you, in one line, to do things like create a multiplication table:"
      ]
    },
    {
      "cell_type": "code",
      "metadata": {
        "colab": {
          "base_uri": "https://localhost:8080/"
        },
        "id": "pNtTHA139JXs",
        "outputId": "ac8785e4-7dd2-448c-cf38-2d0de73e0a73"
      },
      "source": [
        "x = np.arange(1, 6)\r\n",
        "np.multiply.outer(x, x)"
      ],
      "execution_count": 33,
      "outputs": [
        {
          "output_type": "execute_result",
          "data": {
            "text/plain": [
              "array([[ 1,  2,  3,  4,  5],\n",
              "       [ 2,  4,  6,  8, 10],\n",
              "       [ 3,  6,  9, 12, 15],\n",
              "       [ 4,  8, 12, 16, 20],\n",
              "       [ 5, 10, 15, 20, 25]])"
            ]
          },
          "metadata": {
            "tags": []
          },
          "execution_count": 33
        }
      ]
    }
  ]
}