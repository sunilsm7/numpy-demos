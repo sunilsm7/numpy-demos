{
  "nbformat": 4,
  "nbformat_minor": 0,
  "metadata": {
    "colab": {
      "name": "Fancy-Indexing.ipynb",
      "provenance": [],
      "authorship_tag": "ABX9TyOJOJc5VQzzYSoWV8+ODZys",
      "include_colab_link": true
    },
    "kernelspec": {
      "name": "python3",
      "display_name": "Python 3"
    }
  },
  "cells": [
    {
      "cell_type": "markdown",
      "metadata": {
        "id": "view-in-github",
        "colab_type": "text"
      },
      "source": [
        "<a href=\"https://colab.research.google.com/github/sunilsm7/numpy-demos/blob/main/Fancy_Indexing.ipynb\" target=\"_parent\"><img src=\"https://colab.research.google.com/assets/colab-badge.svg\" alt=\"Open In Colab\"/></a>"
      ]
    },
    {
      "cell_type": "markdown",
      "metadata": {
        "id": "hFDivHi765cS"
      },
      "source": [
        "# Fancy Indexing\r\n",
        "\r\n",
        "Fancy indexing is like the simple indexing we've already seen, but we pass arrays of indices in place of single scalars. This allows us to very quickly access and modify complicated subsets of an array's values."
      ]
    },
    {
      "cell_type": "code",
      "metadata": {
        "id": "XG6MenQK7BBS"
      },
      "source": [
        "import numpy as np"
      ],
      "execution_count": 1,
      "outputs": []
    },
    {
      "cell_type": "markdown",
      "metadata": {
        "id": "4bFHRuh67LCE"
      },
      "source": [
        "## Exploring Fancy Indexing\r\n",
        "\r\n",
        "Fancy indexing is conceptually simple: it means passing an array of indices to access multiple array elements at once. For example, consider the following array"
      ]
    },
    {
      "cell_type": "code",
      "metadata": {
        "colab": {
          "base_uri": "https://localhost:8080/"
        },
        "id": "QI5w6uy27STy",
        "outputId": "f476c1de-56ea-4775-d78b-c4e136112671"
      },
      "source": [
        "rand = np.random.RandomState(42)\r\n",
        "\r\n",
        "x = rand.randint(100, size=10)\r\n",
        "print(x)"
      ],
      "execution_count": 2,
      "outputs": [
        {
          "output_type": "stream",
          "text": [
            "[51 92 14 71 60 20 82 86 74 74]\n"
          ],
          "name": "stdout"
        }
      ]
    },
    {
      "cell_type": "markdown",
      "metadata": {
        "id": "CvVWHIsr7Zq8"
      },
      "source": [
        "Suppose we want to access three different elements. We could do it like this:"
      ]
    },
    {
      "cell_type": "code",
      "metadata": {
        "colab": {
          "base_uri": "https://localhost:8080/"
        },
        "id": "3114eEZ77Vsa",
        "outputId": "6fceb7c6-7d9d-4c3e-d0be-8d66769b4ddb"
      },
      "source": [
        "[x[3], x[7], x[2]]"
      ],
      "execution_count": 3,
      "outputs": [
        {
          "output_type": "execute_result",
          "data": {
            "text/plain": [
              "[71, 86, 14]"
            ]
          },
          "metadata": {
            "tags": []
          },
          "execution_count": 3
        }
      ]
    },
    {
      "cell_type": "markdown",
      "metadata": {
        "id": "Lgotzr6r7iFL"
      },
      "source": [
        "Alternatively, we can pass a single list or array of indices to obtain the same result:"
      ]
    },
    {
      "cell_type": "code",
      "metadata": {
        "colab": {
          "base_uri": "https://localhost:8080/"
        },
        "id": "-v1vELa_7ifm",
        "outputId": "05049465-0df1-4054-d8c0-b05756d18c38"
      },
      "source": [
        "ind = [3, 7, 4]\r\n",
        "x[ind]"
      ],
      "execution_count": 5,
      "outputs": [
        {
          "output_type": "execute_result",
          "data": {
            "text/plain": [
              "array([71, 86, 60])"
            ]
          },
          "metadata": {
            "tags": []
          },
          "execution_count": 5
        }
      ]
    },
    {
      "cell_type": "markdown",
      "metadata": {
        "id": "DUn_OLkY7vqC"
      },
      "source": [
        "When using fancy indexing, the shape of the result reflects the shape of the index arrays rather than the shape of the array being indexed:"
      ]
    },
    {
      "cell_type": "code",
      "metadata": {
        "colab": {
          "base_uri": "https://localhost:8080/"
        },
        "id": "loXgyAC17wXz",
        "outputId": "d0078106-b935-4d05-c541-dc3e7fc10c94"
      },
      "source": [
        "ind = np.array([[3, 7],\r\n",
        "                [4, 5]])\r\n",
        "x[ind]"
      ],
      "execution_count": 6,
      "outputs": [
        {
          "output_type": "execute_result",
          "data": {
            "text/plain": [
              "array([[71, 86],\n",
              "       [60, 20]])"
            ]
          },
          "metadata": {
            "tags": []
          },
          "execution_count": 6
        }
      ]
    },
    {
      "cell_type": "markdown",
      "metadata": {
        "id": "UuelE-dt77ZK"
      },
      "source": [
        "Fancy indexing also works in multiple dimensions. Consider the following array:"
      ]
    },
    {
      "cell_type": "code",
      "metadata": {
        "colab": {
          "base_uri": "https://localhost:8080/"
        },
        "id": "zVl-QBT277t6",
        "outputId": "8b125afe-4c64-4d79-b4a4-a138be17edf7"
      },
      "source": [
        "X = np.arange(12).reshape((3, 4))\r\n",
        "print(X)"
      ],
      "execution_count": 8,
      "outputs": [
        {
          "output_type": "stream",
          "text": [
            "[[ 0  1  2  3]\n",
            " [ 4  5  6  7]\n",
            " [ 8  9 10 11]]\n"
          ],
          "name": "stdout"
        }
      ]
    },
    {
      "cell_type": "markdown",
      "metadata": {
        "id": "aQB--QIA8Iza"
      },
      "source": [
        "Like with standard indexing, the first index refers to the row, and the second to the column:"
      ]
    },
    {
      "cell_type": "code",
      "metadata": {
        "colab": {
          "base_uri": "https://localhost:8080/"
        },
        "id": "B2fclWKQ8IVa",
        "outputId": "11a5ad54-102a-4769-f675-115393a3c9a0"
      },
      "source": [
        "row = np.array([0, 1, 2])\r\n",
        "col = np.array([2, 1, 3])\r\n",
        "X[row, col]"
      ],
      "execution_count": 9,
      "outputs": [
        {
          "output_type": "execute_result",
          "data": {
            "text/plain": [
              "array([ 2,  5, 11])"
            ]
          },
          "metadata": {
            "tags": []
          },
          "execution_count": 9
        }
      ]
    },
    {
      "cell_type": "markdown",
      "metadata": {
        "id": "hpz-T3vS8tbT"
      },
      "source": [
        "Notice that the first value in the result is `X[0, 2]`, the second is `X[1, 1]`, and the third is `X[2, 3]`. The pairing of indices in fancy indexing follows all the broadcasting rule.\r\n",
        "\r\n",
        "So, for example, if we combine a column vector and a row vector within the indices, we get a two-dimensional result:\r\n"
      ]
    },
    {
      "cell_type": "code",
      "metadata": {
        "colab": {
          "base_uri": "https://localhost:8080/"
        },
        "id": "u_LRD_BD8zFK",
        "outputId": "d6abf5bd-69ae-4aa9-94d6-8a1164fa9d0f"
      },
      "source": [
        "X[row[:, np.newaxis], col]"
      ],
      "execution_count": 10,
      "outputs": [
        {
          "output_type": "execute_result",
          "data": {
            "text/plain": [
              "array([[ 2,  1,  3],\n",
              "       [ 6,  5,  7],\n",
              "       [10,  9, 11]])"
            ]
          },
          "metadata": {
            "tags": []
          },
          "execution_count": 10
        }
      ]
    },
    {
      "cell_type": "markdown",
      "metadata": {
        "id": "rRlE9IGo87FD"
      },
      "source": [
        "Here, each row value is matched with each column vector, exactly as we saw in broadcasting of arithmetic operations. For example:"
      ]
    },
    {
      "cell_type": "code",
      "metadata": {
        "colab": {
          "base_uri": "https://localhost:8080/"
        },
        "id": "tJ5C-_mU88QT",
        "outputId": "38107b56-bbd2-4955-a827-48eb0986506b"
      },
      "source": [
        "row[:, np.newaxis] * col"
      ],
      "execution_count": 11,
      "outputs": [
        {
          "output_type": "execute_result",
          "data": {
            "text/plain": [
              "array([[0, 0, 0],\n",
              "       [2, 1, 3],\n",
              "       [4, 2, 6]])"
            ]
          },
          "metadata": {
            "tags": []
          },
          "execution_count": 11
        }
      ]
    },
    {
      "cell_type": "markdown",
      "metadata": {
        "id": "Y3KZs-Rw9G_b"
      },
      "source": [
        "It is always important to remember with fancy indexing that the return value reflects the broadcasted shape of the indices, rather than the shape of the array being indexed."
      ]
    },
    {
      "cell_type": "markdown",
      "metadata": {
        "id": "z7KgR7Sm9PWT"
      },
      "source": [
        "### Combined Indexing\r\n",
        "\r\n",
        " even more powerful operations, fancy indexing can be combined with the other indexing schemes we've seen:"
      ]
    },
    {
      "cell_type": "code",
      "metadata": {
        "colab": {
          "base_uri": "https://localhost:8080/"
        },
        "id": "pEQimsr49FhT",
        "outputId": "9f417f7e-c653-4ae2-8a4a-eb8e566d4d24"
      },
      "source": [
        "print(X)"
      ],
      "execution_count": 12,
      "outputs": [
        {
          "output_type": "stream",
          "text": [
            "[[ 0  1  2  3]\n",
            " [ 4  5  6  7]\n",
            " [ 8  9 10 11]]\n"
          ],
          "name": "stdout"
        }
      ]
    },
    {
      "cell_type": "markdown",
      "metadata": {
        "id": "GbMPvl0d9WVD"
      },
      "source": [
        "We can combine fancy and simple indices:"
      ]
    },
    {
      "cell_type": "code",
      "metadata": {
        "colab": {
          "base_uri": "https://localhost:8080/"
        },
        "id": "nKe54gWW9UkU",
        "outputId": "3f2e0667-6926-42a8-f7f9-3e499ef4c03d"
      },
      "source": [
        "X[2, [2, 0, 1]]"
      ],
      "execution_count": 13,
      "outputs": [
        {
          "output_type": "execute_result",
          "data": {
            "text/plain": [
              "array([10,  8,  9])"
            ]
          },
          "metadata": {
            "tags": []
          },
          "execution_count": 13
        }
      ]
    },
    {
      "cell_type": "markdown",
      "metadata": {
        "id": "MtoX7eI69gIU"
      },
      "source": [
        "And we can combine fancy indexing with masking:"
      ]
    },
    {
      "cell_type": "code",
      "metadata": {
        "colab": {
          "base_uri": "https://localhost:8080/"
        },
        "id": "wgahXz0Z9gtF",
        "outputId": "3fbe2f70-6600-43ce-b6fc-caa8dae9ccc2"
      },
      "source": [
        "mask = np.array([1, 0, 1, 0], dtype=bool)\r\n",
        "X[row[:, np.newaxis], mask]"
      ],
      "execution_count": 14,
      "outputs": [
        {
          "output_type": "execute_result",
          "data": {
            "text/plain": [
              "array([[ 0,  2],\n",
              "       [ 4,  6],\n",
              "       [ 8, 10]])"
            ]
          },
          "metadata": {
            "tags": []
          },
          "execution_count": 14
        }
      ]
    },
    {
      "cell_type": "markdown",
      "metadata": {
        "id": "EIZUbbhW9rmb"
      },
      "source": [
        "### Modifying Values with Fancy Indexing\r\n",
        "\r\n",
        "Just as fancy indexing can be used to access parts of an array, it can also be used to modify parts of an array. For example, imagine we have an array of indices and we'd like to set the corresponding items in an array to some value:"
      ]
    },
    {
      "cell_type": "code",
      "metadata": {
        "colab": {
          "base_uri": "https://localhost:8080/"
        },
        "id": "IMn0BBMk9w4U",
        "outputId": "782c2f9a-f803-4834-bd22-50a1627fafbe"
      },
      "source": [
        "x = np.arange(10)\r\n",
        "print(x)\r\n",
        "\r\n",
        "i = np.array([2, 1, 8, 4])\r\n",
        "x[i] = 99\r\n",
        "print(x)"
      ],
      "execution_count": 19,
      "outputs": [
        {
          "output_type": "stream",
          "text": [
            "[0 1 2 3 4 5 6 7 8 9]\n",
            "[ 0 99 99  3 99  5  6  7 99  9]\n"
          ],
          "name": "stdout"
        }
      ]
    },
    {
      "cell_type": "markdown",
      "metadata": {
        "id": "YyQWCIVe97uc"
      },
      "source": [
        "We can use any assignment-type operator for this. For example:"
      ]
    },
    {
      "cell_type": "code",
      "metadata": {
        "colab": {
          "base_uri": "https://localhost:8080/"
        },
        "id": "2qeP_3qg98Dr",
        "outputId": "fff38e96-909e-47b6-fc8a-ac74b1f10878"
      },
      "source": [
        "x[i] -= 10\r\n",
        "print(x)"
      ],
      "execution_count": 20,
      "outputs": [
        {
          "output_type": "stream",
          "text": [
            "[ 0 89 89  3 89  5  6  7 89  9]\n"
          ],
          "name": "stdout"
        }
      ]
    }
  ]
}