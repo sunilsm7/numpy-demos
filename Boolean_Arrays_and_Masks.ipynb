{
  "nbformat": 4,
  "nbformat_minor": 0,
  "metadata": {
    "colab": {
      "name": "Boolean-Arrays-and-Masks.ipynb",
      "provenance": [],
      "authorship_tag": "ABX9TyNtU0FaltOPypLl+eMuN/kg",
      "include_colab_link": true
    },
    "kernelspec": {
      "name": "python3",
      "display_name": "Python 3"
    }
  },
  "cells": [
    {
      "cell_type": "markdown",
      "metadata": {
        "id": "view-in-github",
        "colab_type": "text"
      },
      "source": [
        "<a href=\"https://colab.research.google.com/github/sunilsm7/numpy-demos/blob/main/Boolean_Arrays_and_Masks.ipynb\" target=\"_parent\"><img src=\"https://colab.research.google.com/assets/colab-badge.svg\" alt=\"Open In Colab\"/></a>"
      ]
    },
    {
      "cell_type": "markdown",
      "metadata": {
        "id": "9b6kdKsrxcnE"
      },
      "source": [
        "# Comparisons, Masks, and Boolean Logic\r\n",
        "\r\n",
        "Masking comes up when you want to extract, modify, count, or otherwise manipulate values in an array based on some criterion: for example, you might wish to count all values greater than a certain value, or perhaps remove all outliers that are above some threshold. In NumPy, Boolean masking is often the most efficient way to accomplish these types of tasks"
      ]
    },
    {
      "cell_type": "code",
      "metadata": {
        "id": "VrWaLRxqxeXF"
      },
      "source": [
        "import numpy as np\r\n",
        "import pandas as pd"
      ],
      "execution_count": 1,
      "outputs": []
    },
    {
      "cell_type": "markdown",
      "metadata": {
        "id": "UmCnLWrXxg7K"
      },
      "source": [
        "## Comparison Operators as ufuncs\r\n",
        "\r\n",
        "NumPy also implements comparison operators such as < (less than) and > (greater than) as element-wise ufuncs. The result of these comparison operators is always an array with a Boolean data type."
      ]
    },
    {
      "cell_type": "code",
      "metadata": {
        "colab": {
          "base_uri": "https://localhost:8080/"
        },
        "id": "9A_kxVsv10kL",
        "outputId": "6080186c-8083-478e-8568-97a0faff0204"
      },
      "source": [
        "x = np.array([1, 2, 3, 4, 5])\r\n",
        "print(x)"
      ],
      "execution_count": 4,
      "outputs": [
        {
          "output_type": "stream",
          "text": [
            "[1 2 3 4 5]\n"
          ],
          "name": "stdout"
        }
      ]
    },
    {
      "cell_type": "code",
      "metadata": {
        "colab": {
          "base_uri": "https://localhost:8080/"
        },
        "id": "Ja42NicH15C5",
        "outputId": "06cd1703-e0dc-4392-c271-f150d021843a"
      },
      "source": [
        "x < 3 # less than"
      ],
      "execution_count": 5,
      "outputs": [
        {
          "output_type": "execute_result",
          "data": {
            "text/plain": [
              "array([ True,  True, False, False, False])"
            ]
          },
          "metadata": {
            "tags": []
          },
          "execution_count": 5
        }
      ]
    },
    {
      "cell_type": "code",
      "metadata": {
        "colab": {
          "base_uri": "https://localhost:8080/"
        },
        "id": "fGqOmuCn194L",
        "outputId": "d2516a15-75a4-45f6-9910-4df843a40913"
      },
      "source": [
        "x > 3 # greater than"
      ],
      "execution_count": 6,
      "outputs": [
        {
          "output_type": "execute_result",
          "data": {
            "text/plain": [
              "array([False, False, False,  True,  True])"
            ]
          },
          "metadata": {
            "tags": []
          },
          "execution_count": 6
        }
      ]
    },
    {
      "cell_type": "code",
      "metadata": {
        "colab": {
          "base_uri": "https://localhost:8080/"
        },
        "id": "W076xxg72DUp",
        "outputId": "7c9e4ffc-412f-4420-ea13-4116bf534492"
      },
      "source": [
        "x <= 3 # less than or equal"
      ],
      "execution_count": 7,
      "outputs": [
        {
          "output_type": "execute_result",
          "data": {
            "text/plain": [
              "array([ True,  True,  True, False, False])"
            ]
          },
          "metadata": {
            "tags": []
          },
          "execution_count": 7
        }
      ]
    },
    {
      "cell_type": "code",
      "metadata": {
        "colab": {
          "base_uri": "https://localhost:8080/"
        },
        "id": "K5WzG9HR2FDr",
        "outputId": "76d06ca3-c779-4494-f459-89c0704683f6"
      },
      "source": [
        "x >= 3  # greater than or equal"
      ],
      "execution_count": 8,
      "outputs": [
        {
          "output_type": "execute_result",
          "data": {
            "text/plain": [
              "array([False, False,  True,  True,  True])"
            ]
          },
          "metadata": {
            "tags": []
          },
          "execution_count": 8
        }
      ]
    },
    {
      "cell_type": "code",
      "metadata": {
        "colab": {
          "base_uri": "https://localhost:8080/"
        },
        "id": "mOw3zFL72Ioy",
        "outputId": "6f677b2b-7370-4cef-9571-4a6003c5fd0d"
      },
      "source": [
        "x != 3  # not equal"
      ],
      "execution_count": 9,
      "outputs": [
        {
          "output_type": "execute_result",
          "data": {
            "text/plain": [
              "array([ True,  True, False,  True,  True])"
            ]
          },
          "metadata": {
            "tags": []
          },
          "execution_count": 9
        }
      ]
    },
    {
      "cell_type": "code",
      "metadata": {
        "colab": {
          "base_uri": "https://localhost:8080/"
        },
        "id": "r_ge0c3h2MSP",
        "outputId": "69f266ae-c340-4fc6-e40c-8fe73c8454b2"
      },
      "source": [
        "x == 3  # equal"
      ],
      "execution_count": 10,
      "outputs": [
        {
          "output_type": "execute_result",
          "data": {
            "text/plain": [
              "array([False, False,  True, False, False])"
            ]
          },
          "metadata": {
            "tags": []
          },
          "execution_count": 10
        }
      ]
    },
    {
      "cell_type": "markdown",
      "metadata": {
        "id": "YWiJ89gW2Rnq"
      },
      "source": [
        "It is also possible to do an element-wise comparison of two arrays, and to include compound expressions:"
      ]
    },
    {
      "cell_type": "code",
      "metadata": {
        "colab": {
          "base_uri": "https://localhost:8080/"
        },
        "id": "JdYY3j9i2QDC",
        "outputId": "f93d49e7-075e-4eef-8621-e05c2004a67d"
      },
      "source": [
        "(2 * x) == (x ** 2)"
      ],
      "execution_count": 11,
      "outputs": [
        {
          "output_type": "execute_result",
          "data": {
            "text/plain": [
              "array([False,  True, False, False, False])"
            ]
          },
          "metadata": {
            "tags": []
          },
          "execution_count": 11
        }
      ]
    },
    {
      "cell_type": "markdown",
      "metadata": {
        "id": "yRjJEz7V2ZFD"
      },
      "source": [
        "As in the case of arithmetic operators, the comparison operators are implemented as ufuncs in NumPy; for example, when you write `x < 3`, internally NumPy uses `np.less(x, 3)`. A summary of the comparison operators and their equivalent ufunc is shown here:\r\n",
        "\r\n",
        "![image.png](data:image/png;base64,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)"
      ]
    },
    {
      "cell_type": "markdown",
      "metadata": {
        "id": "uULlWtMZ2qxU"
      },
      "source": [
        "Just as in the case of arithmetic ufuncs, these will work on arrays of any size and shape. Here is a two-dimensional example:"
      ]
    },
    {
      "cell_type": "code",
      "metadata": {
        "colab": {
          "base_uri": "https://localhost:8080/"
        },
        "id": "_h4WLQax2XXS",
        "outputId": "82ef7c3c-cc84-4a8b-b7ab-81de18002212"
      },
      "source": [
        "rng = np.random.RandomState(0)\r\n",
        "x = rng.randint(10, size=(3, 4))\r\n",
        "x"
      ],
      "execution_count": 12,
      "outputs": [
        {
          "output_type": "execute_result",
          "data": {
            "text/plain": [
              "array([[5, 0, 3, 3],\n",
              "       [7, 9, 3, 5],\n",
              "       [2, 4, 7, 6]])"
            ]
          },
          "metadata": {
            "tags": []
          },
          "execution_count": 12
        }
      ]
    },
    {
      "cell_type": "code",
      "metadata": {
        "colab": {
          "base_uri": "https://localhost:8080/"
        },
        "id": "H1JcsJ4a2xSk",
        "outputId": "5263a765-08b5-43ad-8e63-407fc89785ac"
      },
      "source": [
        "x < 6"
      ],
      "execution_count": 13,
      "outputs": [
        {
          "output_type": "execute_result",
          "data": {
            "text/plain": [
              "array([[ True,  True,  True,  True],\n",
              "       [False, False,  True,  True],\n",
              "       [ True,  True, False, False]])"
            ]
          },
          "metadata": {
            "tags": []
          },
          "execution_count": 13
        }
      ]
    },
    {
      "cell_type": "markdown",
      "metadata": {
        "id": "LkfITGo223DC"
      },
      "source": [
        "In each case, the result is a Boolean array, and NumPy provides a number of straightforward patterns for working with these Boolean results."
      ]
    },
    {
      "cell_type": "markdown",
      "metadata": {
        "id": "0Oi34mTO23mC"
      },
      "source": [
        "### Working with Boolean Arrays\r\n",
        "\r\n",
        "Given a Boolean array, there are a host of useful operations you can do. We'll work with `x`, the two-dimensional array we created earlier."
      ]
    },
    {
      "cell_type": "code",
      "metadata": {
        "colab": {
          "base_uri": "https://localhost:8080/"
        },
        "id": "yPlSEXJP26BD",
        "outputId": "425360ad-4b8d-4b85-f87b-675e59c45439"
      },
      "source": [
        "print(x)"
      ],
      "execution_count": 14,
      "outputs": [
        {
          "output_type": "stream",
          "text": [
            "[[5 0 3 3]\n",
            " [7 9 3 5]\n",
            " [2 4 7 6]]\n"
          ],
          "name": "stdout"
        }
      ]
    },
    {
      "cell_type": "markdown",
      "metadata": {
        "id": "UkSthO363EWL"
      },
      "source": [
        "**Counting entries**\r\n",
        "\r\n",
        "To count the number of `True` entries in a Boolean array, `np.count_nonzero` is useful:"
      ]
    },
    {
      "cell_type": "code",
      "metadata": {
        "colab": {
          "base_uri": "https://localhost:8080/"
        },
        "id": "Q5sTBlvx3Hfj",
        "outputId": "6690d233-aafa-446a-f4d7-beb7192249ed"
      },
      "source": [
        "# how many values less than 6?\r\n",
        "np.count_nonzero(x < 6)"
      ],
      "execution_count": 15,
      "outputs": [
        {
          "output_type": "execute_result",
          "data": {
            "text/plain": [
              "8"
            ]
          },
          "metadata": {
            "tags": []
          },
          "execution_count": 15
        }
      ]
    },
    {
      "cell_type": "markdown",
      "metadata": {
        "id": "WlqD4mV13Ug7"
      },
      "source": [
        "We see that there are eight array entries that are less than `6`. Another way to get at this information is to use `np.sum`; in this case, `False` is interpreted as `0`, and `True` is interpreted as `1`:"
      ]
    },
    {
      "cell_type": "code",
      "metadata": {
        "colab": {
          "base_uri": "https://localhost:8080/"
        },
        "id": "RCidqGn63P7t",
        "outputId": "304085cb-1e88-4fdf-d34d-7d36d07b5f2a"
      },
      "source": [
        "np.sum(x < 6)"
      ],
      "execution_count": 16,
      "outputs": [
        {
          "output_type": "execute_result",
          "data": {
            "text/plain": [
              "8"
            ]
          },
          "metadata": {
            "tags": []
          },
          "execution_count": 16
        }
      ]
    },
    {
      "cell_type": "markdown",
      "metadata": {
        "id": "WqKbpRvq3mwb"
      },
      "source": [
        "The benefit of `sum()` is that like with other NumPy aggregation functions, this summation can be done along rows or columns as well:"
      ]
    },
    {
      "cell_type": "code",
      "metadata": {
        "colab": {
          "base_uri": "https://localhost:8080/"
        },
        "id": "KxMdsh9_3pVv",
        "outputId": "60f92ef5-bf35-4a54-a949-0cd41f02df89"
      },
      "source": [
        "# how many values less than 6 in each row?\r\n",
        "np.sum(x < 6, axis=1)"
      ],
      "execution_count": 17,
      "outputs": [
        {
          "output_type": "execute_result",
          "data": {
            "text/plain": [
              "array([4, 2, 2])"
            ]
          },
          "metadata": {
            "tags": []
          },
          "execution_count": 17
        }
      ]
    },
    {
      "cell_type": "markdown",
      "metadata": {
        "id": "Fu0IftkO5BBa"
      },
      "source": [
        "This counts the number of values less than `6` in each row of the matrix.\r\n",
        "\r\n",
        "If we're interested in quickly checking whether any or all the values are true, we can use (you guessed it) `np.any` or `np.all`:"
      ]
    },
    {
      "cell_type": "code",
      "metadata": {
        "colab": {
          "base_uri": "https://localhost:8080/"
        },
        "id": "8M_-BWiu49kD",
        "outputId": "72f5f1e7-41e3-401c-adca-572611deeea7"
      },
      "source": [
        "# are there any values greater than 8?\r\n",
        "np.any(x > 8)"
      ],
      "execution_count": 18,
      "outputs": [
        {
          "output_type": "execute_result",
          "data": {
            "text/plain": [
              "True"
            ]
          },
          "metadata": {
            "tags": []
          },
          "execution_count": 18
        }
      ]
    },
    {
      "cell_type": "code",
      "metadata": {
        "colab": {
          "base_uri": "https://localhost:8080/"
        },
        "id": "IezB25Z65MHd",
        "outputId": "c38dbff9-3465-4b6b-a81a-8a76bab97d16"
      },
      "source": [
        "# are there any values less than zero?\r\n",
        "np.any(x < 0)"
      ],
      "execution_count": 19,
      "outputs": [
        {
          "output_type": "execute_result",
          "data": {
            "text/plain": [
              "False"
            ]
          },
          "metadata": {
            "tags": []
          },
          "execution_count": 19
        }
      ]
    },
    {
      "cell_type": "code",
      "metadata": {
        "colab": {
          "base_uri": "https://localhost:8080/"
        },
        "id": "r97viPrU5QGD",
        "outputId": "4de0020d-15fe-437f-ab03-8c27a2d48f19"
      },
      "source": [
        "# are all values less than 10?\r\n",
        "np.all(x < 10)"
      ],
      "execution_count": 20,
      "outputs": [
        {
          "output_type": "execute_result",
          "data": {
            "text/plain": [
              "True"
            ]
          },
          "metadata": {
            "tags": []
          },
          "execution_count": 20
        }
      ]
    },
    {
      "cell_type": "code",
      "metadata": {
        "colab": {
          "base_uri": "https://localhost:8080/"
        },
        "id": "kSpXpUDU5Ty1",
        "outputId": "f2f6716d-50b4-449f-ed4c-8d0e14049565"
      },
      "source": [
        "# are all values equal to 6?\r\n",
        "np.all(x == 6)"
      ],
      "execution_count": 21,
      "outputs": [
        {
          "output_type": "execute_result",
          "data": {
            "text/plain": [
              "False"
            ]
          },
          "metadata": {
            "tags": []
          },
          "execution_count": 21
        }
      ]
    },
    {
      "cell_type": "markdown",
      "metadata": {
        "id": "1SgOJTV15abc"
      },
      "source": [
        "`np.all` and `np.any` can be used along particular axes as well. For example:"
      ]
    },
    {
      "cell_type": "code",
      "metadata": {
        "colab": {
          "base_uri": "https://localhost:8080/"
        },
        "id": "k4FhpA7Y5X7M",
        "outputId": "465d55e4-49ca-4805-a532-c7b7edb17277"
      },
      "source": [
        "# are all values in each row less than 4?\r\n",
        "np.all(x < 8, axis=1)"
      ],
      "execution_count": 24,
      "outputs": [
        {
          "output_type": "execute_result",
          "data": {
            "text/plain": [
              "array([ True, False,  True])"
            ]
          },
          "metadata": {
            "tags": []
          },
          "execution_count": 24
        }
      ]
    },
    {
      "cell_type": "markdown",
      "metadata": {
        "id": "ovEmOUsc5qXG"
      },
      "source": [
        "### Boolean Arrays as Masks\r\n",
        "\r\n",
        "Use Boolean arrays as masks, to select particular subsets of the data themselves. Returning to our x array from before, suppose we want an array of all values in the array that are less than, say, 5:"
      ]
    },
    {
      "cell_type": "code",
      "metadata": {
        "colab": {
          "base_uri": "https://localhost:8080/"
        },
        "id": "iqWg4gkA59ks",
        "outputId": "91b830f3-adac-4e45-b38c-c5919c150a9a"
      },
      "source": [
        "print(x)"
      ],
      "execution_count": 25,
      "outputs": [
        {
          "output_type": "stream",
          "text": [
            "[[5 0 3 3]\n",
            " [7 9 3 5]\n",
            " [2 4 7 6]]\n"
          ],
          "name": "stdout"
        }
      ]
    },
    {
      "cell_type": "markdown",
      "metadata": {
        "id": "FIqoV4_M6Cm8"
      },
      "source": [
        "we can obtain a Boolean array for this condition easily, as we've already seen:"
      ]
    },
    {
      "cell_type": "code",
      "metadata": {
        "colab": {
          "base_uri": "https://localhost:8080/"
        },
        "id": "c0JLFxcW6D01",
        "outputId": "30035f65-1c08-4190-8483-b55c3f665743"
      },
      "source": [
        "x < 5"
      ],
      "execution_count": 26,
      "outputs": [
        {
          "output_type": "execute_result",
          "data": {
            "text/plain": [
              "array([[False,  True,  True,  True],\n",
              "       [False, False,  True, False],\n",
              "       [ True,  True, False, False]])"
            ]
          },
          "metadata": {
            "tags": []
          },
          "execution_count": 26
        }
      ]
    },
    {
      "cell_type": "markdown",
      "metadata": {
        "id": "j-2lj4WB6Kxc"
      },
      "source": [
        "Now to select these values from the array, we can simply index on this Boolean array; this is known as a masking operation"
      ]
    },
    {
      "cell_type": "code",
      "metadata": {
        "colab": {
          "base_uri": "https://localhost:8080/"
        },
        "id": "hOsSEX_q6LiW",
        "outputId": "463d1ff7-2088-4644-f9a2-16f1b2a8e12e"
      },
      "source": [
        "x[x < 5]"
      ],
      "execution_count": 27,
      "outputs": [
        {
          "output_type": "execute_result",
          "data": {
            "text/plain": [
              "array([0, 3, 3, 3, 2, 4])"
            ]
          },
          "metadata": {
            "tags": []
          },
          "execution_count": 27
        }
      ]
    },
    {
      "cell_type": "markdown",
      "metadata": {
        "id": "E7hWLLJf6V99"
      },
      "source": [
        "What is returned is a one-dimensional array filled with all the values that meet this condition; in other words, all the values in positions at which the mask array is True"
      ]
    },
    {
      "cell_type": "code",
      "metadata": {
        "id": "vCR-I0oH6W2o"
      },
      "source": [
        ""
      ],
      "execution_count": null,
      "outputs": []
    }
  ]
}