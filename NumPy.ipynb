{
  "nbformat": 4,
  "nbformat_minor": 0,
  "metadata": {
    "colab": {
      "name": "NumPy.ipynb",
      "provenance": [],
      "authorship_tag": "ABX9TyO/4X1Ki75MdGGc8MeP/X+4",
      "include_colab_link": true
    },
    "kernelspec": {
      "name": "python3",
      "display_name": "Python 3"
    }
  },
  "cells": [
    {
      "cell_type": "markdown",
      "metadata": {
        "id": "view-in-github",
        "colab_type": "text"
      },
      "source": [
        "<a href=\"https://colab.research.google.com/github/sunilsm7/numpy-demos/blob/main/NumPy.ipynb\" target=\"_parent\"><img src=\"https://colab.research.google.com/assets/colab-badge.svg\" alt=\"Open In Colab\"/></a>"
      ]
    },
    {
      "cell_type": "markdown",
      "metadata": {
        "id": "W4oI5GJsvhFn"
      },
      "source": [
        "# Numpy\r\n",
        "\r\n",
        "\r\n",
        "* NumPy Arrays, dtype, and shape\r\n",
        "* Common Array Operations\r\n",
        "* Reshape and Update In-Place\r\n",
        "* Combine Arrays\r\n",
        "* Create Sample Data"
      ]
    },
    {
      "cell_type": "code",
      "metadata": {
        "id": "5h503Sv2v1As"
      },
      "source": [
        "import numpy as np"
      ],
      "execution_count": 1,
      "outputs": []
    },
    {
      "cell_type": "markdown",
      "metadata": {
        "id": "SE9-rZuRv7Vs"
      },
      "source": [
        "## NumPy Arrays, dtypes, and shapes"
      ]
    },
    {
      "cell_type": "code",
      "metadata": {
        "colab": {
          "base_uri": "https://localhost:8080/"
        },
        "id": "h395LQHWv8r0",
        "outputId": "0dcd67c4-ef88-49af-d2ee-76cad13c10eb"
      },
      "source": [
        "a = np.array([1, 2, 3])\r\n",
        "print(a)\r\n",
        "print('shape: ', a.shape)\r\n",
        "print('data type: ', a.dtype)"
      ],
      "execution_count": 2,
      "outputs": [
        {
          "output_type": "stream",
          "text": [
            "[1 2 3]\n",
            "shape:  (3,)\n",
            "data type:  int64\n"
          ],
          "name": "stdout"
        }
      ]
    },
    {
      "cell_type": "code",
      "metadata": {
        "colab": {
          "base_uri": "https://localhost:8080/"
        },
        "id": "9LJK8gAVMcca",
        "outputId": "d109c203-69f7-448a-9c82-01bf1087f17f"
      },
      "source": [
        "b = np.array([[0, 2, 4], [1, 3, 5]])\r\n",
        "print(b)\r\n",
        "print('shape: ', b.shape)\r\n",
        "print('data type: ', b.dtype)"
      ],
      "execution_count": 3,
      "outputs": [
        {
          "output_type": "stream",
          "text": [
            "[[0 2 4]\n",
            " [1 3 5]]\n",
            "shape:  (2, 3)\n",
            "data type:  int64\n"
          ],
          "name": "stdout"
        }
      ]
    },
    {
      "cell_type": "code",
      "metadata": {
        "colab": {
          "base_uri": "https://localhost:8080/"
        },
        "id": "vqukh3jrM6J0",
        "outputId": "c1a6be0d-6130-4288-a1e5-ac1a57bf7351"
      },
      "source": [
        "np.zeros(5)"
      ],
      "execution_count": 4,
      "outputs": [
        {
          "output_type": "execute_result",
          "data": {
            "text/plain": [
              "array([0., 0., 0., 0., 0.])"
            ]
          },
          "metadata": {
            "tags": []
          },
          "execution_count": 4
        }
      ]
    },
    {
      "cell_type": "code",
      "metadata": {
        "colab": {
          "base_uri": "https://localhost:8080/"
        },
        "id": "dcAa080INASh",
        "outputId": "625dcbe0-5c28-488b-c563-8b84cdc0f689"
      },
      "source": [
        "np.ones(shape=(3, 4), dtype=np.int32)"
      ],
      "execution_count": 5,
      "outputs": [
        {
          "output_type": "execute_result",
          "data": {
            "text/plain": [
              "array([[1, 1, 1, 1],\n",
              "       [1, 1, 1, 1],\n",
              "       [1, 1, 1, 1]], dtype=int32)"
            ]
          },
          "metadata": {
            "tags": []
          },
          "execution_count": 5
        }
      ]
    },
    {
      "cell_type": "markdown",
      "metadata": {
        "id": "g-9fjjRpNPz1"
      },
      "source": [
        "## Common Array Operations"
      ]
    },
    {
      "cell_type": "code",
      "metadata": {
        "colab": {
          "base_uri": "https://localhost:8080/"
        },
        "id": "oAlY_84UNTDx",
        "outputId": "2dd0f51a-fe3d-4cab-a4bd-28c8a3452cdf"
      },
      "source": [
        "c = b * 0.5\r\n",
        "print(c)\r\n",
        "print('shape: ', c.shape)\r\n",
        "print('data type: ', c.dtype)"
      ],
      "execution_count": 6,
      "outputs": [
        {
          "output_type": "stream",
          "text": [
            "[[0.  1.  2. ]\n",
            " [0.5 1.5 2.5]]\n",
            "shape:  (2, 3)\n",
            "data type:  float64\n"
          ],
          "name": "stdout"
        }
      ]
    },
    {
      "cell_type": "code",
      "metadata": {
        "colab": {
          "base_uri": "https://localhost:8080/"
        },
        "id": "tgVqrenUNqcl",
        "outputId": "aabf386c-5881-4303-b3de-9f03d976e7e0"
      },
      "source": [
        "d = a + c\r\n",
        "print(d)"
      ],
      "execution_count": 7,
      "outputs": [
        {
          "output_type": "stream",
          "text": [
            "[[1.  3.  5. ]\n",
            " [1.5 3.5 5.5]]\n"
          ],
          "name": "stdout"
        }
      ]
    },
    {
      "cell_type": "code",
      "metadata": {
        "colab": {
          "base_uri": "https://localhost:8080/"
        },
        "id": "hQQd90vRNvnF",
        "outputId": "b58a5b97-adb4-4948-cc84-838617dbf644"
      },
      "source": [
        "d[0]"
      ],
      "execution_count": 8,
      "outputs": [
        {
          "output_type": "execute_result",
          "data": {
            "text/plain": [
              "array([1., 3., 5.])"
            ]
          },
          "metadata": {
            "tags": []
          },
          "execution_count": 8
        }
      ]
    },
    {
      "cell_type": "code",
      "metadata": {
        "colab": {
          "base_uri": "https://localhost:8080/"
        },
        "id": "35xhq9ueNznI",
        "outputId": "b7702643-f961-4761-c065-4ea7fa1f6519"
      },
      "source": [
        "d[0, 0]"
      ],
      "execution_count": 9,
      "outputs": [
        {
          "output_type": "execute_result",
          "data": {
            "text/plain": [
              "1.0"
            ]
          },
          "metadata": {
            "tags": []
          },
          "execution_count": 9
        }
      ]
    },
    {
      "cell_type": "code",
      "metadata": {
        "colab": {
          "base_uri": "https://localhost:8080/"
        },
        "id": "SR5QlguJN5ML",
        "outputId": "d11e473e-dc89-47d0-9347-f5c7fb61378b"
      },
      "source": [
        "d[:,0]"
      ],
      "execution_count": 10,
      "outputs": [
        {
          "output_type": "execute_result",
          "data": {
            "text/plain": [
              "array([1. , 1.5])"
            ]
          },
          "metadata": {
            "tags": []
          },
          "execution_count": 10
        }
      ]
    },
    {
      "cell_type": "code",
      "metadata": {
        "colab": {
          "base_uri": "https://localhost:8080/"
        },
        "id": "njxwohLBOEf6",
        "outputId": "fd1070c5-212c-4941-dcd0-771d9702d6dc"
      },
      "source": [
        "d.sum()"
      ],
      "execution_count": 11,
      "outputs": [
        {
          "output_type": "execute_result",
          "data": {
            "text/plain": [
              "19.5"
            ]
          },
          "metadata": {
            "tags": []
          },
          "execution_count": 11
        }
      ]
    },
    {
      "cell_type": "code",
      "metadata": {
        "colab": {
          "base_uri": "https://localhost:8080/"
        },
        "id": "vcwc7pBvOOUT",
        "outputId": "78104bfc-94a2-4a84-db06-5eacb23b4132"
      },
      "source": [
        "d.mean()"
      ],
      "execution_count": 12,
      "outputs": [
        {
          "output_type": "execute_result",
          "data": {
            "text/plain": [
              "3.25"
            ]
          },
          "metadata": {
            "tags": []
          },
          "execution_count": 12
        }
      ]
    },
    {
      "cell_type": "code",
      "metadata": {
        "colab": {
          "base_uri": "https://localhost:8080/"
        },
        "id": "3OnjJHF9OSE1",
        "outputId": "2a7627fb-8850-473f-c3a4-3a24f59bf128"
      },
      "source": [
        "d.sum(axis=0)"
      ],
      "execution_count": 13,
      "outputs": [
        {
          "output_type": "execute_result",
          "data": {
            "text/plain": [
              "array([ 2.5,  6.5, 10.5])"
            ]
          },
          "metadata": {
            "tags": []
          },
          "execution_count": 13
        }
      ]
    },
    {
      "cell_type": "code",
      "metadata": {
        "colab": {
          "base_uri": "https://localhost:8080/"
        },
        "id": "-VqpPjlOOlm1",
        "outputId": "187f43d0-0634-4ae0-be6d-2e63417d5e6f"
      },
      "source": [
        "d.mean(axis=1)"
      ],
      "execution_count": 14,
      "outputs": [
        {
          "output_type": "execute_result",
          "data": {
            "text/plain": [
              "array([3. , 3.5])"
            ]
          },
          "metadata": {
            "tags": []
          },
          "execution_count": 14
        }
      ]
    },
    {
      "cell_type": "markdown",
      "metadata": {
        "id": "wt2ytoiVO2pj"
      },
      "source": [
        "## Reshape and Update In-Place"
      ]
    },
    {
      "cell_type": "code",
      "metadata": {
        "colab": {
          "base_uri": "https://localhost:8080/"
        },
        "id": "tsQ6caUDOuEq",
        "outputId": "af143d3c-cb6d-4243-c3c8-2cec5a357e70"
      },
      "source": [
        "e = np.arange(12)\r\n",
        "print(e)"
      ],
      "execution_count": 15,
      "outputs": [
        {
          "output_type": "stream",
          "text": [
            "[ 0  1  2  3  4  5  6  7  8  9 10 11]\n"
          ],
          "name": "stdout"
        }
      ]
    },
    {
      "cell_type": "code",
      "metadata": {
        "colab": {
          "base_uri": "https://localhost:8080/"
        },
        "id": "wfsy-kzFPAyO",
        "outputId": "78b9f729-b9f6-4a81-daa0-815c3bec5680"
      },
      "source": [
        "# f is a view of contents of e\r\n",
        "f = e.reshape((3,4))\r\n",
        "print(f)"
      ],
      "execution_count": 16,
      "outputs": [
        {
          "output_type": "stream",
          "text": [
            "[[ 0  1  2  3]\n",
            " [ 4  5  6  7]\n",
            " [ 8  9 10 11]]\n"
          ],
          "name": "stdout"
        }
      ]
    },
    {
      "cell_type": "code",
      "metadata": {
        "colab": {
          "base_uri": "https://localhost:8080/"
        },
        "id": "sSWYS5BIPPKb",
        "outputId": "92d89935-60f0-47cb-b1d8-2ca948ec04d9"
      },
      "source": [
        "# Set values of e from index 5 onwards to 0\r\n",
        "e[5:] = 0\r\n",
        "print(e)"
      ],
      "execution_count": 17,
      "outputs": [
        {
          "output_type": "stream",
          "text": [
            "[0 1 2 3 4 0 0 0 0 0 0 0]\n"
          ],
          "name": "stdout"
        }
      ]
    },
    {
      "cell_type": "code",
      "metadata": {
        "colab": {
          "base_uri": "https://localhost:8080/"
        },
        "id": "UglZgEVqPaV5",
        "outputId": "83d1f6a2-3ac5-441f-9d50-0cb144dd59b9"
      },
      "source": [
        "# f is also updated\r\n",
        "f"
      ],
      "execution_count": 18,
      "outputs": [
        {
          "output_type": "execute_result",
          "data": {
            "text/plain": [
              "array([[0, 1, 2, 3],\n",
              "       [4, 0, 0, 0],\n",
              "       [0, 0, 0, 0]])"
            ]
          },
          "metadata": {
            "tags": []
          },
          "execution_count": 18
        }
      ]
    },
    {
      "cell_type": "code",
      "metadata": {
        "colab": {
          "base_uri": "https://localhost:8080/"
        },
        "id": "R2kulK0aPpEw",
        "outputId": "1e8c53aa-568c-4278-dd75-051155ed4c5b"
      },
      "source": [
        "# OWNDATA shows f does not own its data\r\n",
        "f.flags"
      ],
      "execution_count": 20,
      "outputs": [
        {
          "output_type": "execute_result",
          "data": {
            "text/plain": [
              "  C_CONTIGUOUS : True\n",
              "  F_CONTIGUOUS : False\n",
              "  OWNDATA : False\n",
              "  WRITEABLE : True\n",
              "  ALIGNED : True\n",
              "  WRITEBACKIFCOPY : False\n",
              "  UPDATEIFCOPY : False"
            ]
          },
          "metadata": {
            "tags": []
          },
          "execution_count": 20
        }
      ]
    },
    {
      "cell_type": "markdown",
      "metadata": {
        "id": "ti1t1q0rPyZp"
      },
      "source": [
        "## Combine Arrays"
      ]
    },
    {
      "cell_type": "code",
      "metadata": {
        "colab": {
          "base_uri": "https://localhost:8080/"
        },
        "id": "jSM89-7sPu2Y",
        "outputId": "94835f80-9542-483e-f1a1-efda7619b54a"
      },
      "source": [
        "a"
      ],
      "execution_count": 21,
      "outputs": [
        {
          "output_type": "execute_result",
          "data": {
            "text/plain": [
              "array([1, 2, 3])"
            ]
          },
          "metadata": {
            "tags": []
          },
          "execution_count": 21
        }
      ]
    },
    {
      "cell_type": "code",
      "metadata": {
        "colab": {
          "base_uri": "https://localhost:8080/"
        },
        "id": "tOmjxu17P3TZ",
        "outputId": "49302653-e387-4d0a-88a1-d0572f3381e3"
      },
      "source": [
        "b"
      ],
      "execution_count": 22,
      "outputs": [
        {
          "output_type": "execute_result",
          "data": {
            "text/plain": [
              "array([[0, 2, 4],\n",
              "       [1, 3, 5]])"
            ]
          },
          "metadata": {
            "tags": []
          },
          "execution_count": 22
        }
      ]
    },
    {
      "cell_type": "code",
      "metadata": {
        "colab": {
          "base_uri": "https://localhost:8080/"
        },
        "id": "P-Zvf6gZP4rI",
        "outputId": "e85d477f-a4c5-4176-dc29-1a3d3de69ccb"
      },
      "source": [
        "d"
      ],
      "execution_count": 23,
      "outputs": [
        {
          "output_type": "execute_result",
          "data": {
            "text/plain": [
              "array([[1. , 3. , 5. ],\n",
              "       [1.5, 3.5, 5.5]])"
            ]
          },
          "metadata": {
            "tags": []
          },
          "execution_count": 23
        }
      ]
    },
    {
      "cell_type": "code",
      "metadata": {
        "colab": {
          "base_uri": "https://localhost:8080/"
        },
        "id": "Hsyb0jP_P9aN",
        "outputId": "f96dce8f-924e-44e4-8b44-810d6f0be083"
      },
      "source": [
        "np.concatenate([a, a, a])"
      ],
      "execution_count": 24,
      "outputs": [
        {
          "output_type": "execute_result",
          "data": {
            "text/plain": [
              "array([1, 2, 3, 1, 2, 3, 1, 2, 3])"
            ]
          },
          "metadata": {
            "tags": []
          },
          "execution_count": 24
        }
      ]
    },
    {
      "cell_type": "code",
      "metadata": {
        "colab": {
          "base_uri": "https://localhost:8080/"
        },
        "id": "Sf1-Nq0nQEQ1",
        "outputId": "904cadcc-413f-4932-c0b8-2098c46082e7"
      },
      "source": [
        "# Use broadcasting when needed to do this automatically\r\n",
        "np.vstack([a, b, d])"
      ],
      "execution_count": 25,
      "outputs": [
        {
          "output_type": "execute_result",
          "data": {
            "text/plain": [
              "array([[1. , 2. , 3. ],\n",
              "       [0. , 2. , 4. ],\n",
              "       [1. , 3. , 5. ],\n",
              "       [1. , 3. , 5. ],\n",
              "       [1.5, 3.5, 5.5]])"
            ]
          },
          "metadata": {
            "tags": []
          },
          "execution_count": 25
        }
      ]
    },
    {
      "cell_type": "code",
      "metadata": {
        "colab": {
          "base_uri": "https://localhost:8080/"
        },
        "id": "pfrn1tIaQSy7",
        "outputId": "d3a3f0cd-efd0-4f06-b24d-dda62a330af3"
      },
      "source": [
        "# In machine learning, useful to enrich or \r\n",
        "# add new/concatenate features with hstack\r\n",
        "np.hstack([b, d])"
      ],
      "execution_count": 26,
      "outputs": [
        {
          "output_type": "execute_result",
          "data": {
            "text/plain": [
              "array([[0. , 2. , 4. , 1. , 3. , 5. ],\n",
              "       [1. , 3. , 5. , 1.5, 3.5, 5.5]])"
            ]
          },
          "metadata": {
            "tags": []
          },
          "execution_count": 26
        }
      ]
    },
    {
      "cell_type": "markdown",
      "metadata": {
        "id": "Wo5lKLuQQba3"
      },
      "source": [
        "## Create Sample Data"
      ]
    },
    {
      "cell_type": "code",
      "metadata": {
        "id": "0vKpKL4UQcoo"
      },
      "source": [
        "%matplotlib inline\r\n",
        "\r\n",
        "import pylab as plt\r\n",
        "import seaborn\r\n",
        "\r\n",
        "seaborn.set()"
      ],
      "execution_count": 27,
      "outputs": []
    },
    {
      "cell_type": "code",
      "metadata": {
        "colab": {
          "base_uri": "https://localhost:8080/",
          "height": 268
        },
        "id": "p8zKR5kjQjg_",
        "outputId": "68dc46df-0b09-42da-abde-c1e7ca4dfc13"
      },
      "source": [
        "# Create evenly spaced numbers over the specified interval\r\n",
        "x = np.linspace(0, 2, 10)\r\n",
        "plt.plot(x, 'o-');\r\n",
        "plt.show()"
      ],
      "execution_count": 28,
      "outputs": [
        {
          "output_type": "display_data",
          "data": {
            "image/png": "[encoded data removed]",
            "text/plain": [
              "<Figure size 432x288 with 1 Axes>"
            ]
          },
          "metadata": {
            "tags": []
          }
        }
      ]
    },
    {
      "cell_type": "code",
      "metadata": {
        "colab": {
          "base_uri": "https://localhost:8080/",
          "height": 268
        },
        "id": "RH1BwV7HQnwJ",
        "outputId": "29430f17-ada5-422c-b1e8-3e863d305161"
      },
      "source": [
        "# Create sample data, add some noise\r\n",
        "x = np.random.uniform(1, 100, 1000)\r\n",
        "y = np.log(x) + np.random.normal(0, .3, 1000)\r\n",
        "\r\n",
        "plt.scatter(x, y)\r\n",
        "plt.show()"
      ],
      "execution_count": 29,
      "outputs": [
        {
          "output_type": "display_data",
          "data": {
            "image/png": "[encoded data removed]",
            "text/plain": [
              "<Figure size 432x288 with 1 Axes>"
            ]
          },
          "metadata": {
            "tags": []
          }
        }
      ]
    }
  ]
}