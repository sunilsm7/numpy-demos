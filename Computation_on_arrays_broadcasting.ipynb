{
  "nbformat": 4,
  "nbformat_minor": 0,
  "metadata": {
    "colab": {
      "name": "Computation-on-arrays-broadcasting.ipynb",
      "provenance": [],
      "authorship_tag": "ABX9TyPo9G+4GbU5DjL3D+i12tLw",
      "include_colab_link": true
    },
    "kernelspec": {
      "name": "python3",
      "display_name": "Python 3"
    }
  },
  "cells": [
    {
      "cell_type": "markdown",
      "metadata": {
        "id": "view-in-github",
        "colab_type": "text"
      },
      "source": [
        "<a href=\"https://colab.research.google.com/github/sunilsm7/numpy-demos/blob/main/Computation_on_arrays_broadcasting.ipynb\" target=\"_parent\"><img src=\"https://colab.research.google.com/assets/colab-badge.svg\" alt=\"Open In Colab\"/></a>"
      ]
    },
    {
      "cell_type": "markdown",
      "metadata": {
        "id": "gTGHGjJp5lic"
      },
      "source": [
        "# Computation on Arrays: Broadcasting\r\n",
        "\r\n",
        "\r\n",
        "Broadcasting is simply a set of rules for applying binary ufuncs (e.g., addition, subtraction, multiplication, etc.) on arrays of different sizes."
      ]
    },
    {
      "cell_type": "code",
      "metadata": {
        "id": "gtBV_5bw5o_K"
      },
      "source": [
        "import numpy as np"
      ],
      "execution_count": 1,
      "outputs": []
    },
    {
      "cell_type": "markdown",
      "metadata": {
        "id": "cmq3pJqTrJLz"
      },
      "source": [
        "## Introducing Broadcasting\r\n",
        "\r\n",
        "Recall that for arrays of the same size, binary operations are performed on an element-by-element basis:"
      ]
    },
    {
      "cell_type": "code",
      "metadata": {
        "colab": {
          "base_uri": "https://localhost:8080/"
        },
        "id": "muSsN_5lrMDg",
        "outputId": "dd2ce473-a605-47dd-aacd-f1bbf0aab41a"
      },
      "source": [
        "a = np.array([0, 1, 2])\r\n",
        "b = np.array([5, 5, 5])\r\n",
        "print(a+b)"
      ],
      "execution_count": 2,
      "outputs": [
        {
          "output_type": "stream",
          "text": [
            "[5 6 7]\n"
          ],
          "name": "stdout"
        }
      ]
    },
    {
      "cell_type": "markdown",
      "metadata": {
        "id": "aC36YRssreUK"
      },
      "source": [
        "Broadcasting allows these types of binary operations to be performed on arrays of different sizes–for example, we can just as easily add a scalar (think of it as a zero-dimensional array) to an array:"
      ]
    },
    {
      "cell_type": "code",
      "metadata": {
        "colab": {
          "base_uri": "https://localhost:8080/"
        },
        "id": "ZjR7BXk7re2G",
        "outputId": "b30a4511-5c06-461d-890c-d0fe5f998eb5"
      },
      "source": [
        "a + 5"
      ],
      "execution_count": 3,
      "outputs": [
        {
          "output_type": "execute_result",
          "data": {
            "text/plain": [
              "array([5, 6, 7])"
            ]
          },
          "metadata": {
            "tags": []
          },
          "execution_count": 3
        }
      ]
    },
    {
      "cell_type": "markdown",
      "metadata": {
        "id": "rImkJTHurj3Z"
      },
      "source": [
        "We can think of this as an operation that stretches or duplicates the value `5` into the array `[5, 5, 5]`, and adds the results. The advantage of NumPy's broadcasting is that this duplication of values does not actually take place, but it is a useful mental model as we think about broadcasting.\r\n",
        "\r\n",
        "We can similarly extend this to arrays of higher dimension. Observe the result when we add a one-dimensional array to a two-dimensional array:"
      ]
    },
    {
      "cell_type": "code",
      "metadata": {
        "colab": {
          "base_uri": "https://localhost:8080/"
        },
        "id": "238Q9icVrntj",
        "outputId": "758ec481-deb4-48e6-ba23-f3a81b86aa75"
      },
      "source": [
        "M = np.ones((3, 3))\r\n",
        "print(M)"
      ],
      "execution_count": 4,
      "outputs": [
        {
          "output_type": "stream",
          "text": [
            "[[1. 1. 1.]\n",
            " [1. 1. 1.]\n",
            " [1. 1. 1.]]\n"
          ],
          "name": "stdout"
        }
      ]
    },
    {
      "cell_type": "code",
      "metadata": {
        "colab": {
          "base_uri": "https://localhost:8080/"
        },
        "id": "nUvOWW31sJNg",
        "outputId": "dd215358-8ad0-4b6a-99c2-b60fb35ad26b"
      },
      "source": [
        "M + a"
      ],
      "execution_count": 5,
      "outputs": [
        {
          "output_type": "execute_result",
          "data": {
            "text/plain": [
              "array([[1., 2., 3.],\n",
              "       [1., 2., 3.],\n",
              "       [1., 2., 3.]])"
            ]
          },
          "metadata": {
            "tags": []
          },
          "execution_count": 5
        }
      ]
    },
    {
      "cell_type": "markdown",
      "metadata": {
        "id": "sKthfD5IsPxQ"
      },
      "source": [
        "Here the one-dimensional array `a` is stretched, or broadcast across the second dimension in order to match the shape of `M`.\r\n",
        "\r\n",
        "While these examples are relatively easy to understand, more complicated cases can involve broadcasting of both arrays. Consider the following example:"
      ]
    },
    {
      "cell_type": "code",
      "metadata": {
        "colab": {
          "base_uri": "https://localhost:8080/"
        },
        "id": "Sv_rmjRXsrqw",
        "outputId": "2f89d0c0-adc2-4d0f-f8a6-3bb3b81f2137"
      },
      "source": [
        "a = np.arange(3)\r\n",
        "b = np.arange(3)[:, np.newaxis]\r\n",
        "\r\n",
        "print(a)\r\n",
        "print(b)"
      ],
      "execution_count": 6,
      "outputs": [
        {
          "output_type": "stream",
          "text": [
            "[0 1 2]\n",
            "[[0]\n",
            " [1]\n",
            " [2]]\n"
          ],
          "name": "stdout"
        }
      ]
    },
    {
      "cell_type": "code",
      "metadata": {
        "colab": {
          "base_uri": "https://localhost:8080/"
        },
        "id": "IdXKinBVs7or",
        "outputId": "066b6f8b-1069-432c-d5fb-15ec1ba8259a"
      },
      "source": [
        "a + b"
      ],
      "execution_count": 7,
      "outputs": [
        {
          "output_type": "execute_result",
          "data": {
            "text/plain": [
              "array([[0, 1, 2],\n",
              "       [1, 2, 3],\n",
              "       [2, 3, 4]])"
            ]
          },
          "metadata": {
            "tags": []
          },
          "execution_count": 7
        }
      ]
    },
    {
      "cell_type": "markdown",
      "metadata": {
        "id": "zBQ1APttuobx"
      },
      "source": [
        "Just as before we stretched or broadcasted one value to match the shape of the other, here we've stretched both a and b to match a common shape, and the result is a two-dimensional array! "
      ]
    },
    {
      "cell_type": "markdown",
      "metadata": {
        "id": "vT-Xkd2PuqPk"
      },
      "source": [
        "![image.png](data:image/png;base64,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)"
      ]
    },
    {
      "cell_type": "markdown",
      "metadata": {
        "id": "H3ZhiQ8ru4SK"
      },
      "source": [
        "## Rules of Broadcasting\r\n",
        "\r\n",
        "Broadcasting in NumPy follows a strict set of rules to determine the interaction between the two arrays:\r\n",
        "\r\n",
        "*   Rule 1: If the two arrays differ in their number of dimensions, the shape of the one with fewer dimensions is padded with ones on its leading (left) side.\r\n",
        "*   Rule 2: If the shape of the two arrays does not match in any dimension, the array with shape equal to 1 in that dimension is stretched to match the other shape.\r\n",
        "* Rule 3: If in any dimension the sizes disagree and neither is equal to 1, an error is raised.\r\n",
        "\r\n",
        "To make these rules clear, let's consider a few examples in detail.\r\n",
        "\r\n"
      ]
    },
    {
      "cell_type": "markdown",
      "metadata": {
        "id": "xAgpzoo5vMSB"
      },
      "source": [
        "**Broadcasting example 1**"
      ]
    },
    {
      "cell_type": "code",
      "metadata": {
        "id": "sZU-TkH_vN-q"
      },
      "source": [
        "M = np.ones((2, 3))\r\n",
        "a = np.arange(3)"
      ],
      "execution_count": 8,
      "outputs": []
    },
    {
      "cell_type": "markdown",
      "metadata": {
        "id": "4yVunNarwoCM"
      },
      "source": [
        "Let's consider an operation on these two arrays. The shape of the arrays are\r\n",
        "\r\n",
        "\r\n",
        "*   `M.shape = (2, 3)`\r\n",
        "*   `a.shape = (3,)`\r\n",
        "\r\n",
        "We see by rule 1 that the array a has fewer dimensions, so we pad it on the left with ones:\r\n",
        "\r\n",
        "*  `M.shape -> (2, 3)`\r\n",
        "*  `a.shape -> (1, 3)`\r\n",
        "\r\n",
        "\r\n",
        "By rule 2, we now see that the first dimension disagrees, so we stretch this dimension to match:\r\n",
        "\r\n",
        "* `M.shape -> (2, 3)`\r\n",
        "* `a.shape -> (2, 3)`\r\n",
        "\r\n",
        "\r\n",
        "The shapes match, and we see that the final shape will be `(2, 3)`:\r\n",
        "\r\n",
        "\r\n",
        "\r\n"
      ]
    },
    {
      "cell_type": "code",
      "metadata": {
        "colab": {
          "base_uri": "https://localhost:8080/"
        },
        "id": "422SkGUpw5R8",
        "outputId": "180943f3-1c1e-4a2a-caf6-7923aa263a69"
      },
      "source": [
        "M + a"
      ],
      "execution_count": 9,
      "outputs": [
        {
          "output_type": "execute_result",
          "data": {
            "text/plain": [
              "array([[1., 2., 3.],\n",
              "       [1., 2., 3.]])"
            ]
          },
          "metadata": {
            "tags": []
          },
          "execution_count": 9
        }
      ]
    },
    {
      "cell_type": "markdown",
      "metadata": {
        "id": "iYVVpnVZxGpJ"
      },
      "source": [
        "**Broadcasting example 2**\r\n",
        "\r\n",
        "Let's take a look at an example where both arrays need to be broadcast:"
      ]
    },
    {
      "cell_type": "code",
      "metadata": {
        "id": "4bFwAbRXxNwk"
      },
      "source": [
        "a = np.arange(3).reshape((3, 1))\r\n",
        "b = np.arange(3)"
      ],
      "execution_count": 10,
      "outputs": []
    },
    {
      "cell_type": "markdown",
      "metadata": {
        "id": "ZZDau8rsyU-D"
      },
      "source": [
        "Again, we'll start by writing out the shape of the arrays:\r\n",
        "\r\n",
        "* `a.shape = (3, 1)`\r\n",
        "* `b.shape = (3,)`\r\n",
        "\r\n",
        "Rule 1 says we must pad the shape of b with ones:\r\n",
        "\r\n",
        "* `a.shape -> (3, 1)`\r\n",
        "* `b.shape -> (1, 3)`\r\n",
        "\r\n",
        "And rule 2 tells us that we upgrade each of these ones to match the corresponding size of the other array:\r\n",
        "\r\n",
        "* `a.shape -> (3, 3)`\r\n",
        "* `b.shape -> (3, 3)`\r\n",
        "\r\n",
        "Because the result matches, these shapes are compatible. We can see this here:"
      ]
    },
    {
      "cell_type": "code",
      "metadata": {
        "id": "4FbzpkNAy4aB",
        "colab": {
          "base_uri": "https://localhost:8080/"
        },
        "outputId": "24dc973b-0b9b-4b26-9be0-6753659c8a17"
      },
      "source": [
        "a + b"
      ],
      "execution_count": 11,
      "outputs": [
        {
          "output_type": "execute_result",
          "data": {
            "text/plain": [
              "array([[0, 1, 2],\n",
              "       [1, 2, 3],\n",
              "       [2, 3, 4]])"
            ]
          },
          "metadata": {
            "tags": []
          },
          "execution_count": 11
        }
      ]
    },
    {
      "cell_type": "markdown",
      "metadata": {
        "id": "cklIeaDUveZU"
      },
      "source": [
        "**Broadcasting example 3**\r\n",
        "\r\n",
        "Now let's take a look at an example in which the two arrays are not compatible:"
      ]
    },
    {
      "cell_type": "code",
      "metadata": {
        "id": "q1zDTVwBvkMy"
      },
      "source": [
        "M = np.ones((3, 2))\r\n",
        "a = np.arange(3)"
      ],
      "execution_count": 12,
      "outputs": []
    },
    {
      "cell_type": "markdown",
      "metadata": {
        "id": "dAC0lnAOvsc6"
      },
      "source": [
        "This is just a slightly different situation than in the first example: the matrix `M` is transposed. How does this affect the calculation? The shape of the arrays are\r\n",
        "\r\n",
        "* `M.shape = (3, 2)`\r\n",
        "* `a.shape = (3,)`\r\n",
        "\r\n",
        "\r\n",
        "Again, rule 1 tells us that we must pad the shape of `a` with ones:\r\n",
        "\r\n",
        "* `M.shape -> (3, 2)`\r\n",
        "* `a.shape -> (1, 3)`\r\n",
        "\r\n",
        "By rule 2, the first dimension of `a` is stretched to match that of `M`:\r\n",
        "\r\n",
        "* `M.shape -> (3, 2)`\r\n",
        "* `a.shape -> (3, 3)`\r\n",
        "\r\n",
        "Now we hit rule 3–the final shapes do not match, so these two arrays are incompatible, as we can observe by attempting this operation:"
      ]
    },
    {
      "cell_type": "code",
      "metadata": {
        "colab": {
          "base_uri": "https://localhost:8080/",
          "height": 162
        },
        "id": "obHiiBQfwDQa",
        "outputId": "f18f0cfc-a897-4a67-8fd5-ef5e564ed45a"
      },
      "source": [
        "M + a"
      ],
      "execution_count": 13,
      "outputs": [
        {
          "output_type": "error",
          "ename": "ValueError",
          "evalue": "ignored",
          "traceback": [
            "\u001b[0;31m---------------------------------------------------------------------------\u001b[0m",
            "\u001b[0;31mValueError\u001b[0m                                Traceback (most recent call last)",
            "\u001b[0;32m<ipython-input-13-8cac1d547906>\u001b[0m in \u001b[0;36m<module>\u001b[0;34m()\u001b[0m\n\u001b[0;32m----> 1\u001b[0;31m \u001b[0mM\u001b[0m \u001b[0;34m+\u001b[0m \u001b[0ma\u001b[0m\u001b[0;34m\u001b[0m\u001b[0;34m\u001b[0m\u001b[0m\n\u001b[0m",
            "\u001b[0;31mValueError\u001b[0m: operands could not be broadcast together with shapes (3,2) (3,) "
          ]
        }
      ]
    },
    {
      "cell_type": "markdown",
      "metadata": {
        "id": "Vp5rt_e8wf8i"
      },
      "source": [
        "Note the potential confusion here: you could imagine making a and M compatible by, say, padding a's shape with ones on the right rather than the left. But this is not how the broadcasting rules work! That sort of flexibility might be useful in some cases, but it would lead to potential areas of ambiguity. If right-side padding is what you'd like, you can do this explicitly by reshaping the array (we'll use the np.newaxis keyword"
      ]
    },
    {
      "cell_type": "code",
      "metadata": {
        "colab": {
          "base_uri": "https://localhost:8080/"
        },
        "id": "ILpUURk6wgTl",
        "outputId": "faf27a16-8bbc-4682-a1f3-e232109f1a16"
      },
      "source": [
        "a[:, np.newaxis].shape"
      ],
      "execution_count": 14,
      "outputs": [
        {
          "output_type": "execute_result",
          "data": {
            "text/plain": [
              "(3, 1)"
            ]
          },
          "metadata": {
            "tags": []
          },
          "execution_count": 14
        }
      ]
    },
    {
      "cell_type": "markdown",
      "metadata": {
        "id": "aTvl69TZwmRS"
      },
      "source": [
        "Also note that while we've been focusing on the + operator here, these broadcasting rules apply to any binary ufunc. For example, here is the logaddexp(a, b) function, which computes log(exp(a) + exp(b)) with more precision than the naive approach:"
      ]
    },
    {
      "cell_type": "code",
      "metadata": {
        "colab": {
          "base_uri": "https://localhost:8080/"
        },
        "id": "Td89IepBwmyh",
        "outputId": "abaf2ee4-e5f7-428d-b890-cb32a148d5b0"
      },
      "source": [
        "np.logaddexp(M, a[:, np.newaxis])"
      ],
      "execution_count": 15,
      "outputs": [
        {
          "output_type": "execute_result",
          "data": {
            "text/plain": [
              "array([[1.31326169, 1.31326169],\n",
              "       [1.69314718, 1.69314718],\n",
              "       [2.31326169, 2.31326169]])"
            ]
          },
          "metadata": {
            "tags": []
          },
          "execution_count": 15
        }
      ]
    }
  ]
}